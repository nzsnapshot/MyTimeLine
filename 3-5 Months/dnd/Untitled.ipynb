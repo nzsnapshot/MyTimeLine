{
 "nbformat": 4,
 "nbformat_minor": 2,
 "metadata": {
  "language_info": {
   "name": "python",
   "codemirror_mode": {
    "name": "ipython",
    "version": 3
   },
   "version": "3.7.6-final"
  },
  "orig_nbformat": 2,
  "file_extension": ".py",
  "mimetype": "text/x-python",
  "name": "python",
  "npconvert_exporter": "python",
  "pygments_lexer": "ipython3",
  "version": 3,
  "kernelspec": {
   "name": "python37664bitenvvenv896ba39a3f584c68aa042870359dfe36",
   "display_name": "Python 3.7.6 64-bit ('env': venv)"
  }
 },
 "cells": [
  {
   "cell_type": "code",
   "execution_count": 210,
   "metadata": {},
   "outputs": [
    {
     "output_type": "stream",
     "name": "stdout",
     "text": "{'weapon_name': 'Staff', 'min_damage': 3, 'max_damage': 8, 'wep_type': 'Stick'}\n"
    }
   ],
   "source": [
    "import json\n",
    "import random\n",
    "from colour import color\n",
    "file = 'data.json'\n",
    "with open(file) as f:\n",
    "    data = json.load(f)\n",
    "\n",
    "green = color.GREEN\n",
    "red = color.RED\n",
    "end = color.END\n",
    "bold = color.BOLD\n",
    "\n",
    "\n",
    "equipment = data[\"weapons\"][0]\n",
    "ranging = equipment[\"range_weapon\"]\n",
    "ranging_count = len(ranging)\n",
    "ranging_wep = ranging[random.randrange(1,ranging_count)]\n",
    "\n",
    "melee = equipment[\"melee_weapon\"]\n",
    "melee_count = len(melee)\n",
    "melee_wep = melee[random.randrange(1,melee_count)]\n",
    "\n",
    "magic = equipment[\"magic_weapon\"]\n",
    "magic_count = len(magic)\n",
    "magic_wep = magic[random.randrange(1,magic_count)]\n",
    "magic_weapon = [magic_wep[\"weapon_name\"], magic_wep[\"min_damage\"], magic_wep[\"max_damage\"], magic_wep[\"wep_type\"]]\n",
    "weapon_choice = [ranging_wep, melee_wep, magic_wep]\n",
    "rand = random.choice(weapon_choice)\n",
    "print(rand)"
   ]
  },
  {
   "cell_type": "code",
   "execution_count": 211,
   "metadata": {},
   "outputs": [
    {
     "output_type": "stream",
     "name": "stdout",
     "text": "\n\u001b[1mAttack Style: Magic\u001b[0m\n\n\u001b[92mWeapon:\u001b[0m Staff \n\u001b[92mDamage:\u001b[0m 3 - 8\n\nYou hit: \u001b[91m\u001b[1m7\u001b[0m\n"
    }
   ],
   "source": [
    "weapon_name = f\"\\n{green}Weapon:{end} {rand['weapon_name']}\"\n",
    "weapon_damage = f\"\\n{green}Damage:{end} {rand['min_damage']} - {rand['max_damage']}\"\n",
    "weapon_min = rand['min_damage']\n",
    "weapon_max = rand['max_damage']\n",
    "random_damage = random.randrange(weapon_min, weapon_max)\n",
    "if rand == ranging_wep:\n",
    "    print(f\"\\n{bold}Attack Style: Range{end}\")\n",
    "elif rand == melee_wep:\n",
    "    print(f\"\\n{bold}Attack Style: Melee{end}\")\n",
    "elif rand == magic_wep:\n",
    "    print(f\"\\n{bold}Attack Style: Magic{end}\")\n",
    "print(weapon_name, weapon_damage)\n",
    "print(f\"\\nYou hit: {red}{bold}{random_damage}{end}\")"
   ]
  },
  {
   "cell_type": "code",
   "execution_count": null,
   "metadata": {},
   "outputs": [],
   "source": []
  }
 ]
}