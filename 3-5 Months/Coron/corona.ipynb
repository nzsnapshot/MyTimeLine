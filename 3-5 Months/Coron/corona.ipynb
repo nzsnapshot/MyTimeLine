{
 "nbformat": 4,
 "nbformat_minor": 2,
 "metadata": {
  "language_info": {
   "name": "python",
   "codemirror_mode": {
    "name": "ipython",
    "version": 3
   },
   "version": "3.7.6-final"
  },
  "orig_nbformat": 2,
  "file_extension": ".py",
  "mimetype": "text/x-python",
  "name": "python",
  "npconvert_exporter": "python",
  "pygments_lexer": "ipython3",
  "version": 3,
  "kernelspec": {
   "name": "python37664bitc4c45e446cc1498b8aec5e1c1da16cd5",
   "display_name": "Python 3.7.6 64-bit"
  }
 },
 "cells": [
  {
   "cell_type": "code",
   "execution_count": 4,
   "metadata": {},
   "outputs": [],
   "source": [
    "import numpy as np \n",
    "import pandas as pd\n",
    "import plotly.graph_objects as go\n",
    "from plotly.subplots import make_subplots"
   ]
  },
  {
   "cell_type": "code",
   "execution_count": 102,
   "metadata": {},
   "outputs": [],
   "source": [
    "# this Google spreadsheet contains up to date information on the number of confirmed cases and deaths broken\n",
    "# down by date and area. It is updated by volunteers, and runs one day behind the current date.\n",
    "url = \"/Users/Snapshot/Desktop/python/Coron/novel-coronavirus - data_adm1.csv\"\n",
    "df = pd.read_csv(url)\n",
    "df = df.fillna(0)\n",
    "df.columns = df.columns.str.replace(\"-\", \"/\")"
   ]
  },
  {
   "cell_type": "code",
   "execution_count": 105,
   "metadata": {},
   "outputs": [
    {
     "output_type": "execute_result",
     "data": {
      "text/plain": "     country  location_id         location  latitude  longitude  \\\n0  Australia          470  New South Wales   -32.330   146.7700   \n1  Australia          473       Queensland   -22.900   144.7000   \n2  Australia          474  South Australia   -29.490   135.9500   \n3  Australia          476         Victoria   -36.980   144.6400   \n4    Belgium          600         Brussels    50.836     4.3753   \n\n   confirmedcases_10/01/2020  deaths_10/01/2020  confirmedcases_11/01/2020  \\\n0                        0.0                0.0                        0.0   \n1                        0.0                0.0                        0.0   \n2                        0.0                0.0                        0.0   \n3                        0.0                0.0                        0.0   \n4                        0.0                0.0                        0.0   \n\n   deaths_11/01/2020  confirmedcases_12/01/2020  ...  \\\n0                0.0                        0.0  ...   \n1                0.0                        0.0  ...   \n2                0.0                        0.0  ...   \n3                0.0                        0.0  ...   \n4                0.0                        0.0  ...   \n\n   confirmedcases_10/02/2020  deaths_10/02/2020  confirmedcases_11/02/2020  \\\n0                        4.0                0.0                        4.0   \n1                        5.0                0.0                        5.0   \n2                        2.0                0.0                        2.0   \n3                        4.0                0.0                        4.0   \n4                        1.0                0.0                        1.0   \n\n   deaths_11/02/2020  confirmedcases_12/02/2020  deaths_12/02/2020  \\\n0                0.0                        4.0                0.0   \n1                0.0                        5.0                0.0   \n2                0.0                        2.0                0.0   \n3                0.0                        4.0                0.0   \n4                0.0                        1.0                0.0   \n\n   confirmedcases_13/02/2020  deaths_13/02/2020  confirmedcases_14/02/2020  \\\n0                        4.0                0.0                          4   \n1                        5.0                0.0                          5   \n2                        2.0                0.0                          2   \n3                        4.0                0.0                          4   \n4                        1.0                0.0                          1   \n\n   deaths_14/02/2020  \n0                0.0  \n1                0.0  \n2                0.0  \n3                0.0  \n4                0.0  \n\n[5 rows x 77 columns]",
      "text/html": "<div>\n<style scoped>\n    .dataframe tbody tr th:only-of-type {\n        vertical-align: middle;\n    }\n\n    .dataframe tbody tr th {\n        vertical-align: top;\n    }\n\n    .dataframe thead th {\n        text-align: right;\n    }\n</style>\n<table border=\"1\" class=\"dataframe\">\n  <thead>\n    <tr style=\"text-align: right;\">\n      <th></th>\n      <th>country</th>\n      <th>location_id</th>\n      <th>location</th>\n      <th>latitude</th>\n      <th>longitude</th>\n      <th>confirmedcases_10/01/2020</th>\n      <th>deaths_10/01/2020</th>\n      <th>confirmedcases_11/01/2020</th>\n      <th>deaths_11/01/2020</th>\n      <th>confirmedcases_12/01/2020</th>\n      <th>...</th>\n      <th>confirmedcases_10/02/2020</th>\n      <th>deaths_10/02/2020</th>\n      <th>confirmedcases_11/02/2020</th>\n      <th>deaths_11/02/2020</th>\n      <th>confirmedcases_12/02/2020</th>\n      <th>deaths_12/02/2020</th>\n      <th>confirmedcases_13/02/2020</th>\n      <th>deaths_13/02/2020</th>\n      <th>confirmedcases_14/02/2020</th>\n      <th>deaths_14/02/2020</th>\n    </tr>\n  </thead>\n  <tbody>\n    <tr>\n      <th>0</th>\n      <td>Australia</td>\n      <td>470</td>\n      <td>New South Wales</td>\n      <td>-32.330</td>\n      <td>146.7700</td>\n      <td>0.0</td>\n      <td>0.0</td>\n      <td>0.0</td>\n      <td>0.0</td>\n      <td>0.0</td>\n      <td>...</td>\n      <td>4.0</td>\n      <td>0.0</td>\n      <td>4.0</td>\n      <td>0.0</td>\n      <td>4.0</td>\n      <td>0.0</td>\n      <td>4.0</td>\n      <td>0.0</td>\n      <td>4</td>\n      <td>0.0</td>\n    </tr>\n    <tr>\n      <th>1</th>\n      <td>Australia</td>\n      <td>473</td>\n      <td>Queensland</td>\n      <td>-22.900</td>\n      <td>144.7000</td>\n      <td>0.0</td>\n      <td>0.0</td>\n      <td>0.0</td>\n      <td>0.0</td>\n      <td>0.0</td>\n      <td>...</td>\n      <td>5.0</td>\n      <td>0.0</td>\n      <td>5.0</td>\n      <td>0.0</td>\n      <td>5.0</td>\n      <td>0.0</td>\n      <td>5.0</td>\n      <td>0.0</td>\n      <td>5</td>\n      <td>0.0</td>\n    </tr>\n    <tr>\n      <th>2</th>\n      <td>Australia</td>\n      <td>474</td>\n      <td>South Australia</td>\n      <td>-29.490</td>\n      <td>135.9500</td>\n      <td>0.0</td>\n      <td>0.0</td>\n      <td>0.0</td>\n      <td>0.0</td>\n      <td>0.0</td>\n      <td>...</td>\n      <td>2.0</td>\n      <td>0.0</td>\n      <td>2.0</td>\n      <td>0.0</td>\n      <td>2.0</td>\n      <td>0.0</td>\n      <td>2.0</td>\n      <td>0.0</td>\n      <td>2</td>\n      <td>0.0</td>\n    </tr>\n    <tr>\n      <th>3</th>\n      <td>Australia</td>\n      <td>476</td>\n      <td>Victoria</td>\n      <td>-36.980</td>\n      <td>144.6400</td>\n      <td>0.0</td>\n      <td>0.0</td>\n      <td>0.0</td>\n      <td>0.0</td>\n      <td>0.0</td>\n      <td>...</td>\n      <td>4.0</td>\n      <td>0.0</td>\n      <td>4.0</td>\n      <td>0.0</td>\n      <td>4.0</td>\n      <td>0.0</td>\n      <td>4.0</td>\n      <td>0.0</td>\n      <td>4</td>\n      <td>0.0</td>\n    </tr>\n    <tr>\n      <th>4</th>\n      <td>Belgium</td>\n      <td>600</td>\n      <td>Brussels</td>\n      <td>50.836</td>\n      <td>4.3753</td>\n      <td>0.0</td>\n      <td>0.0</td>\n      <td>0.0</td>\n      <td>0.0</td>\n      <td>0.0</td>\n      <td>...</td>\n      <td>1.0</td>\n      <td>0.0</td>\n      <td>1.0</td>\n      <td>0.0</td>\n      <td>1.0</td>\n      <td>0.0</td>\n      <td>1.0</td>\n      <td>0.0</td>\n      <td>1</td>\n      <td>0.0</td>\n    </tr>\n  </tbody>\n</table>\n<p>5 rows × 77 columns</p>\n</div>"
     },
     "metadata": {},
     "execution_count": 105
    }
   ],
   "source": [
    "df.head()\n",
    ""
   ]
  },
  {
   "cell_type": "code",
   "execution_count": 106,
   "metadata": {},
   "outputs": [],
   "source": [
    "# extract out just the relevant geographical data and join it to another .csv which has the country codes.\n",
    "# The country codes are required for the plotting function to identify countries on the map\n",
    "geo_data_cols = [\"country\"]\n",
    "geo_data_df = df[geo_data_cols].drop_duplicates()\n",
    "c_codes_df = pd.read_csv(\n",
    "    \"country_code_mapping.csv\", usecols=[\"country\", \"alpha-3_code\"], index_col=\"country\"\n",
    ")\n",
    "geo_data_df = geo_data_df.join(c_codes_df, how=\"left\", on=\"country\").set_index(\n",
    "    \"country\"\n",
    ")\n",
    "\n",
    "dates_list = (\n",
    "    df.columns.str.extract(r\"(\\d{2}/\\d{2}/\\d{4})\", expand=False)\n",
    "    .dropna()\n",
    "    .unique()\n",
    "    .to_list()\n",
    ")\n",
    "\n",
    "# create one dataframe per day, holding the location information and aggregated cases and deaths count\n",
    "cases_by_date = {}\n",
    "for date in dates_list:\n",
    "    cases_df = (\n",
    "        df.filter(like=date, axis=1)\n",
    "        .rename(\n",
    "            columns=lambda col: \"deaths\"\n",
    "            if col.startswith(\"deaths\")\n",
    "            else \"confirmed_cases\"\n",
    "        )\n",
    "        .astype(\"uint32\")\n",
    "        .set_index(df[\"country\"])\n",
    "    )\n",
    "\n",
    "    date_df = (\n",
    "        geo_data_df.join(cases_df)\n",
    "        .groupby(\"country\")\n",
    "        .agg({\"confirmed_cases\": \"sum\", \"deaths\": \"sum\", \"alpha-3_code\": \"first\"})\n",
    "    )\n",
    "    date_df = date_df[date_df[\"confirmed_cases\"] > 0].reset_index()\n",
    "\n",
    "    cases_by_date[date] = date_df"
   ]
  },
  {
   "cell_type": "code",
   "execution_count": 107,
   "metadata": {},
   "outputs": [],
   "source": [
    "# Helper function for when we produce the frame for the map animation\n",
    "def frame_args(duration):\n",
    "    return {\n",
    "        \"frame\": {\"duration\": duration},\n",
    "        \"mode\": \"immediate\",\n",
    "        \"fromcurrent\": True,\n",
    "        \"transition\": {\"duration\": duration, \"easing\": \"linear\"},\n",
    "    }"
   ]
  },
  {
   "cell_type": "code",
   "execution_count": 108,
   "metadata": {},
   "outputs": [],
   "source": [
    "fig = make_subplots(rows=2, cols=1, specs=[[{\"type\": \"scattergeo\"}], [{\"type\": \"xy\"}]], row_heights=[0.8, 0.2])\n",
    "\n",
    "# set up the geo data, the slider, the play and pause buttons, and the title\n",
    "fig.layout.geo = {\"showcountries\": True}\n",
    "fig.layout.sliders = [{\"active\": 0, \"steps\": []}]\n",
    "fig.layout.updatemenus = [\n",
    "    {\n",
    "        \"type\": \"buttons\",\n",
    "        \"buttons\": [\n",
    "            {\n",
    "                \"label\": \"&#9654;\",  # play symbol\n",
    "                \"method\": \"animate\",\n",
    "                \"args\": [None, frame_args(250)],\n",
    "            },\n",
    "            {\n",
    "                \"label\": \"&#9724;\",\n",
    "                \"method\": \"animate\",  # stop symbol\n",
    "                \"args\": [[None], frame_args(0)],\n",
    "            },\n",
    "        ],\n",
    "        \"showactive\": False,\n",
    "        \"direction\": \"left\",\n",
    "    }\n",
    "]\n",
    "fig.layout.title = {\"text\": \"Novel Coronavirus Case Tracker\", \"x\": 0.5}"
   ]
  },
  {
   "cell_type": "code",
   "execution_count": 109,
   "metadata": {},
   "outputs": [
    {
     "output_type": "display_data",
     "data": {
      "application/vnd.plotly.v1+json": {
       "config": {
        "plotlyServerURL": "https://plot.ly"
       },
       "data": [
        {
         "colorbar": {
          "len": 0.8,
          "tickmode": "array",
          "ticks": "outside",
          "ticktext": [
           "1",
           "2",
           "7",
           "37",
           "587",
           "66,579"
          ],
          "tickvals": [
           0.6931471805599453,
           1.2071831091304142,
           2.1024265839075182,
           3.6615800099332865,
           6.376997071747834,
           11.106159511129016
          ],
          "title": {
           "text": "<b>Confirmed Cases</b>"
          },
          "y": 1,
          "yanchor": "top"
         },
         "colorscale": [
          [
           0,
           "rgb(255,245,240)"
          ],
          [
           0.125,
           "rgb(254,224,210)"
          ],
          [
           0.25,
           "rgb(252,187,161)"
          ],
          [
           0.375,
           "rgb(252,146,114)"
          ],
          [
           0.5,
           "rgb(251,106,74)"
          ],
          [
           0.625,
           "rgb(239,59,44)"
          ],
          [
           0.75,
           "rgb(203,24,29)"
          ],
          [
           0.875,
           "rgb(165,15,21)"
          ],
          [
           1,
           "rgb(103,0,13)"
          ]
         ],
         "geo": "geo",
         "hovertemplate": [
          "10/01/2020<br>China<br>Confirmed cases: 44<br>Deaths: 1"
         ],
         "locations": [
          "CHN"
         ],
         "name": "",
         "showlegend": false,
         "type": "choropleth",
         "z": [
          3.8066624897703196
         ],
         "zmax": 11.106159511129016,
         "zmin": 0.6931471805599453
        },
        {
         "hovertemplate": "%{x}<br>Total confirmed cases: %{y:,}<extra></extra>",
         "line": {
          "color": "Red"
         },
         "mode": "markers",
         "name": "Total Confirmed Cases",
         "type": "scatter",
         "x": [
          "10/01/2020",
          "11/01/2020",
          "12/01/2020",
          "13/01/2020",
          "14/01/2020",
          "15/01/2020",
          "16/01/2020",
          "17/01/2020",
          "18/01/2020",
          "19/01/2020",
          "20/01/2020",
          "21/01/2020",
          "22/01/2020",
          "23/01/2020",
          "24/01/2020",
          "25/01/2020",
          "26/01/2020",
          "27/01/2020",
          "28/01/2020",
          "29/01/2020",
          "30/01/2020",
          "31/01/2020",
          "01/02/2020",
          "02/02/2020",
          "03/02/2020",
          "04/02/2020",
          "05/02/2020",
          "06/02/2020",
          "07/02/2020",
          "08/02/2020",
          "09/02/2020",
          "10/02/2020",
          "11/02/2020",
          "12/02/2020",
          "13/02/2020",
          "14/02/2020"
         ],
         "xaxis": "x",
         "y": [
          44
         ],
         "yaxis": "y"
        },
        {
         "hovertemplate": "%{x}<br>Total deaths: %{y:,}<extra></extra>",
         "line": {
          "color": "Black"
         },
         "mode": "markers",
         "name": "Total Deaths",
         "type": "scatter",
         "x": [
          "10/01/2020",
          "11/01/2020",
          "12/01/2020",
          "13/01/2020",
          "14/01/2020",
          "15/01/2020",
          "16/01/2020",
          "17/01/2020",
          "18/01/2020",
          "19/01/2020",
          "20/01/2020",
          "21/01/2020",
          "22/01/2020",
          "23/01/2020",
          "24/01/2020",
          "25/01/2020",
          "26/01/2020",
          "27/01/2020",
          "28/01/2020",
          "29/01/2020",
          "30/01/2020",
          "31/01/2020",
          "01/02/2020",
          "02/02/2020",
          "03/02/2020",
          "04/02/2020",
          "05/02/2020",
          "06/02/2020",
          "07/02/2020",
          "08/02/2020",
          "09/02/2020",
          "10/02/2020",
          "11/02/2020",
          "12/02/2020",
          "13/02/2020",
          "14/02/2020"
         ],
         "xaxis": "x",
         "y": [
          1
         ],
         "yaxis": "y"
        }
       ],
       "frames": [
        {
         "data": [
          {
           "colorbar": {
            "len": 0.8,
            "tickmode": "array",
            "ticks": "outside",
            "ticktext": [
             "1",
             "2",
             "7",
             "37",
             "587",
             "66,579"
            ],
            "tickvals": [
             0.6931471805599453,
             1.2071831091304142,
             2.1024265839075182,
             3.6615800099332865,
             6.376997071747834,
             11.106159511129016
            ],
            "title": {
             "text": "<b>Confirmed Cases</b>"
            },
            "y": 1,
            "yanchor": "top"
           },
           "colorscale": [
            [
             0,
             "rgb(255,245,240)"
            ],
            [
             0.125,
             "rgb(254,224,210)"
            ],
            [
             0.25,
             "rgb(252,187,161)"
            ],
            [
             0.375,
             "rgb(252,146,114)"
            ],
            [
             0.5,
             "rgb(251,106,74)"
            ],
            [
             0.625,
             "rgb(239,59,44)"
            ],
            [
             0.75,
             "rgb(203,24,29)"
            ],
            [
             0.875,
             "rgb(165,15,21)"
            ],
            [
             1,
             "rgb(103,0,13)"
            ]
           ],
           "hovertemplate": [
            "10/01/2020<br>China<br>Confirmed cases: 44<br>Deaths: 1"
           ],
           "locations": [
            "CHN"
           ],
           "name": "",
           "showlegend": false,
           "type": "choropleth",
           "z": [
            3.8066624897703196
           ],
           "zmax": 11.106159511129016,
           "zmin": 0.6931471805599453
          },
          {
           "hovertemplate": "%{x}<br>Total confirmed cases: %{y:,}<extra></extra>",
           "line": {
            "color": "Red"
           },
           "mode": "markers",
           "name": "Total Confirmed Cases",
           "type": "scatter",
           "x": [
            "10/01/2020",
            "11/01/2020",
            "12/01/2020",
            "13/01/2020",
            "14/01/2020",
            "15/01/2020",
            "16/01/2020",
            "17/01/2020",
            "18/01/2020",
            "19/01/2020",
            "20/01/2020",
            "21/01/2020",
            "22/01/2020",
            "23/01/2020",
            "24/01/2020",
            "25/01/2020",
            "26/01/2020",
            "27/01/2020",
            "28/01/2020",
            "29/01/2020",
            "30/01/2020",
            "31/01/2020",
            "01/02/2020",
            "02/02/2020",
            "03/02/2020",
            "04/02/2020",
            "05/02/2020",
            "06/02/2020",
            "07/02/2020",
            "08/02/2020",
            "09/02/2020",
            "10/02/2020",
            "11/02/2020",
            "12/02/2020",
            "13/02/2020",
            "14/02/2020"
           ],
           "y": [
            44
           ]
          },
          {
           "hovertemplate": "%{x}<br>Total deaths: %{y:,}<extra></extra>",
           "line": {
            "color": "Black"
           },
           "mode": "markers",
           "name": "Total Deaths",
           "type": "scatter",
           "x": [
            "10/01/2020",
            "11/01/2020",
            "12/01/2020",
            "13/01/2020",
            "14/01/2020",
            "15/01/2020",
            "16/01/2020",
            "17/01/2020",
            "18/01/2020",
            "19/01/2020",
            "20/01/2020",
            "21/01/2020",
            "22/01/2020",
            "23/01/2020",
            "24/01/2020",
            "25/01/2020",
            "26/01/2020",
            "27/01/2020",
            "28/01/2020",
            "29/01/2020",
            "30/01/2020",
            "31/01/2020",
            "01/02/2020",
            "02/02/2020",
            "03/02/2020",
            "04/02/2020",
            "05/02/2020",
            "06/02/2020",
            "07/02/2020",
            "08/02/2020",
            "09/02/2020",
            "10/02/2020",
            "11/02/2020",
            "12/02/2020",
            "13/02/2020",
            "14/02/2020"
           ],
           "y": [
            1
           ]
          }
         ],
         "name": "10/01/2020"
        },
        {
         "data": [
          {
           "colorbar": {
            "len": 0.8,
            "tickmode": "array",
            "ticks": "outside",
            "ticktext": [
             "1",
             "2",
             "7",
             "37",
             "587",
             "66,579"
            ],
            "tickvals": [
             0.6931471805599453,
             1.2071831091304142,
             2.1024265839075182,
             3.6615800099332865,
             6.376997071747834,
             11.106159511129016
            ],
            "title": {
             "text": "<b>Confirmed Cases</b>"
            },
            "y": 1,
            "yanchor": "top"
           },
           "colorscale": [
            [
             0,
             "rgb(255,245,240)"
            ],
            [
             0.125,
             "rgb(254,224,210)"
            ],
            [
             0.25,
             "rgb(252,187,161)"
            ],
            [
             0.375,
             "rgb(252,146,114)"
            ],
            [
             0.5,
             "rgb(251,106,74)"
            ],
            [
             0.625,
             "rgb(239,59,44)"
            ],
            [
             0.75,
             "rgb(203,24,29)"
            ],
            [
             0.875,
             "rgb(165,15,21)"
            ],
            [
             1,
             "rgb(103,0,13)"
            ]
           ],
           "hovertemplate": [
            "11/01/2020<br>China<br>Confirmed cases: 44<br>Deaths: 1"
           ],
           "locations": [
            "CHN"
           ],
           "name": "",
           "showlegend": false,
           "type": "choropleth",
           "z": [
            3.8066624897703196
           ],
           "zmax": 11.106159511129016,
           "zmin": 0.6931471805599453
          },
          {
           "hovertemplate": "%{x}<br>Total confirmed cases: %{y:,}<extra></extra>",
           "line": {
            "color": "Red"
           },
           "mode": "lines",
           "name": "Total Confirmed Cases",
           "type": "scatter",
           "x": [
            "10/01/2020",
            "11/01/2020",
            "12/01/2020",
            "13/01/2020",
            "14/01/2020",
            "15/01/2020",
            "16/01/2020",
            "17/01/2020",
            "18/01/2020",
            "19/01/2020",
            "20/01/2020",
            "21/01/2020",
            "22/01/2020",
            "23/01/2020",
            "24/01/2020",
            "25/01/2020",
            "26/01/2020",
            "27/01/2020",
            "28/01/2020",
            "29/01/2020",
            "30/01/2020",
            "31/01/2020",
            "01/02/2020",
            "02/02/2020",
            "03/02/2020",
            "04/02/2020",
            "05/02/2020",
            "06/02/2020",
            "07/02/2020",
            "08/02/2020",
            "09/02/2020",
            "10/02/2020",
            "11/02/2020",
            "12/02/2020",
            "13/02/2020",
            "14/02/2020"
           ],
           "y": [
            44,
            44
           ]
          },
          {
           "hovertemplate": "%{x}<br>Total deaths: %{y:,}<extra></extra>",
           "line": {
            "color": "Black"
           },
           "mode": "lines",
           "name": "Total Deaths",
           "type": "scatter",
           "x": [
            "10/01/2020",
            "11/01/2020",
            "12/01/2020",
            "13/01/2020",
            "14/01/2020",
            "15/01/2020",
            "16/01/2020",
            "17/01/2020",
            "18/01/2020",
            "19/01/2020",
            "20/01/2020",
            "21/01/2020",
            "22/01/2020",
            "23/01/2020",
            "24/01/2020",
            "25/01/2020",
            "26/01/2020",
            "27/01/2020",
            "28/01/2020",
            "29/01/2020",
            "30/01/2020",
            "31/01/2020",
            "01/02/2020",
            "02/02/2020",
            "03/02/2020",
            "04/02/2020",
            "05/02/2020",
            "06/02/2020",
            "07/02/2020",
            "08/02/2020",
            "09/02/2020",
            "10/02/2020",
            "11/02/2020",
            "12/02/2020",
            "13/02/2020",
            "14/02/2020"
           ],
           "y": [
            1,
            1
           ]
          }
         ],
         "name": "11/01/2020"
        },
        {
         "data": [
          {
           "colorbar": {
            "len": 0.8,
            "tickmode": "array",
            "ticks": "outside",
            "ticktext": [
             "1",
             "2",
             "7",
             "37",
             "587",
             "66,579"
            ],
            "tickvals": [
             0.6931471805599453,
             1.2071831091304142,
             2.1024265839075182,
             3.6615800099332865,
             6.376997071747834,
             11.106159511129016
            ],
            "title": {
             "text": "<b>Confirmed Cases</b>"
            },
            "y": 1,
            "yanchor": "top"
           },
           "colorscale": [
            [
             0,
             "rgb(255,245,240)"
            ],
            [
             0.125,
             "rgb(254,224,210)"
            ],
            [
             0.25,
             "rgb(252,187,161)"
            ],
            [
             0.375,
             "rgb(252,146,114)"
            ],
            [
             0.5,
             "rgb(251,106,74)"
            ],
            [
             0.625,
             "rgb(239,59,44)"
            ],
            [
             0.75,
             "rgb(203,24,29)"
            ],
            [
             0.875,
             "rgb(165,15,21)"
            ],
            [
             1,
             "rgb(103,0,13)"
            ]
           ],
           "hovertemplate": [
            "12/01/2020<br>China<br>Confirmed cases: 44<br>Deaths: 1"
           ],
           "locations": [
            "CHN"
           ],
           "name": "",
           "showlegend": false,
           "type": "choropleth",
           "z": [
            3.8066624897703196
           ],
           "zmax": 11.106159511129016,
           "zmin": 0.6931471805599453
          },
          {
           "hovertemplate": "%{x}<br>Total confirmed cases: %{y:,}<extra></extra>",
           "line": {
            "color": "Red"
           },
           "mode": "lines",
           "name": "Total Confirmed Cases",
           "type": "scatter",
           "x": [
            "10/01/2020",
            "11/01/2020",
            "12/01/2020",
            "13/01/2020",
            "14/01/2020",
            "15/01/2020",
            "16/01/2020",
            "17/01/2020",
            "18/01/2020",
            "19/01/2020",
            "20/01/2020",
            "21/01/2020",
            "22/01/2020",
            "23/01/2020",
            "24/01/2020",
            "25/01/2020",
            "26/01/2020",
            "27/01/2020",
            "28/01/2020",
            "29/01/2020",
            "30/01/2020",
            "31/01/2020",
            "01/02/2020",
            "02/02/2020",
            "03/02/2020",
            "04/02/2020",
            "05/02/2020",
            "06/02/2020",
            "07/02/2020",
            "08/02/2020",
            "09/02/2020",
            "10/02/2020",
            "11/02/2020",
            "12/02/2020",
            "13/02/2020",
            "14/02/2020"
           ],
           "y": [
            44,
            44,
            44
           ]
          },
          {
           "hovertemplate": "%{x}<br>Total deaths: %{y:,}<extra></extra>",
           "line": {
            "color": "Black"
           },
           "mode": "lines",
           "name": "Total Deaths",
           "type": "scatter",
           "x": [
            "10/01/2020",
            "11/01/2020",
            "12/01/2020",
            "13/01/2020",
            "14/01/2020",
            "15/01/2020",
            "16/01/2020",
            "17/01/2020",
            "18/01/2020",
            "19/01/2020",
            "20/01/2020",
            "21/01/2020",
            "22/01/2020",
            "23/01/2020",
            "24/01/2020",
            "25/01/2020",
            "26/01/2020",
            "27/01/2020",
            "28/01/2020",
            "29/01/2020",
            "30/01/2020",
            "31/01/2020",
            "01/02/2020",
            "02/02/2020",
            "03/02/2020",
            "04/02/2020",
            "05/02/2020",
            "06/02/2020",
            "07/02/2020",
            "08/02/2020",
            "09/02/2020",
            "10/02/2020",
            "11/02/2020",
            "12/02/2020",
            "13/02/2020",
            "14/02/2020"
           ],
           "y": [
            1,
            1,
            1
           ]
          }
         ],
         "name": "12/01/2020"
        },
        {
         "data": [
          {
           "colorbar": {
            "len": 0.8,
            "tickmode": "array",
            "ticks": "outside",
            "ticktext": [
             "1",
             "2",
             "7",
             "37",
             "587",
             "66,579"
            ],
            "tickvals": [
             0.6931471805599453,
             1.2071831091304142,
             2.1024265839075182,
             3.6615800099332865,
             6.376997071747834,
             11.106159511129016
            ],
            "title": {
             "text": "<b>Confirmed Cases</b>"
            },
            "y": 1,
            "yanchor": "top"
           },
           "colorscale": [
            [
             0,
             "rgb(255,245,240)"
            ],
            [
             0.125,
             "rgb(254,224,210)"
            ],
            [
             0.25,
             "rgb(252,187,161)"
            ],
            [
             0.375,
             "rgb(252,146,114)"
            ],
            [
             0.5,
             "rgb(251,106,74)"
            ],
            [
             0.625,
             "rgb(239,59,44)"
            ],
            [
             0.75,
             "rgb(203,24,29)"
            ],
            [
             0.875,
             "rgb(165,15,21)"
            ],
            [
             1,
             "rgb(103,0,13)"
            ]
           ],
           "hovertemplate": [
            "13/01/2020<br>China<br>Confirmed cases: 44<br>Deaths: 1",
            "13/01/2020<br>Thailand<br>Confirmed cases: 1<br>Deaths: 0"
           ],
           "locations": [
            "CHN",
            "THA"
           ],
           "name": "",
           "showlegend": false,
           "type": "choropleth",
           "z": [
            3.8066624897703196,
            0.6931471805599453
           ],
           "zmax": 11.106159511129016,
           "zmin": 0.6931471805599453
          },
          {
           "hovertemplate": "%{x}<br>Total confirmed cases: %{y:,}<extra></extra>",
           "line": {
            "color": "Red"
           },
           "mode": "lines",
           "name": "Total Confirmed Cases",
           "type": "scatter",
           "x": [
            "10/01/2020",
            "11/01/2020",
            "12/01/2020",
            "13/01/2020",
            "14/01/2020",
            "15/01/2020",
            "16/01/2020",
            "17/01/2020",
            "18/01/2020",
            "19/01/2020",
            "20/01/2020",
            "21/01/2020",
            "22/01/2020",
            "23/01/2020",
            "24/01/2020",
            "25/01/2020",
            "26/01/2020",
            "27/01/2020",
            "28/01/2020",
            "29/01/2020",
            "30/01/2020",
            "31/01/2020",
            "01/02/2020",
            "02/02/2020",
            "03/02/2020",
            "04/02/2020",
            "05/02/2020",
            "06/02/2020",
            "07/02/2020",
            "08/02/2020",
            "09/02/2020",
            "10/02/2020",
            "11/02/2020",
            "12/02/2020",
            "13/02/2020",
            "14/02/2020"
           ],
           "y": [
            44,
            44,
            44,
            45
           ]
          },
          {
           "hovertemplate": "%{x}<br>Total deaths: %{y:,}<extra></extra>",
           "line": {
            "color": "Black"
           },
           "mode": "lines",
           "name": "Total Deaths",
           "type": "scatter",
           "x": [
            "10/01/2020",
            "11/01/2020",
            "12/01/2020",
            "13/01/2020",
            "14/01/2020",
            "15/01/2020",
            "16/01/2020",
            "17/01/2020",
            "18/01/2020",
            "19/01/2020",
            "20/01/2020",
            "21/01/2020",
            "22/01/2020",
            "23/01/2020",
            "24/01/2020",
            "25/01/2020",
            "26/01/2020",
            "27/01/2020",
            "28/01/2020",
            "29/01/2020",
            "30/01/2020",
            "31/01/2020",
            "01/02/2020",
            "02/02/2020",
            "03/02/2020",
            "04/02/2020",
            "05/02/2020",
            "06/02/2020",
            "07/02/2020",
            "08/02/2020",
            "09/02/2020",
            "10/02/2020",
            "11/02/2020",
            "12/02/2020",
            "13/02/2020",
            "14/02/2020"
           ],
           "y": [
            1,
            1,
            1,
            1
           ]
          }
         ],
         "name": "13/01/2020"
        },
        {
         "data": [
          {
           "colorbar": {
            "len": 0.8,
            "tickmode": "array",
            "ticks": "outside",
            "ticktext": [
             "1",
             "2",
             "7",
             "37",
             "587",
             "66,579"
            ],
            "tickvals": [
             0.6931471805599453,
             1.2071831091304142,
             2.1024265839075182,
             3.6615800099332865,
             6.376997071747834,
             11.106159511129016
            ],
            "title": {
             "text": "<b>Confirmed Cases</b>"
            },
            "y": 1,
            "yanchor": "top"
           },
           "colorscale": [
            [
             0,
             "rgb(255,245,240)"
            ],
            [
             0.125,
             "rgb(254,224,210)"
            ],
            [
             0.25,
             "rgb(252,187,161)"
            ],
            [
             0.375,
             "rgb(252,146,114)"
            ],
            [
             0.5,
             "rgb(251,106,74)"
            ],
            [
             0.625,
             "rgb(239,59,44)"
            ],
            [
             0.75,
             "rgb(203,24,29)"
            ],
            [
             0.875,
             "rgb(165,15,21)"
            ],
            [
             1,
             "rgb(103,0,13)"
            ]
           ],
           "hovertemplate": [
            "14/01/2020<br>China<br>Confirmed cases: 44<br>Deaths: 1",
            "14/01/2020<br>Thailand<br>Confirmed cases: 1<br>Deaths: 0"
           ],
           "locations": [
            "CHN",
            "THA"
           ],
           "name": "",
           "showlegend": false,
           "type": "choropleth",
           "z": [
            3.8066624897703196,
            0.6931471805599453
           ],
           "zmax": 11.106159511129016,
           "zmin": 0.6931471805599453
          },
          {
           "hovertemplate": "%{x}<br>Total confirmed cases: %{y:,}<extra></extra>",
           "line": {
            "color": "Red"
           },
           "mode": "lines",
           "name": "Total Confirmed Cases",
           "type": "scatter",
           "x": [
            "10/01/2020",
            "11/01/2020",
            "12/01/2020",
            "13/01/2020",
            "14/01/2020",
            "15/01/2020",
            "16/01/2020",
            "17/01/2020",
            "18/01/2020",
            "19/01/2020",
            "20/01/2020",
            "21/01/2020",
            "22/01/2020",
            "23/01/2020",
            "24/01/2020",
            "25/01/2020",
            "26/01/2020",
            "27/01/2020",
            "28/01/2020",
            "29/01/2020",
            "30/01/2020",
            "31/01/2020",
            "01/02/2020",
            "02/02/2020",
            "03/02/2020",
            "04/02/2020",
            "05/02/2020",
            "06/02/2020",
            "07/02/2020",
            "08/02/2020",
            "09/02/2020",
            "10/02/2020",
            "11/02/2020",
            "12/02/2020",
            "13/02/2020",
            "14/02/2020"
           ],
           "y": [
            44,
            44,
            44,
            45,
            45
           ]
          },
          {
           "hovertemplate": "%{x}<br>Total deaths: %{y:,}<extra></extra>",
           "line": {
            "color": "Black"
           },
           "mode": "lines",
           "name": "Total Deaths",
           "type": "scatter",
           "x": [
            "10/01/2020",
            "11/01/2020",
            "12/01/2020",
            "13/01/2020",
            "14/01/2020",
            "15/01/2020",
            "16/01/2020",
            "17/01/2020",
            "18/01/2020",
            "19/01/2020",
            "20/01/2020",
            "21/01/2020",
            "22/01/2020",
            "23/01/2020",
            "24/01/2020",
            "25/01/2020",
            "26/01/2020",
            "27/01/2020",
            "28/01/2020",
            "29/01/2020",
            "30/01/2020",
            "31/01/2020",
            "01/02/2020",
            "02/02/2020",
            "03/02/2020",
            "04/02/2020",
            "05/02/2020",
            "06/02/2020",
            "07/02/2020",
            "08/02/2020",
            "09/02/2020",
            "10/02/2020",
            "11/02/2020",
            "12/02/2020",
            "13/02/2020",
            "14/02/2020"
           ],
           "y": [
            1,
            1,
            1,
            1,
            1
           ]
          }
         ],
         "name": "14/01/2020"
        },
        {
         "data": [
          {
           "colorbar": {
            "len": 0.8,
            "tickmode": "array",
            "ticks": "outside",
            "ticktext": [
             "1",
             "2",
             "7",
             "37",
             "587",
             "66,579"
            ],
            "tickvals": [
             0.6931471805599453,
             1.2071831091304142,
             2.1024265839075182,
             3.6615800099332865,
             6.376997071747834,
             11.106159511129016
            ],
            "title": {
             "text": "<b>Confirmed Cases</b>"
            },
            "y": 1,
            "yanchor": "top"
           },
           "colorscale": [
            [
             0,
             "rgb(255,245,240)"
            ],
            [
             0.125,
             "rgb(254,224,210)"
            ],
            [
             0.25,
             "rgb(252,187,161)"
            ],
            [
             0.375,
             "rgb(252,146,114)"
            ],
            [
             0.5,
             "rgb(251,106,74)"
            ],
            [
             0.625,
             "rgb(239,59,44)"
            ],
            [
             0.75,
             "rgb(203,24,29)"
            ],
            [
             0.875,
             "rgb(165,15,21)"
            ],
            [
             1,
             "rgb(103,0,13)"
            ]
           ],
           "hovertemplate": [
            "15/01/2020<br>China<br>Confirmed cases: 44<br>Deaths: 2",
            "15/01/2020<br>Thailand<br>Confirmed cases: 1<br>Deaths: 0"
           ],
           "locations": [
            "CHN",
            "THA"
           ],
           "name": "",
           "showlegend": false,
           "type": "choropleth",
           "z": [
            3.8066624897703196,
            0.6931471805599453
           ],
           "zmax": 11.106159511129016,
           "zmin": 0.6931471805599453
          },
          {
           "hovertemplate": "%{x}<br>Total confirmed cases: %{y:,}<extra></extra>",
           "line": {
            "color": "Red"
           },
           "mode": "lines",
           "name": "Total Confirmed Cases",
           "type": "scatter",
           "x": [
            "10/01/2020",
            "11/01/2020",
            "12/01/2020",
            "13/01/2020",
            "14/01/2020",
            "15/01/2020",
            "16/01/2020",
            "17/01/2020",
            "18/01/2020",
            "19/01/2020",
            "20/01/2020",
            "21/01/2020",
            "22/01/2020",
            "23/01/2020",
            "24/01/2020",
            "25/01/2020",
            "26/01/2020",
            "27/01/2020",
            "28/01/2020",
            "29/01/2020",
            "30/01/2020",
            "31/01/2020",
            "01/02/2020",
            "02/02/2020",
            "03/02/2020",
            "04/02/2020",
            "05/02/2020",
            "06/02/2020",
            "07/02/2020",
            "08/02/2020",
            "09/02/2020",
            "10/02/2020",
            "11/02/2020",
            "12/02/2020",
            "13/02/2020",
            "14/02/2020"
           ],
           "y": [
            44,
            44,
            44,
            45,
            45,
            45
           ]
          },
          {
           "hovertemplate": "%{x}<br>Total deaths: %{y:,}<extra></extra>",
           "line": {
            "color": "Black"
           },
           "mode": "lines",
           "name": "Total Deaths",
           "type": "scatter",
           "x": [
            "10/01/2020",
            "11/01/2020",
            "12/01/2020",
            "13/01/2020",
            "14/01/2020",
            "15/01/2020",
            "16/01/2020",
            "17/01/2020",
            "18/01/2020",
            "19/01/2020",
            "20/01/2020",
            "21/01/2020",
            "22/01/2020",
            "23/01/2020",
            "24/01/2020",
            "25/01/2020",
            "26/01/2020",
            "27/01/2020",
            "28/01/2020",
            "29/01/2020",
            "30/01/2020",
            "31/01/2020",
            "01/02/2020",
            "02/02/2020",
            "03/02/2020",
            "04/02/2020",
            "05/02/2020",
            "06/02/2020",
            "07/02/2020",
            "08/02/2020",
            "09/02/2020",
            "10/02/2020",
            "11/02/2020",
            "12/02/2020",
            "13/02/2020",
            "14/02/2020"
           ],
           "y": [
            1,
            1,
            1,
            1,
            1,
            2
           ]
          }
         ],
         "name": "15/01/2020"
        },
        {
         "data": [
          {
           "colorbar": {
            "len": 0.8,
            "tickmode": "array",
            "ticks": "outside",
            "ticktext": [
             "1",
             "2",
             "7",
             "37",
             "587",
             "66,579"
            ],
            "tickvals": [
             0.6931471805599453,
             1.2071831091304142,
             2.1024265839075182,
             3.6615800099332865,
             6.376997071747834,
             11.106159511129016
            ],
            "title": {
             "text": "<b>Confirmed Cases</b>"
            },
            "y": 1,
            "yanchor": "top"
           },
           "colorscale": [
            [
             0,
             "rgb(255,245,240)"
            ],
            [
             0.125,
             "rgb(254,224,210)"
            ],
            [
             0.25,
             "rgb(252,187,161)"
            ],
            [
             0.375,
             "rgb(252,146,114)"
            ],
            [
             0.5,
             "rgb(251,106,74)"
            ],
            [
             0.625,
             "rgb(239,59,44)"
            ],
            [
             0.75,
             "rgb(203,24,29)"
            ],
            [
             0.875,
             "rgb(165,15,21)"
            ],
            [
             1,
             "rgb(103,0,13)"
            ]
           ],
           "hovertemplate": [
            "16/01/2020<br>China<br>Confirmed cases: 45<br>Deaths: 2",
            "16/01/2020<br>Japan<br>Confirmed cases: 1<br>Deaths: 0",
            "16/01/2020<br>Thailand<br>Confirmed cases: 1<br>Deaths: 0"
           ],
           "locations": [
            "CHN",
            "JPN",
            "THA"
           ],
           "name": "",
           "showlegend": false,
           "type": "choropleth",
           "z": [
            3.828641396489095,
            0.6931471805599453,
            0.6931471805599453
           ],
           "zmax": 11.106159511129016,
           "zmin": 0.6931471805599453
          },
          {
           "hovertemplate": "%{x}<br>Total confirmed cases: %{y:,}<extra></extra>",
           "line": {
            "color": "Red"
           },
           "mode": "lines",
           "name": "Total Confirmed Cases",
           "type": "scatter",
           "x": [
            "10/01/2020",
            "11/01/2020",
            "12/01/2020",
            "13/01/2020",
            "14/01/2020",
            "15/01/2020",
            "16/01/2020",
            "17/01/2020",
            "18/01/2020",
            "19/01/2020",
            "20/01/2020",
            "21/01/2020",
            "22/01/2020",
            "23/01/2020",
            "24/01/2020",
            "25/01/2020",
            "26/01/2020",
            "27/01/2020",
            "28/01/2020",
            "29/01/2020",
            "30/01/2020",
            "31/01/2020",
            "01/02/2020",
            "02/02/2020",
            "03/02/2020",
            "04/02/2020",
            "05/02/2020",
            "06/02/2020",
            "07/02/2020",
            "08/02/2020",
            "09/02/2020",
            "10/02/2020",
            "11/02/2020",
            "12/02/2020",
            "13/02/2020",
            "14/02/2020"
           ],
           "y": [
            44,
            44,
            44,
            45,
            45,
            45,
            47
           ]
          },
          {
           "hovertemplate": "%{x}<br>Total deaths: %{y:,}<extra></extra>",
           "line": {
            "color": "Black"
           },
           "mode": "lines",
           "name": "Total Deaths",
           "type": "scatter",
           "x": [
            "10/01/2020",
            "11/01/2020",
            "12/01/2020",
            "13/01/2020",
            "14/01/2020",
            "15/01/2020",
            "16/01/2020",
            "17/01/2020",
            "18/01/2020",
            "19/01/2020",
            "20/01/2020",
            "21/01/2020",
            "22/01/2020",
            "23/01/2020",
            "24/01/2020",
            "25/01/2020",
            "26/01/2020",
            "27/01/2020",
            "28/01/2020",
            "29/01/2020",
            "30/01/2020",
            "31/01/2020",
            "01/02/2020",
            "02/02/2020",
            "03/02/2020",
            "04/02/2020",
            "05/02/2020",
            "06/02/2020",
            "07/02/2020",
            "08/02/2020",
            "09/02/2020",
            "10/02/2020",
            "11/02/2020",
            "12/02/2020",
            "13/02/2020",
            "14/02/2020"
           ],
           "y": [
            1,
            1,
            1,
            1,
            1,
            2,
            2
           ]
          }
         ],
         "name": "16/01/2020"
        },
        {
         "data": [
          {
           "colorbar": {
            "len": 0.8,
            "tickmode": "array",
            "ticks": "outside",
            "ticktext": [
             "1",
             "2",
             "7",
             "37",
             "587",
             "66,579"
            ],
            "tickvals": [
             0.6931471805599453,
             1.2071831091304142,
             2.1024265839075182,
             3.6615800099332865,
             6.376997071747834,
             11.106159511129016
            ],
            "title": {
             "text": "<b>Confirmed Cases</b>"
            },
            "y": 1,
            "yanchor": "top"
           },
           "colorscale": [
            [
             0,
             "rgb(255,245,240)"
            ],
            [
             0.125,
             "rgb(254,224,210)"
            ],
            [
             0.25,
             "rgb(252,187,161)"
            ],
            [
             0.375,
             "rgb(252,146,114)"
            ],
            [
             0.5,
             "rgb(251,106,74)"
            ],
            [
             0.625,
             "rgb(239,59,44)"
            ],
            [
             0.75,
             "rgb(203,24,29)"
            ],
            [
             0.875,
             "rgb(165,15,21)"
            ],
            [
             1,
             "rgb(103,0,13)"
            ]
           ],
           "hovertemplate": [
            "17/01/2020<br>China<br>Confirmed cases: 62<br>Deaths: 2",
            "17/01/2020<br>Japan<br>Confirmed cases: 1<br>Deaths: 0",
            "17/01/2020<br>Thailand<br>Confirmed cases: 2<br>Deaths: 0"
           ],
           "locations": [
            "CHN",
            "JPN",
            "THA"
           ],
           "name": "",
           "showlegend": false,
           "type": "choropleth",
           "z": [
            4.143134726391533,
            0.6931471805599453,
            1.0986122886681098
           ],
           "zmax": 11.106159511129016,
           "zmin": 0.6931471805599453
          },
          {
           "hovertemplate": "%{x}<br>Total confirmed cases: %{y:,}<extra></extra>",
           "line": {
            "color": "Red"
           },
           "mode": "lines",
           "name": "Total Confirmed Cases",
           "type": "scatter",
           "x": [
            "10/01/2020",
            "11/01/2020",
            "12/01/2020",
            "13/01/2020",
            "14/01/2020",
            "15/01/2020",
            "16/01/2020",
            "17/01/2020",
            "18/01/2020",
            "19/01/2020",
            "20/01/2020",
            "21/01/2020",
            "22/01/2020",
            "23/01/2020",
            "24/01/2020",
            "25/01/2020",
            "26/01/2020",
            "27/01/2020",
            "28/01/2020",
            "29/01/2020",
            "30/01/2020",
            "31/01/2020",
            "01/02/2020",
            "02/02/2020",
            "03/02/2020",
            "04/02/2020",
            "05/02/2020",
            "06/02/2020",
            "07/02/2020",
            "08/02/2020",
            "09/02/2020",
            "10/02/2020",
            "11/02/2020",
            "12/02/2020",
            "13/02/2020",
            "14/02/2020"
           ],
           "y": [
            44,
            44,
            44,
            45,
            45,
            45,
            47,
            65
           ]
          },
          {
           "hovertemplate": "%{x}<br>Total deaths: %{y:,}<extra></extra>",
           "line": {
            "color": "Black"
           },
           "mode": "lines",
           "name": "Total Deaths",
           "type": "scatter",
           "x": [
            "10/01/2020",
            "11/01/2020",
            "12/01/2020",
            "13/01/2020",
            "14/01/2020",
            "15/01/2020",
            "16/01/2020",
            "17/01/2020",
            "18/01/2020",
            "19/01/2020",
            "20/01/2020",
            "21/01/2020",
            "22/01/2020",
            "23/01/2020",
            "24/01/2020",
            "25/01/2020",
            "26/01/2020",
            "27/01/2020",
            "28/01/2020",
            "29/01/2020",
            "30/01/2020",
            "31/01/2020",
            "01/02/2020",
            "02/02/2020",
            "03/02/2020",
            "04/02/2020",
            "05/02/2020",
            "06/02/2020",
            "07/02/2020",
            "08/02/2020",
            "09/02/2020",
            "10/02/2020",
            "11/02/2020",
            "12/02/2020",
            "13/02/2020",
            "14/02/2020"
           ],
           "y": [
            1,
            1,
            1,
            1,
            1,
            2,
            2,
            2
           ]
          }
         ],
         "name": "17/01/2020"
        },
        {
         "data": [
          {
           "colorbar": {
            "len": 0.8,
            "tickmode": "array",
            "ticks": "outside",
            "ticktext": [
             "1",
             "2",
             "7",
             "37",
             "587",
             "66,579"
            ],
            "tickvals": [
             0.6931471805599453,
             1.2071831091304142,
             2.1024265839075182,
             3.6615800099332865,
             6.376997071747834,
             11.106159511129016
            ],
            "title": {
             "text": "<b>Confirmed Cases</b>"
            },
            "y": 1,
            "yanchor": "top"
           },
           "colorscale": [
            [
             0,
             "rgb(255,245,240)"
            ],
            [
             0.125,
             "rgb(254,224,210)"
            ],
            [
             0.25,
             "rgb(252,187,161)"
            ],
            [
             0.375,
             "rgb(252,146,114)"
            ],
            [
             0.5,
             "rgb(251,106,74)"
            ],
            [
             0.625,
             "rgb(239,59,44)"
            ],
            [
             0.75,
             "rgb(203,24,29)"
            ],
            [
             0.875,
             "rgb(165,15,21)"
            ],
            [
             1,
             "rgb(103,0,13)"
            ]
           ],
           "hovertemplate": [
            "18/01/2020<br>China<br>Confirmed cases: 121<br>Deaths: 2",
            "18/01/2020<br>Japan<br>Confirmed cases: 1<br>Deaths: 0",
            "18/01/2020<br>Thailand<br>Confirmed cases: 2<br>Deaths: 0"
           ],
           "locations": [
            "CHN",
            "JPN",
            "THA"
           ],
           "name": "",
           "showlegend": false,
           "type": "choropleth",
           "z": [
            4.804021044733257,
            0.6931471805599453,
            1.0986122886681098
           ],
           "zmax": 11.106159511129016,
           "zmin": 0.6931471805599453
          },
          {
           "hovertemplate": "%{x}<br>Total confirmed cases: %{y:,}<extra></extra>",
           "line": {
            "color": "Red"
           },
           "mode": "lines",
           "name": "Total Confirmed Cases",
           "type": "scatter",
           "x": [
            "10/01/2020",
            "11/01/2020",
            "12/01/2020",
            "13/01/2020",
            "14/01/2020",
            "15/01/2020",
            "16/01/2020",
            "17/01/2020",
            "18/01/2020",
            "19/01/2020",
            "20/01/2020",
            "21/01/2020",
            "22/01/2020",
            "23/01/2020",
            "24/01/2020",
            "25/01/2020",
            "26/01/2020",
            "27/01/2020",
            "28/01/2020",
            "29/01/2020",
            "30/01/2020",
            "31/01/2020",
            "01/02/2020",
            "02/02/2020",
            "03/02/2020",
            "04/02/2020",
            "05/02/2020",
            "06/02/2020",
            "07/02/2020",
            "08/02/2020",
            "09/02/2020",
            "10/02/2020",
            "11/02/2020",
            "12/02/2020",
            "13/02/2020",
            "14/02/2020"
           ],
           "y": [
            44,
            44,
            44,
            45,
            45,
            45,
            47,
            65,
            124
           ]
          },
          {
           "hovertemplate": "%{x}<br>Total deaths: %{y:,}<extra></extra>",
           "line": {
            "color": "Black"
           },
           "mode": "lines",
           "name": "Total Deaths",
           "type": "scatter",
           "x": [
            "10/01/2020",
            "11/01/2020",
            "12/01/2020",
            "13/01/2020",
            "14/01/2020",
            "15/01/2020",
            "16/01/2020",
            "17/01/2020",
            "18/01/2020",
            "19/01/2020",
            "20/01/2020",
            "21/01/2020",
            "22/01/2020",
            "23/01/2020",
            "24/01/2020",
            "25/01/2020",
            "26/01/2020",
            "27/01/2020",
            "28/01/2020",
            "29/01/2020",
            "30/01/2020",
            "31/01/2020",
            "01/02/2020",
            "02/02/2020",
            "03/02/2020",
            "04/02/2020",
            "05/02/2020",
            "06/02/2020",
            "07/02/2020",
            "08/02/2020",
            "09/02/2020",
            "10/02/2020",
            "11/02/2020",
            "12/02/2020",
            "13/02/2020",
            "14/02/2020"
           ],
           "y": [
            1,
            1,
            1,
            1,
            1,
            2,
            2,
            2,
            2
           ]
          }
         ],
         "name": "18/01/2020"
        },
        {
         "data": [
          {
           "colorbar": {
            "len": 0.8,
            "tickmode": "array",
            "ticks": "outside",
            "ticktext": [
             "1",
             "2",
             "7",
             "37",
             "587",
             "66,579"
            ],
            "tickvals": [
             0.6931471805599453,
             1.2071831091304142,
             2.1024265839075182,
             3.6615800099332865,
             6.376997071747834,
             11.106159511129016
            ],
            "title": {
             "text": "<b>Confirmed Cases</b>"
            },
            "y": 1,
            "yanchor": "top"
           },
           "colorscale": [
            [
             0,
             "rgb(255,245,240)"
            ],
            [
             0.125,
             "rgb(254,224,210)"
            ],
            [
             0.25,
             "rgb(252,187,161)"
            ],
            [
             0.375,
             "rgb(252,146,114)"
            ],
            [
             0.5,
             "rgb(251,106,74)"
            ],
            [
             0.625,
             "rgb(239,59,44)"
            ],
            [
             0.75,
             "rgb(203,24,29)"
            ],
            [
             0.875,
             "rgb(165,15,21)"
            ],
            [
             1,
             "rgb(103,0,13)"
            ]
           ],
           "hovertemplate": [
            "19/01/2020<br>China<br>Confirmed cases: 201<br>Deaths: 3",
            "19/01/2020<br>Japan<br>Confirmed cases: 1<br>Deaths: 0",
            "19/01/2020<br>Thailand<br>Confirmed cases: 2<br>Deaths: 0"
           ],
           "locations": [
            "CHN",
            "JPN",
            "THA"
           ],
           "name": "",
           "showlegend": false,
           "type": "choropleth",
           "z": [
            5.308267697401205,
            0.6931471805599453,
            1.0986122886681098
           ],
           "zmax": 11.106159511129016,
           "zmin": 0.6931471805599453
          },
          {
           "hovertemplate": "%{x}<br>Total confirmed cases: %{y:,}<extra></extra>",
           "line": {
            "color": "Red"
           },
           "mode": "lines",
           "name": "Total Confirmed Cases",
           "type": "scatter",
           "x": [
            "10/01/2020",
            "11/01/2020",
            "12/01/2020",
            "13/01/2020",
            "14/01/2020",
            "15/01/2020",
            "16/01/2020",
            "17/01/2020",
            "18/01/2020",
            "19/01/2020",
            "20/01/2020",
            "21/01/2020",
            "22/01/2020",
            "23/01/2020",
            "24/01/2020",
            "25/01/2020",
            "26/01/2020",
            "27/01/2020",
            "28/01/2020",
            "29/01/2020",
            "30/01/2020",
            "31/01/2020",
            "01/02/2020",
            "02/02/2020",
            "03/02/2020",
            "04/02/2020",
            "05/02/2020",
            "06/02/2020",
            "07/02/2020",
            "08/02/2020",
            "09/02/2020",
            "10/02/2020",
            "11/02/2020",
            "12/02/2020",
            "13/02/2020",
            "14/02/2020"
           ],
           "y": [
            44,
            44,
            44,
            45,
            45,
            45,
            47,
            65,
            124,
            204
           ]
          },
          {
           "hovertemplate": "%{x}<br>Total deaths: %{y:,}<extra></extra>",
           "line": {
            "color": "Black"
           },
           "mode": "lines",
           "name": "Total Deaths",
           "type": "scatter",
           "x": [
            "10/01/2020",
            "11/01/2020",
            "12/01/2020",
            "13/01/2020",
            "14/01/2020",
            "15/01/2020",
            "16/01/2020",
            "17/01/2020",
            "18/01/2020",
            "19/01/2020",
            "20/01/2020",
            "21/01/2020",
            "22/01/2020",
            "23/01/2020",
            "24/01/2020",
            "25/01/2020",
            "26/01/2020",
            "27/01/2020",
            "28/01/2020",
            "29/01/2020",
            "30/01/2020",
            "31/01/2020",
            "01/02/2020",
            "02/02/2020",
            "03/02/2020",
            "04/02/2020",
            "05/02/2020",
            "06/02/2020",
            "07/02/2020",
            "08/02/2020",
            "09/02/2020",
            "10/02/2020",
            "11/02/2020",
            "12/02/2020",
            "13/02/2020",
            "14/02/2020"
           ],
           "y": [
            1,
            1,
            1,
            1,
            1,
            2,
            2,
            2,
            2,
            3
           ]
          }
         ],
         "name": "19/01/2020"
        },
        {
         "data": [
          {
           "colorbar": {
            "len": 0.8,
            "tickmode": "array",
            "ticks": "outside",
            "ticktext": [
             "1",
             "2",
             "7",
             "37",
             "587",
             "66,579"
            ],
            "tickvals": [
             0.6931471805599453,
             1.2071831091304142,
             2.1024265839075182,
             3.6615800099332865,
             6.376997071747834,
             11.106159511129016
            ],
            "title": {
             "text": "<b>Confirmed Cases</b>"
            },
            "y": 1,
            "yanchor": "top"
           },
           "colorscale": [
            [
             0,
             "rgb(255,245,240)"
            ],
            [
             0.125,
             "rgb(254,224,210)"
            ],
            [
             0.25,
             "rgb(252,187,161)"
            ],
            [
             0.375,
             "rgb(252,146,114)"
            ],
            [
             0.5,
             "rgb(251,106,74)"
            ],
            [
             0.625,
             "rgb(239,59,44)"
            ],
            [
             0.75,
             "rgb(203,24,29)"
            ],
            [
             0.875,
             "rgb(165,15,21)"
            ],
            [
             1,
             "rgb(103,0,13)"
            ]
           ],
           "hovertemplate": [
            "20/01/2020<br>China<br>Confirmed cases: 291<br>Deaths: 3",
            "20/01/2020<br>Japan<br>Confirmed cases: 1<br>Deaths: 0",
            "20/01/2020<br>South Korea<br>Confirmed cases: 1<br>Deaths: 0",
            "20/01/2020<br>Thailand<br>Confirmed cases: 2<br>Deaths: 0"
           ],
           "locations": [
            "CHN",
            "JPN",
            "KOR",
            "THA"
           ],
           "name": "",
           "showlegend": false,
           "type": "choropleth",
           "z": [
            5.676753802268282,
            0.6931471805599453,
            0.6931471805599453,
            1.0986122886681098
           ],
           "zmax": 11.106159511129016,
           "zmin": 0.6931471805599453
          },
          {
           "hovertemplate": "%{x}<br>Total confirmed cases: %{y:,}<extra></extra>",
           "line": {
            "color": "Red"
           },
           "mode": "lines",
           "name": "Total Confirmed Cases",
           "type": "scatter",
           "x": [
            "10/01/2020",
            "11/01/2020",
            "12/01/2020",
            "13/01/2020",
            "14/01/2020",
            "15/01/2020",
            "16/01/2020",
            "17/01/2020",
            "18/01/2020",
            "19/01/2020",
            "20/01/2020",
            "21/01/2020",
            "22/01/2020",
            "23/01/2020",
            "24/01/2020",
            "25/01/2020",
            "26/01/2020",
            "27/01/2020",
            "28/01/2020",
            "29/01/2020",
            "30/01/2020",
            "31/01/2020",
            "01/02/2020",
            "02/02/2020",
            "03/02/2020",
            "04/02/2020",
            "05/02/2020",
            "06/02/2020",
            "07/02/2020",
            "08/02/2020",
            "09/02/2020",
            "10/02/2020",
            "11/02/2020",
            "12/02/2020",
            "13/02/2020",
            "14/02/2020"
           ],
           "y": [
            44,
            44,
            44,
            45,
            45,
            45,
            47,
            65,
            124,
            204,
            295
           ]
          },
          {
           "hovertemplate": "%{x}<br>Total deaths: %{y:,}<extra></extra>",
           "line": {
            "color": "Black"
           },
           "mode": "lines",
           "name": "Total Deaths",
           "type": "scatter",
           "x": [
            "10/01/2020",
            "11/01/2020",
            "12/01/2020",
            "13/01/2020",
            "14/01/2020",
            "15/01/2020",
            "16/01/2020",
            "17/01/2020",
            "18/01/2020",
            "19/01/2020",
            "20/01/2020",
            "21/01/2020",
            "22/01/2020",
            "23/01/2020",
            "24/01/2020",
            "25/01/2020",
            "26/01/2020",
            "27/01/2020",
            "28/01/2020",
            "29/01/2020",
            "30/01/2020",
            "31/01/2020",
            "01/02/2020",
            "02/02/2020",
            "03/02/2020",
            "04/02/2020",
            "05/02/2020",
            "06/02/2020",
            "07/02/2020",
            "08/02/2020",
            "09/02/2020",
            "10/02/2020",
            "11/02/2020",
            "12/02/2020",
            "13/02/2020",
            "14/02/2020"
           ],
           "y": [
            1,
            1,
            1,
            1,
            1,
            2,
            2,
            2,
            2,
            3,
            3
           ]
          }
         ],
         "name": "20/01/2020"
        },
        {
         "data": [
          {
           "colorbar": {
            "len": 0.8,
            "tickmode": "array",
            "ticks": "outside",
            "ticktext": [
             "1",
             "2",
             "7",
             "37",
             "587",
             "66,579"
            ],
            "tickvals": [
             0.6931471805599453,
             1.2071831091304142,
             2.1024265839075182,
             3.6615800099332865,
             6.376997071747834,
             11.106159511129016
            ],
            "title": {
             "text": "<b>Confirmed Cases</b>"
            },
            "y": 1,
            "yanchor": "top"
           },
           "colorscale": [
            [
             0,
             "rgb(255,245,240)"
            ],
            [
             0.125,
             "rgb(254,224,210)"
            ],
            [
             0.25,
             "rgb(252,187,161)"
            ],
            [
             0.375,
             "rgb(252,146,114)"
            ],
            [
             0.5,
             "rgb(251,106,74)"
            ],
            [
             0.625,
             "rgb(239,59,44)"
            ],
            [
             0.75,
             "rgb(203,24,29)"
            ],
            [
             0.875,
             "rgb(165,15,21)"
            ],
            [
             1,
             "rgb(103,0,13)"
            ]
           ],
           "hovertemplate": [
            "21/01/2020<br>China<br>Confirmed cases: 441<br>Deaths: 9",
            "21/01/2020<br>Japan<br>Confirmed cases: 1<br>Deaths: 0",
            "21/01/2020<br>South Korea<br>Confirmed cases: 1<br>Deaths: 0",
            "21/01/2020<br>Thailand<br>Confirmed cases: 2<br>Deaths: 0",
            "21/01/2020<br>United States of America<br>Confirmed cases: 1<br>Deaths: 0"
           ],
           "locations": [
            "CHN",
            "JPN",
            "KOR",
            "THA",
            "USA"
           ],
           "name": "",
           "showlegend": false,
           "type": "choropleth",
           "z": [
            6.091309882077698,
            0.6931471805599453,
            0.6931471805599453,
            1.0986122886681098,
            0.6931471805599453
           ],
           "zmax": 11.106159511129016,
           "zmin": 0.6931471805599453
          },
          {
           "hovertemplate": "%{x}<br>Total confirmed cases: %{y:,}<extra></extra>",
           "line": {
            "color": "Red"
           },
           "mode": "lines",
           "name": "Total Confirmed Cases",
           "type": "scatter",
           "x": [
            "10/01/2020",
            "11/01/2020",
            "12/01/2020",
            "13/01/2020",
            "14/01/2020",
            "15/01/2020",
            "16/01/2020",
            "17/01/2020",
            "18/01/2020",
            "19/01/2020",
            "20/01/2020",
            "21/01/2020",
            "22/01/2020",
            "23/01/2020",
            "24/01/2020",
            "25/01/2020",
            "26/01/2020",
            "27/01/2020",
            "28/01/2020",
            "29/01/2020",
            "30/01/2020",
            "31/01/2020",
            "01/02/2020",
            "02/02/2020",
            "03/02/2020",
            "04/02/2020",
            "05/02/2020",
            "06/02/2020",
            "07/02/2020",
            "08/02/2020",
            "09/02/2020",
            "10/02/2020",
            "11/02/2020",
            "12/02/2020",
            "13/02/2020",
            "14/02/2020"
           ],
           "y": [
            44,
            44,
            44,
            45,
            45,
            45,
            47,
            65,
            124,
            204,
            295,
            446
           ]
          },
          {
           "hovertemplate": "%{x}<br>Total deaths: %{y:,}<extra></extra>",
           "line": {
            "color": "Black"
           },
           "mode": "lines",
           "name": "Total Deaths",
           "type": "scatter",
           "x": [
            "10/01/2020",
            "11/01/2020",
            "12/01/2020",
            "13/01/2020",
            "14/01/2020",
            "15/01/2020",
            "16/01/2020",
            "17/01/2020",
            "18/01/2020",
            "19/01/2020",
            "20/01/2020",
            "21/01/2020",
            "22/01/2020",
            "23/01/2020",
            "24/01/2020",
            "25/01/2020",
            "26/01/2020",
            "27/01/2020",
            "28/01/2020",
            "29/01/2020",
            "30/01/2020",
            "31/01/2020",
            "01/02/2020",
            "02/02/2020",
            "03/02/2020",
            "04/02/2020",
            "05/02/2020",
            "06/02/2020",
            "07/02/2020",
            "08/02/2020",
            "09/02/2020",
            "10/02/2020",
            "11/02/2020",
            "12/02/2020",
            "13/02/2020",
            "14/02/2020"
           ],
           "y": [
            1,
            1,
            1,
            1,
            1,
            2,
            2,
            2,
            2,
            3,
            3,
            9
           ]
          }
         ],
         "name": "21/01/2020"
        },
        {
         "data": [
          {
           "colorbar": {
            "len": 0.8,
            "tickmode": "array",
            "ticks": "outside",
            "ticktext": [
             "1",
             "2",
             "7",
             "37",
             "587",
             "66,579"
            ],
            "tickvals": [
             0.6931471805599453,
             1.2071831091304142,
             2.1024265839075182,
             3.6615800099332865,
             6.376997071747834,
             11.106159511129016
            ],
            "title": {
             "text": "<b>Confirmed Cases</b>"
            },
            "y": 1,
            "yanchor": "top"
           },
           "colorscale": [
            [
             0,
             "rgb(255,245,240)"
            ],
            [
             0.125,
             "rgb(254,224,210)"
            ],
            [
             0.25,
             "rgb(252,187,161)"
            ],
            [
             0.375,
             "rgb(252,146,114)"
            ],
            [
             0.5,
             "rgb(251,106,74)"
            ],
            [
             0.625,
             "rgb(239,59,44)"
            ],
            [
             0.75,
             "rgb(203,24,29)"
            ],
            [
             0.875,
             "rgb(165,15,21)"
            ],
            [
             1,
             "rgb(103,0,13)"
            ]
           ],
           "hovertemplate": [
            "22/01/2020<br>China<br>Confirmed cases: 562<br>Deaths: 17",
            "22/01/2020<br>Japan<br>Confirmed cases: 1<br>Deaths: 0",
            "22/01/2020<br>South Korea<br>Confirmed cases: 1<br>Deaths: 0",
            "22/01/2020<br>Thailand<br>Confirmed cases: 4<br>Deaths: 0",
            "22/01/2020<br>United States of America<br>Confirmed cases: 1<br>Deaths: 0"
           ],
           "locations": [
            "CHN",
            "JPN",
            "KOR",
            "THA",
            "USA"
           ],
           "name": "",
           "showlegend": false,
           "type": "choropleth",
           "z": [
            6.333279628139691,
            0.6931471805599453,
            0.6931471805599453,
            1.6094379124341003,
            0.6931471805599453
           ],
           "zmax": 11.106159511129016,
           "zmin": 0.6931471805599453
          },
          {
           "hovertemplate": "%{x}<br>Total confirmed cases: %{y:,}<extra></extra>",
           "line": {
            "color": "Red"
           },
           "mode": "lines",
           "name": "Total Confirmed Cases",
           "type": "scatter",
           "x": [
            "10/01/2020",
            "11/01/2020",
            "12/01/2020",
            "13/01/2020",
            "14/01/2020",
            "15/01/2020",
            "16/01/2020",
            "17/01/2020",
            "18/01/2020",
            "19/01/2020",
            "20/01/2020",
            "21/01/2020",
            "22/01/2020",
            "23/01/2020",
            "24/01/2020",
            "25/01/2020",
            "26/01/2020",
            "27/01/2020",
            "28/01/2020",
            "29/01/2020",
            "30/01/2020",
            "31/01/2020",
            "01/02/2020",
            "02/02/2020",
            "03/02/2020",
            "04/02/2020",
            "05/02/2020",
            "06/02/2020",
            "07/02/2020",
            "08/02/2020",
            "09/02/2020",
            "10/02/2020",
            "11/02/2020",
            "12/02/2020",
            "13/02/2020",
            "14/02/2020"
           ],
           "y": [
            44,
            44,
            44,
            45,
            45,
            45,
            47,
            65,
            124,
            204,
            295,
            446,
            569
           ]
          },
          {
           "hovertemplate": "%{x}<br>Total deaths: %{y:,}<extra></extra>",
           "line": {
            "color": "Black"
           },
           "mode": "lines",
           "name": "Total Deaths",
           "type": "scatter",
           "x": [
            "10/01/2020",
            "11/01/2020",
            "12/01/2020",
            "13/01/2020",
            "14/01/2020",
            "15/01/2020",
            "16/01/2020",
            "17/01/2020",
            "18/01/2020",
            "19/01/2020",
            "20/01/2020",
            "21/01/2020",
            "22/01/2020",
            "23/01/2020",
            "24/01/2020",
            "25/01/2020",
            "26/01/2020",
            "27/01/2020",
            "28/01/2020",
            "29/01/2020",
            "30/01/2020",
            "31/01/2020",
            "01/02/2020",
            "02/02/2020",
            "03/02/2020",
            "04/02/2020",
            "05/02/2020",
            "06/02/2020",
            "07/02/2020",
            "08/02/2020",
            "09/02/2020",
            "10/02/2020",
            "11/02/2020",
            "12/02/2020",
            "13/02/2020",
            "14/02/2020"
           ],
           "y": [
            1,
            1,
            1,
            1,
            1,
            2,
            2,
            2,
            2,
            3,
            3,
            9,
            17
           ]
          }
         ],
         "name": "22/01/2020"
        },
        {
         "data": [
          {
           "colorbar": {
            "len": 0.8,
            "tickmode": "array",
            "ticks": "outside",
            "ticktext": [
             "1",
             "2",
             "7",
             "37",
             "587",
             "66,579"
            ],
            "tickvals": [
             0.6931471805599453,
             1.2071831091304142,
             2.1024265839075182,
             3.6615800099332865,
             6.376997071747834,
             11.106159511129016
            ],
            "title": {
             "text": "<b>Confirmed Cases</b>"
            },
            "y": 1,
            "yanchor": "top"
           },
           "colorscale": [
            [
             0,
             "rgb(255,245,240)"
            ],
            [
             0.125,
             "rgb(254,224,210)"
            ],
            [
             0.25,
             "rgb(252,187,161)"
            ],
            [
             0.375,
             "rgb(252,146,114)"
            ],
            [
             0.5,
             "rgb(251,106,74)"
            ],
            [
             0.625,
             "rgb(239,59,44)"
            ],
            [
             0.75,
             "rgb(203,24,29)"
            ],
            [
             0.875,
             "rgb(165,15,21)"
            ],
            [
             1,
             "rgb(103,0,13)"
            ]
           ],
           "hovertemplate": [
            "23/01/2020<br>China<br>Confirmed cases: 831<br>Deaths: 26",
            "23/01/2020<br>Japan<br>Confirmed cases: 1<br>Deaths: 0",
            "23/01/2020<br>Singapore<br>Confirmed cases: 1<br>Deaths: 0",
            "23/01/2020<br>South Korea<br>Confirmed cases: 1<br>Deaths: 0",
            "23/01/2020<br>Thailand<br>Confirmed cases: 4<br>Deaths: 0",
            "23/01/2020<br>United States of America<br>Confirmed cases: 1<br>Deaths: 0",
            "23/01/2020<br>Vietnam<br>Confirmed cases: 2<br>Deaths: 0"
           ],
           "locations": [
            "CHN",
            "JPN",
            "SGP",
            "KOR",
            "THA",
            "USA",
            "VNM"
           ],
           "name": "",
           "showlegend": false,
           "type": "choropleth",
           "z": [
            6.723832440821209,
            0.6931471805599453,
            0.6931471805599453,
            0.6931471805599453,
            1.6094379124341003,
            0.6931471805599453,
            1.0986122886681098
           ],
           "zmax": 11.106159511129016,
           "zmin": 0.6931471805599453
          },
          {
           "hovertemplate": "%{x}<br>Total confirmed cases: %{y:,}<extra></extra>",
           "line": {
            "color": "Red"
           },
           "mode": "lines",
           "name": "Total Confirmed Cases",
           "type": "scatter",
           "x": [
            "10/01/2020",
            "11/01/2020",
            "12/01/2020",
            "13/01/2020",
            "14/01/2020",
            "15/01/2020",
            "16/01/2020",
            "17/01/2020",
            "18/01/2020",
            "19/01/2020",
            "20/01/2020",
            "21/01/2020",
            "22/01/2020",
            "23/01/2020",
            "24/01/2020",
            "25/01/2020",
            "26/01/2020",
            "27/01/2020",
            "28/01/2020",
            "29/01/2020",
            "30/01/2020",
            "31/01/2020",
            "01/02/2020",
            "02/02/2020",
            "03/02/2020",
            "04/02/2020",
            "05/02/2020",
            "06/02/2020",
            "07/02/2020",
            "08/02/2020",
            "09/02/2020",
            "10/02/2020",
            "11/02/2020",
            "12/02/2020",
            "13/02/2020",
            "14/02/2020"
           ],
           "y": [
            44,
            44,
            44,
            45,
            45,
            45,
            47,
            65,
            124,
            204,
            295,
            446,
            569,
            841
           ]
          },
          {
           "hovertemplate": "%{x}<br>Total deaths: %{y:,}<extra></extra>",
           "line": {
            "color": "Black"
           },
           "mode": "lines",
           "name": "Total Deaths",
           "type": "scatter",
           "x": [
            "10/01/2020",
            "11/01/2020",
            "12/01/2020",
            "13/01/2020",
            "14/01/2020",
            "15/01/2020",
            "16/01/2020",
            "17/01/2020",
            "18/01/2020",
            "19/01/2020",
            "20/01/2020",
            "21/01/2020",
            "22/01/2020",
            "23/01/2020",
            "24/01/2020",
            "25/01/2020",
            "26/01/2020",
            "27/01/2020",
            "28/01/2020",
            "29/01/2020",
            "30/01/2020",
            "31/01/2020",
            "01/02/2020",
            "02/02/2020",
            "03/02/2020",
            "04/02/2020",
            "05/02/2020",
            "06/02/2020",
            "07/02/2020",
            "08/02/2020",
            "09/02/2020",
            "10/02/2020",
            "11/02/2020",
            "12/02/2020",
            "13/02/2020",
            "14/02/2020"
           ],
           "y": [
            1,
            1,
            1,
            1,
            1,
            2,
            2,
            2,
            2,
            3,
            3,
            9,
            17,
            26
           ]
          }
         ],
         "name": "23/01/2020"
        },
        {
         "data": [
          {
           "colorbar": {
            "len": 0.8,
            "tickmode": "array",
            "ticks": "outside",
            "ticktext": [
             "1",
             "2",
             "7",
             "37",
             "587",
             "66,579"
            ],
            "tickvals": [
             0.6931471805599453,
             1.2071831091304142,
             2.1024265839075182,
             3.6615800099332865,
             6.376997071747834,
             11.106159511129016
            ],
            "title": {
             "text": "<b>Confirmed Cases</b>"
            },
            "y": 1,
            "yanchor": "top"
           },
           "colorscale": [
            [
             0,
             "rgb(255,245,240)"
            ],
            [
             0.125,
             "rgb(254,224,210)"
            ],
            [
             0.25,
             "rgb(252,187,161)"
            ],
            [
             0.375,
             "rgb(252,146,114)"
            ],
            [
             0.5,
             "rgb(251,106,74)"
            ],
            [
             0.625,
             "rgb(239,59,44)"
            ],
            [
             0.75,
             "rgb(203,24,29)"
            ],
            [
             0.875,
             "rgb(165,15,21)"
            ],
            [
             1,
             "rgb(103,0,13)"
            ]
           ],
           "hovertemplate": [
            "24/01/2020<br>China<br>Confirmed cases: 1,101<br>Deaths: 41",
            "24/01/2020<br>France<br>Confirmed cases: 3<br>Deaths: 0",
            "24/01/2020<br>Japan<br>Confirmed cases: 2<br>Deaths: 0",
            "24/01/2020<br>Nepal<br>Confirmed cases: 1<br>Deaths: 0",
            "24/01/2020<br>Singapore<br>Confirmed cases: 3<br>Deaths: 0",
            "24/01/2020<br>South Korea<br>Confirmed cases: 2<br>Deaths: 0",
            "24/01/2020<br>Thailand<br>Confirmed cases: 5<br>Deaths: 0",
            "24/01/2020<br>United States of America<br>Confirmed cases: 2<br>Deaths: 0",
            "24/01/2020<br>Vietnam<br>Confirmed cases: 2<br>Deaths: 0"
           ],
           "locations": [
            "CHN",
            "FRA",
            "JPN",
            "NPL",
            "SGP",
            "KOR",
            "THA",
            "USA",
            "VNM"
           ],
           "name": "",
           "showlegend": false,
           "type": "choropleth",
           "z": [
            7.004881989712859,
            1.3862943611198906,
            1.0986122886681098,
            0.6931471805599453,
            1.3862943611198906,
            1.0986122886681098,
            1.791759469228055,
            1.0986122886681098,
            1.0986122886681098
           ],
           "zmax": 11.106159511129016,
           "zmin": 0.6931471805599453
          },
          {
           "hovertemplate": "%{x}<br>Total confirmed cases: %{y:,}<extra></extra>",
           "line": {
            "color": "Red"
           },
           "mode": "lines",
           "name": "Total Confirmed Cases",
           "type": "scatter",
           "x": [
            "10/01/2020",
            "11/01/2020",
            "12/01/2020",
            "13/01/2020",
            "14/01/2020",
            "15/01/2020",
            "16/01/2020",
            "17/01/2020",
            "18/01/2020",
            "19/01/2020",
            "20/01/2020",
            "21/01/2020",
            "22/01/2020",
            "23/01/2020",
            "24/01/2020",
            "25/01/2020",
            "26/01/2020",
            "27/01/2020",
            "28/01/2020",
            "29/01/2020",
            "30/01/2020",
            "31/01/2020",
            "01/02/2020",
            "02/02/2020",
            "03/02/2020",
            "04/02/2020",
            "05/02/2020",
            "06/02/2020",
            "07/02/2020",
            "08/02/2020",
            "09/02/2020",
            "10/02/2020",
            "11/02/2020",
            "12/02/2020",
            "13/02/2020",
            "14/02/2020"
           ],
           "y": [
            44,
            44,
            44,
            45,
            45,
            45,
            47,
            65,
            124,
            204,
            295,
            446,
            569,
            841,
            1121
           ]
          },
          {
           "hovertemplate": "%{x}<br>Total deaths: %{y:,}<extra></extra>",
           "line": {
            "color": "Black"
           },
           "mode": "lines",
           "name": "Total Deaths",
           "type": "scatter",
           "x": [
            "10/01/2020",
            "11/01/2020",
            "12/01/2020",
            "13/01/2020",
            "14/01/2020",
            "15/01/2020",
            "16/01/2020",
            "17/01/2020",
            "18/01/2020",
            "19/01/2020",
            "20/01/2020",
            "21/01/2020",
            "22/01/2020",
            "23/01/2020",
            "24/01/2020",
            "25/01/2020",
            "26/01/2020",
            "27/01/2020",
            "28/01/2020",
            "29/01/2020",
            "30/01/2020",
            "31/01/2020",
            "01/02/2020",
            "02/02/2020",
            "03/02/2020",
            "04/02/2020",
            "05/02/2020",
            "06/02/2020",
            "07/02/2020",
            "08/02/2020",
            "09/02/2020",
            "10/02/2020",
            "11/02/2020",
            "12/02/2020",
            "13/02/2020",
            "14/02/2020"
           ],
           "y": [
            1,
            1,
            1,
            1,
            1,
            2,
            2,
            2,
            2,
            3,
            3,
            9,
            17,
            26,
            41
           ]
          }
         ],
         "name": "24/01/2020"
        },
        {
         "data": [
          {
           "colorbar": {
            "len": 0.8,
            "tickmode": "array",
            "ticks": "outside",
            "ticktext": [
             "1",
             "2",
             "7",
             "37",
             "587",
             "66,579"
            ],
            "tickvals": [
             0.6931471805599453,
             1.2071831091304142,
             2.1024265839075182,
             3.6615800099332865,
             6.376997071747834,
             11.106159511129016
            ],
            "title": {
             "text": "<b>Confirmed Cases</b>"
            },
            "y": 1,
            "yanchor": "top"
           },
           "colorscale": [
            [
             0,
             "rgb(255,245,240)"
            ],
            [
             0.125,
             "rgb(254,224,210)"
            ],
            [
             0.25,
             "rgb(252,187,161)"
            ],
            [
             0.375,
             "rgb(252,146,114)"
            ],
            [
             0.5,
             "rgb(251,106,74)"
            ],
            [
             0.625,
             "rgb(239,59,44)"
            ],
            [
             0.75,
             "rgb(203,24,29)"
            ],
            [
             0.875,
             "rgb(165,15,21)"
            ],
            [
             1,
             "rgb(103,0,13)"
            ]
           ],
           "hovertemplate": [
            "25/01/2020<br>Australia<br>Confirmed cases: 4<br>Deaths: 0",
            "25/01/2020<br>Canada<br>Confirmed cases: 1<br>Deaths: 0",
            "25/01/2020<br>China<br>Confirmed cases: 2,072<br>Deaths: 56",
            "25/01/2020<br>France<br>Confirmed cases: 3<br>Deaths: 0",
            "25/01/2020<br>Japan<br>Confirmed cases: 3<br>Deaths: 0",
            "25/01/2020<br>Malaysia<br>Confirmed cases: 4<br>Deaths: 0",
            "25/01/2020<br>Nepal<br>Confirmed cases: 1<br>Deaths: 0",
            "25/01/2020<br>Singapore<br>Confirmed cases: 4<br>Deaths: 0",
            "25/01/2020<br>South Korea<br>Confirmed cases: 2<br>Deaths: 0",
            "25/01/2020<br>Thailand<br>Confirmed cases: 7<br>Deaths: 0",
            "25/01/2020<br>United States of America<br>Confirmed cases: 2<br>Deaths: 0",
            "25/01/2020<br>Vietnam<br>Confirmed cases: 2<br>Deaths: 0"
           ],
           "locations": [
            "AUS",
            "CAN",
            "CHN",
            "FRA",
            "JPN",
            "MYS",
            "NPL",
            "SGP",
            "KOR",
            "THA",
            "USA",
            "VNM"
           ],
           "name": "",
           "showlegend": false,
           "type": "choropleth",
           "z": [
            1.6094379124341003,
            0.6931471805599453,
            7.636752112435779,
            1.3862943611198906,
            1.3862943611198906,
            1.6094379124341003,
            0.6931471805599453,
            1.6094379124341003,
            1.0986122886681098,
            2.0794415416798357,
            1.0986122886681098,
            1.0986122886681098
           ],
           "zmax": 11.106159511129016,
           "zmin": 0.6931471805599453
          },
          {
           "hovertemplate": "%{x}<br>Total confirmed cases: %{y:,}<extra></extra>",
           "line": {
            "color": "Red"
           },
           "mode": "lines",
           "name": "Total Confirmed Cases",
           "type": "scatter",
           "x": [
            "10/01/2020",
            "11/01/2020",
            "12/01/2020",
            "13/01/2020",
            "14/01/2020",
            "15/01/2020",
            "16/01/2020",
            "17/01/2020",
            "18/01/2020",
            "19/01/2020",
            "20/01/2020",
            "21/01/2020",
            "22/01/2020",
            "23/01/2020",
            "24/01/2020",
            "25/01/2020",
            "26/01/2020",
            "27/01/2020",
            "28/01/2020",
            "29/01/2020",
            "30/01/2020",
            "31/01/2020",
            "01/02/2020",
            "02/02/2020",
            "03/02/2020",
            "04/02/2020",
            "05/02/2020",
            "06/02/2020",
            "07/02/2020",
            "08/02/2020",
            "09/02/2020",
            "10/02/2020",
            "11/02/2020",
            "12/02/2020",
            "13/02/2020",
            "14/02/2020"
           ],
           "y": [
            44,
            44,
            44,
            45,
            45,
            45,
            47,
            65,
            124,
            204,
            295,
            446,
            569,
            841,
            1121,
            2105
           ]
          },
          {
           "hovertemplate": "%{x}<br>Total deaths: %{y:,}<extra></extra>",
           "line": {
            "color": "Black"
           },
           "mode": "lines",
           "name": "Total Deaths",
           "type": "scatter",
           "x": [
            "10/01/2020",
            "11/01/2020",
            "12/01/2020",
            "13/01/2020",
            "14/01/2020",
            "15/01/2020",
            "16/01/2020",
            "17/01/2020",
            "18/01/2020",
            "19/01/2020",
            "20/01/2020",
            "21/01/2020",
            "22/01/2020",
            "23/01/2020",
            "24/01/2020",
            "25/01/2020",
            "26/01/2020",
            "27/01/2020",
            "28/01/2020",
            "29/01/2020",
            "30/01/2020",
            "31/01/2020",
            "01/02/2020",
            "02/02/2020",
            "03/02/2020",
            "04/02/2020",
            "05/02/2020",
            "06/02/2020",
            "07/02/2020",
            "08/02/2020",
            "09/02/2020",
            "10/02/2020",
            "11/02/2020",
            "12/02/2020",
            "13/02/2020",
            "14/02/2020"
           ],
           "y": [
            1,
            1,
            1,
            1,
            1,
            2,
            2,
            2,
            2,
            3,
            3,
            9,
            17,
            26,
            41,
            56
           ]
          }
         ],
         "name": "25/01/2020"
        },
        {
         "data": [
          {
           "colorbar": {
            "len": 0.8,
            "tickmode": "array",
            "ticks": "outside",
            "ticktext": [
             "1",
             "2",
             "7",
             "37",
             "587",
             "66,579"
            ],
            "tickvals": [
             0.6931471805599453,
             1.2071831091304142,
             2.1024265839075182,
             3.6615800099332865,
             6.376997071747834,
             11.106159511129016
            ],
            "title": {
             "text": "<b>Confirmed Cases</b>"
            },
            "y": 1,
            "yanchor": "top"
           },
           "colorscale": [
            [
             0,
             "rgb(255,245,240)"
            ],
            [
             0.125,
             "rgb(254,224,210)"
            ],
            [
             0.25,
             "rgb(252,187,161)"
            ],
            [
             0.375,
             "rgb(252,146,114)"
            ],
            [
             0.5,
             "rgb(251,106,74)"
            ],
            [
             0.625,
             "rgb(239,59,44)"
            ],
            [
             0.75,
             "rgb(203,24,29)"
            ],
            [
             0.875,
             "rgb(165,15,21)"
            ],
            [
             1,
             "rgb(103,0,13)"
            ]
           ],
           "hovertemplate": [
            "26/01/2020<br>Australia<br>Confirmed cases: 4<br>Deaths: 0",
            "26/01/2020<br>Canada<br>Confirmed cases: 1<br>Deaths: 0",
            "26/01/2020<br>China<br>Confirmed cases: 2,826<br>Deaths: 82",
            "26/01/2020<br>France<br>Confirmed cases: 3<br>Deaths: 0",
            "26/01/2020<br>Japan<br>Confirmed cases: 4<br>Deaths: 0",
            "26/01/2020<br>Malaysia<br>Confirmed cases: 4<br>Deaths: 0",
            "26/01/2020<br>Nepal<br>Confirmed cases: 1<br>Deaths: 0",
            "26/01/2020<br>Singapore<br>Confirmed cases: 4<br>Deaths: 0",
            "26/01/2020<br>South Korea<br>Confirmed cases: 3<br>Deaths: 0",
            "26/01/2020<br>Thailand<br>Confirmed cases: 8<br>Deaths: 0",
            "26/01/2020<br>United States of America<br>Confirmed cases: 5<br>Deaths: 0",
            "26/01/2020<br>Vietnam<br>Confirmed cases: 2<br>Deaths: 0"
           ],
           "locations": [
            "AUS",
            "CAN",
            "CHN",
            "FRA",
            "JPN",
            "MYS",
            "NPL",
            "SGP",
            "KOR",
            "THA",
            "USA",
            "VNM"
           ],
           "name": "",
           "showlegend": false,
           "type": "choropleth",
           "z": [
            1.6094379124341003,
            0.6931471805599453,
            7.946971357693591,
            1.3862943611198906,
            1.6094379124341003,
            1.6094379124341003,
            0.6931471805599453,
            1.6094379124341003,
            1.3862943611198906,
            2.1972245773362196,
            1.791759469228055,
            1.0986122886681098
           ],
           "zmax": 11.106159511129016,
           "zmin": 0.6931471805599453
          },
          {
           "hovertemplate": "%{x}<br>Total confirmed cases: %{y:,}<extra></extra>",
           "line": {
            "color": "Red"
           },
           "mode": "lines",
           "name": "Total Confirmed Cases",
           "type": "scatter",
           "x": [
            "10/01/2020",
            "11/01/2020",
            "12/01/2020",
            "13/01/2020",
            "14/01/2020",
            "15/01/2020",
            "16/01/2020",
            "17/01/2020",
            "18/01/2020",
            "19/01/2020",
            "20/01/2020",
            "21/01/2020",
            "22/01/2020",
            "23/01/2020",
            "24/01/2020",
            "25/01/2020",
            "26/01/2020",
            "27/01/2020",
            "28/01/2020",
            "29/01/2020",
            "30/01/2020",
            "31/01/2020",
            "01/02/2020",
            "02/02/2020",
            "03/02/2020",
            "04/02/2020",
            "05/02/2020",
            "06/02/2020",
            "07/02/2020",
            "08/02/2020",
            "09/02/2020",
            "10/02/2020",
            "11/02/2020",
            "12/02/2020",
            "13/02/2020",
            "14/02/2020"
           ],
           "y": [
            44,
            44,
            44,
            45,
            45,
            45,
            47,
            65,
            124,
            204,
            295,
            446,
            569,
            841,
            1121,
            2105,
            2865
           ]
          },
          {
           "hovertemplate": "%{x}<br>Total deaths: %{y:,}<extra></extra>",
           "line": {
            "color": "Black"
           },
           "mode": "lines",
           "name": "Total Deaths",
           "type": "scatter",
           "x": [
            "10/01/2020",
            "11/01/2020",
            "12/01/2020",
            "13/01/2020",
            "14/01/2020",
            "15/01/2020",
            "16/01/2020",
            "17/01/2020",
            "18/01/2020",
            "19/01/2020",
            "20/01/2020",
            "21/01/2020",
            "22/01/2020",
            "23/01/2020",
            "24/01/2020",
            "25/01/2020",
            "26/01/2020",
            "27/01/2020",
            "28/01/2020",
            "29/01/2020",
            "30/01/2020",
            "31/01/2020",
            "01/02/2020",
            "02/02/2020",
            "03/02/2020",
            "04/02/2020",
            "05/02/2020",
            "06/02/2020",
            "07/02/2020",
            "08/02/2020",
            "09/02/2020",
            "10/02/2020",
            "11/02/2020",
            "12/02/2020",
            "13/02/2020",
            "14/02/2020"
           ],
           "y": [
            1,
            1,
            1,
            1,
            1,
            2,
            2,
            2,
            2,
            3,
            3,
            9,
            17,
            26,
            41,
            56,
            82
           ]
          }
         ],
         "name": "26/01/2020"
        },
        {
         "data": [
          {
           "colorbar": {
            "len": 0.8,
            "tickmode": "array",
            "ticks": "outside",
            "ticktext": [
             "1",
             "2",
             "7",
             "37",
             "587",
             "66,579"
            ],
            "tickvals": [
             0.6931471805599453,
             1.2071831091304142,
             2.1024265839075182,
             3.6615800099332865,
             6.376997071747834,
             11.106159511129016
            ],
            "title": {
             "text": "<b>Confirmed Cases</b>"
            },
            "y": 1,
            "yanchor": "top"
           },
           "colorscale": [
            [
             0,
             "rgb(255,245,240)"
            ],
            [
             0.125,
             "rgb(254,224,210)"
            ],
            [
             0.25,
             "rgb(252,187,161)"
            ],
            [
             0.375,
             "rgb(252,146,114)"
            ],
            [
             0.5,
             "rgb(251,106,74)"
            ],
            [
             0.625,
             "rgb(239,59,44)"
            ],
            [
             0.75,
             "rgb(203,24,29)"
            ],
            [
             0.875,
             "rgb(165,15,21)"
            ],
            [
             1,
             "rgb(103,0,13)"
            ]
           ],
           "hovertemplate": [
            "27/01/2020<br>Australia<br>Confirmed cases: 5<br>Deaths: 0",
            "27/01/2020<br>Cambodia<br>Confirmed cases: 1<br>Deaths: 0",
            "27/01/2020<br>Canada<br>Confirmed cases: 2<br>Deaths: 0",
            "27/01/2020<br>China<br>Confirmed cases: 4,596<br>Deaths: 106",
            "27/01/2020<br>France<br>Confirmed cases: 3<br>Deaths: 0",
            "27/01/2020<br>Germany<br>Confirmed cases: 1<br>Deaths: 0",
            "27/01/2020<br>Japan<br>Confirmed cases: 4<br>Deaths: 0",
            "27/01/2020<br>Malaysia<br>Confirmed cases: 4<br>Deaths: 0",
            "27/01/2020<br>Nepal<br>Confirmed cases: 1<br>Deaths: 0",
            "27/01/2020<br>Singapore<br>Confirmed cases: 5<br>Deaths: 0",
            "27/01/2020<br>South Korea<br>Confirmed cases: 4<br>Deaths: 0",
            "27/01/2020<br>Sri Lanka<br>Confirmed cases: 1<br>Deaths: 0",
            "27/01/2020<br>Thailand<br>Confirmed cases: 8<br>Deaths: 0",
            "27/01/2020<br>United States of America<br>Confirmed cases: 5<br>Deaths: 0",
            "27/01/2020<br>Vietnam<br>Confirmed cases: 2<br>Deaths: 0"
           ],
           "locations": [
            "AUS",
            "KHM",
            "CAN",
            "CHN",
            "FRA",
            "DEU",
            "JPN",
            "MYS",
            "NPL",
            "SGP",
            "KOR",
            "LKA",
            "THA",
            "USA",
            "VNM"
           ],
           "name": "",
           "showlegend": false,
           "type": "choropleth",
           "z": [
            1.791759469228055,
            0.6931471805599453,
            1.0986122886681098,
            8.433159195806228,
            1.3862943611198906,
            0.6931471805599453,
            1.6094379124341003,
            1.6094379124341003,
            0.6931471805599453,
            1.791759469228055,
            1.6094379124341003,
            0.6931471805599453,
            2.1972245773362196,
            1.791759469228055,
            1.0986122886681098
           ],
           "zmax": 11.106159511129016,
           "zmin": 0.6931471805599453
          },
          {
           "hovertemplate": "%{x}<br>Total confirmed cases: %{y:,}<extra></extra>",
           "line": {
            "color": "Red"
           },
           "mode": "lines",
           "name": "Total Confirmed Cases",
           "type": "scatter",
           "x": [
            "10/01/2020",
            "11/01/2020",
            "12/01/2020",
            "13/01/2020",
            "14/01/2020",
            "15/01/2020",
            "16/01/2020",
            "17/01/2020",
            "18/01/2020",
            "19/01/2020",
            "20/01/2020",
            "21/01/2020",
            "22/01/2020",
            "23/01/2020",
            "24/01/2020",
            "25/01/2020",
            "26/01/2020",
            "27/01/2020",
            "28/01/2020",
            "29/01/2020",
            "30/01/2020",
            "31/01/2020",
            "01/02/2020",
            "02/02/2020",
            "03/02/2020",
            "04/02/2020",
            "05/02/2020",
            "06/02/2020",
            "07/02/2020",
            "08/02/2020",
            "09/02/2020",
            "10/02/2020",
            "11/02/2020",
            "12/02/2020",
            "13/02/2020",
            "14/02/2020"
           ],
           "y": [
            44,
            44,
            44,
            45,
            45,
            45,
            47,
            65,
            124,
            204,
            295,
            446,
            569,
            841,
            1121,
            2105,
            2865,
            4642
           ]
          },
          {
           "hovertemplate": "%{x}<br>Total deaths: %{y:,}<extra></extra>",
           "line": {
            "color": "Black"
           },
           "mode": "lines",
           "name": "Total Deaths",
           "type": "scatter",
           "x": [
            "10/01/2020",
            "11/01/2020",
            "12/01/2020",
            "13/01/2020",
            "14/01/2020",
            "15/01/2020",
            "16/01/2020",
            "17/01/2020",
            "18/01/2020",
            "19/01/2020",
            "20/01/2020",
            "21/01/2020",
            "22/01/2020",
            "23/01/2020",
            "24/01/2020",
            "25/01/2020",
            "26/01/2020",
            "27/01/2020",
            "28/01/2020",
            "29/01/2020",
            "30/01/2020",
            "31/01/2020",
            "01/02/2020",
            "02/02/2020",
            "03/02/2020",
            "04/02/2020",
            "05/02/2020",
            "06/02/2020",
            "07/02/2020",
            "08/02/2020",
            "09/02/2020",
            "10/02/2020",
            "11/02/2020",
            "12/02/2020",
            "13/02/2020",
            "14/02/2020"
           ],
           "y": [
            1,
            1,
            1,
            1,
            1,
            2,
            2,
            2,
            2,
            3,
            3,
            9,
            17,
            26,
            41,
            56,
            82,
            106
           ]
          }
         ],
         "name": "27/01/2020"
        },
        {
         "data": [
          {
           "colorbar": {
            "len": 0.8,
            "tickmode": "array",
            "ticks": "outside",
            "ticktext": [
             "1",
             "2",
             "7",
             "37",
             "587",
             "66,579"
            ],
            "tickvals": [
             0.6931471805599453,
             1.2071831091304142,
             2.1024265839075182,
             3.6615800099332865,
             6.376997071747834,
             11.106159511129016
            ],
            "title": {
             "text": "<b>Confirmed Cases</b>"
            },
            "y": 1,
            "yanchor": "top"
           },
           "colorscale": [
            [
             0,
             "rgb(255,245,240)"
            ],
            [
             0.125,
             "rgb(254,224,210)"
            ],
            [
             0.25,
             "rgb(252,187,161)"
            ],
            [
             0.375,
             "rgb(252,146,114)"
            ],
            [
             0.5,
             "rgb(251,106,74)"
            ],
            [
             0.625,
             "rgb(239,59,44)"
            ],
            [
             0.75,
             "rgb(203,24,29)"
            ],
            [
             0.875,
             "rgb(165,15,21)"
            ],
            [
             1,
             "rgb(103,0,13)"
            ]
           ],
           "hovertemplate": [
            "28/01/2020<br>Australia<br>Confirmed cases: 5<br>Deaths: 0",
            "28/01/2020<br>Cambodia<br>Confirmed cases: 1<br>Deaths: 0",
            "28/01/2020<br>Canada<br>Confirmed cases: 3<br>Deaths: 0",
            "28/01/2020<br>China<br>Confirmed cases: 6,009<br>Deaths: 132",
            "28/01/2020<br>France<br>Confirmed cases: 4<br>Deaths: 0",
            "28/01/2020<br>Germany<br>Confirmed cases: 4<br>Deaths: 0",
            "28/01/2020<br>Japan<br>Confirmed cases: 7<br>Deaths: 0",
            "28/01/2020<br>Malaysia<br>Confirmed cases: 7<br>Deaths: 0",
            "28/01/2020<br>Nepal<br>Confirmed cases: 1<br>Deaths: 0",
            "28/01/2020<br>Singapore<br>Confirmed cases: 7<br>Deaths: 0",
            "28/01/2020<br>South Korea<br>Confirmed cases: 4<br>Deaths: 0",
            "28/01/2020<br>Sri Lanka<br>Confirmed cases: 1<br>Deaths: 0",
            "28/01/2020<br>Thailand<br>Confirmed cases: 14<br>Deaths: 0",
            "28/01/2020<br>United States of America<br>Confirmed cases: 5<br>Deaths: 0",
            "28/01/2020<br>Vietnam<br>Confirmed cases: 2<br>Deaths: 0"
           ],
           "locations": [
            "AUS",
            "KHM",
            "CAN",
            "CHN",
            "FRA",
            "DEU",
            "JPN",
            "MYS",
            "NPL",
            "SGP",
            "KOR",
            "LKA",
            "THA",
            "USA",
            "VNM"
           ],
           "name": "",
           "showlegend": false,
           "type": "choropleth",
           "z": [
            1.791759469228055,
            0.6931471805599453,
            1.3862943611198906,
            8.701180027529253,
            1.6094379124341003,
            1.6094379124341003,
            2.0794415416798357,
            2.0794415416798357,
            0.6931471805599453,
            2.0794415416798357,
            1.6094379124341003,
            0.6931471805599453,
            2.70805020110221,
            1.791759469228055,
            1.0986122886681098
           ],
           "zmax": 11.106159511129016,
           "zmin": 0.6931471805599453
          },
          {
           "hovertemplate": "%{x}<br>Total confirmed cases: %{y:,}<extra></extra>",
           "line": {
            "color": "Red"
           },
           "mode": "lines",
           "name": "Total Confirmed Cases",
           "type": "scatter",
           "x": [
            "10/01/2020",
            "11/01/2020",
            "12/01/2020",
            "13/01/2020",
            "14/01/2020",
            "15/01/2020",
            "16/01/2020",
            "17/01/2020",
            "18/01/2020",
            "19/01/2020",
            "20/01/2020",
            "21/01/2020",
            "22/01/2020",
            "23/01/2020",
            "24/01/2020",
            "25/01/2020",
            "26/01/2020",
            "27/01/2020",
            "28/01/2020",
            "29/01/2020",
            "30/01/2020",
            "31/01/2020",
            "01/02/2020",
            "02/02/2020",
            "03/02/2020",
            "04/02/2020",
            "05/02/2020",
            "06/02/2020",
            "07/02/2020",
            "08/02/2020",
            "09/02/2020",
            "10/02/2020",
            "11/02/2020",
            "12/02/2020",
            "13/02/2020",
            "14/02/2020"
           ],
           "y": [
            44,
            44,
            44,
            45,
            45,
            45,
            47,
            65,
            124,
            204,
            295,
            446,
            569,
            841,
            1121,
            2105,
            2865,
            4642,
            6074
           ]
          },
          {
           "hovertemplate": "%{x}<br>Total deaths: %{y:,}<extra></extra>",
           "line": {
            "color": "Black"
           },
           "mode": "lines",
           "name": "Total Deaths",
           "type": "scatter",
           "x": [
            "10/01/2020",
            "11/01/2020",
            "12/01/2020",
            "13/01/2020",
            "14/01/2020",
            "15/01/2020",
            "16/01/2020",
            "17/01/2020",
            "18/01/2020",
            "19/01/2020",
            "20/01/2020",
            "21/01/2020",
            "22/01/2020",
            "23/01/2020",
            "24/01/2020",
            "25/01/2020",
            "26/01/2020",
            "27/01/2020",
            "28/01/2020",
            "29/01/2020",
            "30/01/2020",
            "31/01/2020",
            "01/02/2020",
            "02/02/2020",
            "03/02/2020",
            "04/02/2020",
            "05/02/2020",
            "06/02/2020",
            "07/02/2020",
            "08/02/2020",
            "09/02/2020",
            "10/02/2020",
            "11/02/2020",
            "12/02/2020",
            "13/02/2020",
            "14/02/2020"
           ],
           "y": [
            1,
            1,
            1,
            1,
            1,
            2,
            2,
            2,
            2,
            3,
            3,
            9,
            17,
            26,
            41,
            56,
            82,
            106,
            132
           ]
          }
         ],
         "name": "28/01/2020"
        },
        {
         "data": [
          {
           "colorbar": {
            "len": 0.8,
            "tickmode": "array",
            "ticks": "outside",
            "ticktext": [
             "1",
             "2",
             "7",
             "37",
             "587",
             "66,579"
            ],
            "tickvals": [
             0.6931471805599453,
             1.2071831091304142,
             2.1024265839075182,
             3.6615800099332865,
             6.376997071747834,
             11.106159511129016
            ],
            "title": {
             "text": "<b>Confirmed Cases</b>"
            },
            "y": 1,
            "yanchor": "top"
           },
           "colorscale": [
            [
             0,
             "rgb(255,245,240)"
            ],
            [
             0.125,
             "rgb(254,224,210)"
            ],
            [
             0.25,
             "rgb(252,187,161)"
            ],
            [
             0.375,
             "rgb(252,146,114)"
            ],
            [
             0.5,
             "rgb(251,106,74)"
            ],
            [
             0.625,
             "rgb(239,59,44)"
            ],
            [
             0.75,
             "rgb(203,24,29)"
            ],
            [
             0.875,
             "rgb(165,15,21)"
            ],
            [
             1,
             "rgb(103,0,13)"
            ]
           ],
           "hovertemplate": [
            "29/01/2020<br>Australia<br>Confirmed cases: 7<br>Deaths: 0",
            "29/01/2020<br>Cambodia<br>Confirmed cases: 1<br>Deaths: 0",
            "29/01/2020<br>Canada<br>Confirmed cases: 3<br>Deaths: 0",
            "29/01/2020<br>China<br>Confirmed cases: 7,722<br>Deaths: 170",
            "29/01/2020<br>Finland<br>Confirmed cases: 1<br>Deaths: 0",
            "29/01/2020<br>France<br>Confirmed cases: 5<br>Deaths: 0",
            "29/01/2020<br>Germany<br>Confirmed cases: 4<br>Deaths: 0",
            "29/01/2020<br>Japan<br>Confirmed cases: 9<br>Deaths: 0",
            "29/01/2020<br>Malaysia<br>Confirmed cases: 7<br>Deaths: 0",
            "29/01/2020<br>Nepal<br>Confirmed cases: 1<br>Deaths: 0",
            "29/01/2020<br>Singapore<br>Confirmed cases: 10<br>Deaths: 0",
            "29/01/2020<br>South Korea<br>Confirmed cases: 4<br>Deaths: 0",
            "29/01/2020<br>Sri Lanka<br>Confirmed cases: 1<br>Deaths: 0",
            "29/01/2020<br>Thailand<br>Confirmed cases: 14<br>Deaths: 0",
            "29/01/2020<br>United Arab Emirates<br>Confirmed cases: 4<br>Deaths: 0",
            "29/01/2020<br>United States of America<br>Confirmed cases: 5<br>Deaths: 0",
            "29/01/2020<br>Vietnam<br>Confirmed cases: 2<br>Deaths: 0"
           ],
           "locations": [
            "AUS",
            "KHM",
            "CAN",
            "CHN",
            "FIN",
            "FRA",
            "DEU",
            "JPN",
            "MYS",
            "NPL",
            "SGP",
            "KOR",
            "LKA",
            "THA",
            "ARE",
            "USA",
            "VNM"
           ],
           "name": "",
           "showlegend": false,
           "type": "choropleth",
           "z": [
            2.0794415416798357,
            0.6931471805599453,
            1.3862943611198906,
            8.951958168569265,
            0.6931471805599453,
            1.791759469228055,
            1.6094379124341003,
            2.302585092994046,
            2.0794415416798357,
            0.6931471805599453,
            2.3978952727983707,
            1.6094379124341003,
            0.6931471805599453,
            2.70805020110221,
            1.6094379124341003,
            1.791759469228055,
            1.0986122886681098
           ],
           "zmax": 11.106159511129016,
           "zmin": 0.6931471805599453
          },
          {
           "hovertemplate": "%{x}<br>Total confirmed cases: %{y:,}<extra></extra>",
           "line": {
            "color": "Red"
           },
           "mode": "lines",
           "name": "Total Confirmed Cases",
           "type": "scatter",
           "x": [
            "10/01/2020",
            "11/01/2020",
            "12/01/2020",
            "13/01/2020",
            "14/01/2020",
            "15/01/2020",
            "16/01/2020",
            "17/01/2020",
            "18/01/2020",
            "19/01/2020",
            "20/01/2020",
            "21/01/2020",
            "22/01/2020",
            "23/01/2020",
            "24/01/2020",
            "25/01/2020",
            "26/01/2020",
            "27/01/2020",
            "28/01/2020",
            "29/01/2020",
            "30/01/2020",
            "31/01/2020",
            "01/02/2020",
            "02/02/2020",
            "03/02/2020",
            "04/02/2020",
            "05/02/2020",
            "06/02/2020",
            "07/02/2020",
            "08/02/2020",
            "09/02/2020",
            "10/02/2020",
            "11/02/2020",
            "12/02/2020",
            "13/02/2020",
            "14/02/2020"
           ],
           "y": [
            44,
            44,
            44,
            45,
            45,
            45,
            47,
            65,
            124,
            204,
            295,
            446,
            569,
            841,
            1121,
            2105,
            2865,
            4642,
            6074,
            7800
           ]
          },
          {
           "hovertemplate": "%{x}<br>Total deaths: %{y:,}<extra></extra>",
           "line": {
            "color": "Black"
           },
           "mode": "lines",
           "name": "Total Deaths",
           "type": "scatter",
           "x": [
            "10/01/2020",
            "11/01/2020",
            "12/01/2020",
            "13/01/2020",
            "14/01/2020",
            "15/01/2020",
            "16/01/2020",
            "17/01/2020",
            "18/01/2020",
            "19/01/2020",
            "20/01/2020",
            "21/01/2020",
            "22/01/2020",
            "23/01/2020",
            "24/01/2020",
            "25/01/2020",
            "26/01/2020",
            "27/01/2020",
            "28/01/2020",
            "29/01/2020",
            "30/01/2020",
            "31/01/2020",
            "01/02/2020",
            "02/02/2020",
            "03/02/2020",
            "04/02/2020",
            "05/02/2020",
            "06/02/2020",
            "07/02/2020",
            "08/02/2020",
            "09/02/2020",
            "10/02/2020",
            "11/02/2020",
            "12/02/2020",
            "13/02/2020",
            "14/02/2020"
           ],
           "y": [
            1,
            1,
            1,
            1,
            1,
            2,
            2,
            2,
            2,
            3,
            3,
            9,
            17,
            26,
            41,
            56,
            82,
            106,
            132,
            170
           ]
          }
         ],
         "name": "29/01/2020"
        },
        {
         "data": [
          {
           "colorbar": {
            "len": 0.8,
            "tickmode": "array",
            "ticks": "outside",
            "ticktext": [
             "1",
             "2",
             "7",
             "37",
             "587",
             "66,579"
            ],
            "tickvals": [
             0.6931471805599453,
             1.2071831091304142,
             2.1024265839075182,
             3.6615800099332865,
             6.376997071747834,
             11.106159511129016
            ],
            "title": {
             "text": "<b>Confirmed Cases</b>"
            },
            "y": 1,
            "yanchor": "top"
           },
           "colorscale": [
            [
             0,
             "rgb(255,245,240)"
            ],
            [
             0.125,
             "rgb(254,224,210)"
            ],
            [
             0.25,
             "rgb(252,187,161)"
            ],
            [
             0.375,
             "rgb(252,146,114)"
            ],
            [
             0.5,
             "rgb(251,106,74)"
            ],
            [
             0.625,
             "rgb(239,59,44)"
            ],
            [
             0.75,
             "rgb(203,24,29)"
            ],
            [
             0.875,
             "rgb(165,15,21)"
            ],
            [
             1,
             "rgb(103,0,13)"
            ]
           ],
           "hovertemplate": [
            "30/01/2020<br>Australia<br>Confirmed cases: 9<br>Deaths: 0",
            "30/01/2020<br>Cambodia<br>Confirmed cases: 1<br>Deaths: 0",
            "30/01/2020<br>Canada<br>Confirmed cases: 3<br>Deaths: 0",
            "30/01/2020<br>China<br>Confirmed cases: 9,737<br>Deaths: 213",
            "30/01/2020<br>Finland<br>Confirmed cases: 1<br>Deaths: 0",
            "30/01/2020<br>France<br>Confirmed cases: 6<br>Deaths: 0",
            "30/01/2020<br>Germany<br>Confirmed cases: 5<br>Deaths: 0",
            "30/01/2020<br>India<br>Confirmed cases: 1<br>Deaths: 0",
            "30/01/2020<br>Italy<br>Confirmed cases: 2<br>Deaths: 0",
            "30/01/2020<br>Japan<br>Confirmed cases: 14<br>Deaths: 0",
            "30/01/2020<br>Malaysia<br>Confirmed cases: 8<br>Deaths: 0",
            "30/01/2020<br>Nepal<br>Confirmed cases: 1<br>Deaths: 0",
            "30/01/2020<br>Phillipines<br>Confirmed cases: 1<br>Deaths: 0",
            "30/01/2020<br>Singapore<br>Confirmed cases: 13<br>Deaths: 0",
            "30/01/2020<br>South Korea<br>Confirmed cases: 6<br>Deaths: 0",
            "30/01/2020<br>Sri Lanka<br>Confirmed cases: 1<br>Deaths: 0",
            "30/01/2020<br>Thailand<br>Confirmed cases: 14<br>Deaths: 0",
            "30/01/2020<br>United Arab Emirates<br>Confirmed cases: 4<br>Deaths: 0",
            "30/01/2020<br>United States of America<br>Confirmed cases: 6<br>Deaths: 0",
            "30/01/2020<br>Vietnam<br>Confirmed cases: 5<br>Deaths: 0"
           ],
           "locations": [
            "AUS",
            "KHM",
            "CAN",
            "CHN",
            "FIN",
            "FRA",
            "DEU",
            "IND",
            "ITA",
            "JPN",
            "MYS",
            "NPL",
            "PHL",
            "SGP",
            "KOR",
            "LKA",
            "THA",
            "ARE",
            "USA",
            "VNM"
           ],
           "name": "",
           "showlegend": false,
           "type": "choropleth",
           "z": [
            2.302585092994046,
            0.6931471805599453,
            1.3862943611198906,
            9.183791036742646,
            0.6931471805599453,
            1.9459101490553132,
            1.791759469228055,
            0.6931471805599453,
            1.0986122886681098,
            2.70805020110221,
            2.1972245773362196,
            0.6931471805599453,
            0.6931471805599453,
            2.6390573296152584,
            1.9459101490553132,
            0.6931471805599453,
            2.70805020110221,
            1.6094379124341003,
            1.9459101490553132,
            1.791759469228055
           ],
           "zmax": 11.106159511129016,
           "zmin": 0.6931471805599453
          },
          {
           "hovertemplate": "%{x}<br>Total confirmed cases: %{y:,}<extra></extra>",
           "line": {
            "color": "Red"
           },
           "mode": "lines",
           "name": "Total Confirmed Cases",
           "type": "scatter",
           "x": [
            "10/01/2020",
            "11/01/2020",
            "12/01/2020",
            "13/01/2020",
            "14/01/2020",
            "15/01/2020",
            "16/01/2020",
            "17/01/2020",
            "18/01/2020",
            "19/01/2020",
            "20/01/2020",
            "21/01/2020",
            "22/01/2020",
            "23/01/2020",
            "24/01/2020",
            "25/01/2020",
            "26/01/2020",
            "27/01/2020",
            "28/01/2020",
            "29/01/2020",
            "30/01/2020",
            "31/01/2020",
            "01/02/2020",
            "02/02/2020",
            "03/02/2020",
            "04/02/2020",
            "05/02/2020",
            "06/02/2020",
            "07/02/2020",
            "08/02/2020",
            "09/02/2020",
            "10/02/2020",
            "11/02/2020",
            "12/02/2020",
            "13/02/2020",
            "14/02/2020"
           ],
           "y": [
            44,
            44,
            44,
            45,
            45,
            45,
            47,
            65,
            124,
            204,
            295,
            446,
            569,
            841,
            1121,
            2105,
            2865,
            4642,
            6074,
            7800,
            9838
           ]
          },
          {
           "hovertemplate": "%{x}<br>Total deaths: %{y:,}<extra></extra>",
           "line": {
            "color": "Black"
           },
           "mode": "lines",
           "name": "Total Deaths",
           "type": "scatter",
           "x": [
            "10/01/2020",
            "11/01/2020",
            "12/01/2020",
            "13/01/2020",
            "14/01/2020",
            "15/01/2020",
            "16/01/2020",
            "17/01/2020",
            "18/01/2020",
            "19/01/2020",
            "20/01/2020",
            "21/01/2020",
            "22/01/2020",
            "23/01/2020",
            "24/01/2020",
            "25/01/2020",
            "26/01/2020",
            "27/01/2020",
            "28/01/2020",
            "29/01/2020",
            "30/01/2020",
            "31/01/2020",
            "01/02/2020",
            "02/02/2020",
            "03/02/2020",
            "04/02/2020",
            "05/02/2020",
            "06/02/2020",
            "07/02/2020",
            "08/02/2020",
            "09/02/2020",
            "10/02/2020",
            "11/02/2020",
            "12/02/2020",
            "13/02/2020",
            "14/02/2020"
           ],
           "y": [
            1,
            1,
            1,
            1,
            1,
            2,
            2,
            2,
            2,
            3,
            3,
            9,
            17,
            26,
            41,
            56,
            82,
            106,
            132,
            170,
            213
           ]
          }
         ],
         "name": "30/01/2020"
        },
        {
         "data": [
          {
           "colorbar": {
            "len": 0.8,
            "tickmode": "array",
            "ticks": "outside",
            "ticktext": [
             "1",
             "2",
             "7",
             "37",
             "587",
             "66,579"
            ],
            "tickvals": [
             0.6931471805599453,
             1.2071831091304142,
             2.1024265839075182,
             3.6615800099332865,
             6.376997071747834,
             11.106159511129016
            ],
            "title": {
             "text": "<b>Confirmed Cases</b>"
            },
            "y": 1,
            "yanchor": "top"
           },
           "colorscale": [
            [
             0,
             "rgb(255,245,240)"
            ],
            [
             0.125,
             "rgb(254,224,210)"
            ],
            [
             0.25,
             "rgb(252,187,161)"
            ],
            [
             0.375,
             "rgb(252,146,114)"
            ],
            [
             0.5,
             "rgb(251,106,74)"
            ],
            [
             0.625,
             "rgb(239,59,44)"
            ],
            [
             0.75,
             "rgb(203,24,29)"
            ],
            [
             0.875,
             "rgb(165,15,21)"
            ],
            [
             1,
             "rgb(103,0,13)"
            ]
           ],
           "hovertemplate": [
            "31/01/2020<br>Australia<br>Confirmed cases: 9<br>Deaths: 0",
            "31/01/2020<br>Cambodia<br>Confirmed cases: 1<br>Deaths: 0",
            "31/01/2020<br>Canada<br>Confirmed cases: 4<br>Deaths: 0",
            "31/01/2020<br>China<br>Confirmed cases: 11,889<br>Deaths: 259",
            "31/01/2020<br>Finland<br>Confirmed cases: 1<br>Deaths: 0",
            "31/01/2020<br>France<br>Confirmed cases: 6<br>Deaths: 0",
            "31/01/2020<br>Germany<br>Confirmed cases: 7<br>Deaths: 0",
            "31/01/2020<br>India<br>Confirmed cases: 1<br>Deaths: 0",
            "31/01/2020<br>Italy<br>Confirmed cases: 2<br>Deaths: 0",
            "31/01/2020<br>Japan<br>Confirmed cases: 17<br>Deaths: 0",
            "31/01/2020<br>Malaysia<br>Confirmed cases: 8<br>Deaths: 0",
            "31/01/2020<br>Nepal<br>Confirmed cases: 1<br>Deaths: 0",
            "31/01/2020<br>Phillipines<br>Confirmed cases: 1<br>Deaths: 0",
            "31/01/2020<br>Russia<br>Confirmed cases: 2<br>Deaths: 0",
            "31/01/2020<br>Singapore<br>Confirmed cases: 16<br>Deaths: 0",
            "31/01/2020<br>South Korea<br>Confirmed cases: 11<br>Deaths: 0",
            "31/01/2020<br>Spain<br>Confirmed cases: 1<br>Deaths: 0",
            "31/01/2020<br>Sri Lanka<br>Confirmed cases: 1<br>Deaths: 0",
            "31/01/2020<br>Sweden<br>Confirmed cases: 1<br>Deaths: 0",
            "31/01/2020<br>Thailand<br>Confirmed cases: 19<br>Deaths: 0",
            "31/01/2020<br>United Arab Emirates<br>Confirmed cases: 4<br>Deaths: 0",
            "31/01/2020<br>United Kingdom<br>Confirmed cases: 2<br>Deaths: 0",
            "31/01/2020<br>United States of America<br>Confirmed cases: 7<br>Deaths: 0",
            "31/01/2020<br>Vietnam<br>Confirmed cases: 5<br>Deaths: 0"
           ],
           "locations": [
            "AUS",
            "KHM",
            "CAN",
            "CHN",
            "FIN",
            "FRA",
            "DEU",
            "IND",
            "ITA",
            "JPN",
            "MYS",
            "NPL",
            "PHL",
            "RUS",
            "SGP",
            "KOR",
            "ESP",
            "LKA",
            "SWE",
            "THA",
            "ARE",
            "GBR",
            "USA",
            "VNM"
           ],
           "name": "",
           "showlegend": false,
           "type": "choropleth",
           "z": [
            2.302585092994046,
            0.6931471805599453,
            1.6094379124341003,
            9.383452989684827,
            0.6931471805599453,
            1.9459101490553132,
            2.0794415416798357,
            0.6931471805599453,
            1.0986122886681098,
            2.8903717578961645,
            2.1972245773362196,
            0.6931471805599453,
            0.6931471805599453,
            1.0986122886681098,
            2.833213344056216,
            2.4849066497880004,
            0.6931471805599453,
            0.6931471805599453,
            0.6931471805599453,
            2.995732273553991,
            1.6094379124341003,
            1.0986122886681098,
            2.0794415416798357,
            1.791759469228055
           ],
           "zmax": 11.106159511129016,
           "zmin": 0.6931471805599453
          },
          {
           "hovertemplate": "%{x}<br>Total confirmed cases: %{y:,}<extra></extra>",
           "line": {
            "color": "Red"
           },
           "mode": "lines",
           "name": "Total Confirmed Cases",
           "type": "scatter",
           "x": [
            "10/01/2020",
            "11/01/2020",
            "12/01/2020",
            "13/01/2020",
            "14/01/2020",
            "15/01/2020",
            "16/01/2020",
            "17/01/2020",
            "18/01/2020",
            "19/01/2020",
            "20/01/2020",
            "21/01/2020",
            "22/01/2020",
            "23/01/2020",
            "24/01/2020",
            "25/01/2020",
            "26/01/2020",
            "27/01/2020",
            "28/01/2020",
            "29/01/2020",
            "30/01/2020",
            "31/01/2020",
            "01/02/2020",
            "02/02/2020",
            "03/02/2020",
            "04/02/2020",
            "05/02/2020",
            "06/02/2020",
            "07/02/2020",
            "08/02/2020",
            "09/02/2020",
            "10/02/2020",
            "11/02/2020",
            "12/02/2020",
            "13/02/2020",
            "14/02/2020"
           ],
           "y": [
            44,
            44,
            44,
            45,
            45,
            45,
            47,
            65,
            124,
            204,
            295,
            446,
            569,
            841,
            1121,
            2105,
            2865,
            4642,
            6074,
            7800,
            9838,
            12016
           ]
          },
          {
           "hovertemplate": "%{x}<br>Total deaths: %{y:,}<extra></extra>",
           "line": {
            "color": "Black"
           },
           "mode": "lines",
           "name": "Total Deaths",
           "type": "scatter",
           "x": [
            "10/01/2020",
            "11/01/2020",
            "12/01/2020",
            "13/01/2020",
            "14/01/2020",
            "15/01/2020",
            "16/01/2020",
            "17/01/2020",
            "18/01/2020",
            "19/01/2020",
            "20/01/2020",
            "21/01/2020",
            "22/01/2020",
            "23/01/2020",
            "24/01/2020",
            "25/01/2020",
            "26/01/2020",
            "27/01/2020",
            "28/01/2020",
            "29/01/2020",
            "30/01/2020",
            "31/01/2020",
            "01/02/2020",
            "02/02/2020",
            "03/02/2020",
            "04/02/2020",
            "05/02/2020",
            "06/02/2020",
            "07/02/2020",
            "08/02/2020",
            "09/02/2020",
            "10/02/2020",
            "11/02/2020",
            "12/02/2020",
            "13/02/2020",
            "14/02/2020"
           ],
           "y": [
            1,
            1,
            1,
            1,
            1,
            2,
            2,
            2,
            2,
            3,
            3,
            9,
            17,
            26,
            41,
            56,
            82,
            106,
            132,
            170,
            213,
            259
           ]
          }
         ],
         "name": "31/01/2020"
        },
        {
         "data": [
          {
           "colorbar": {
            "len": 0.8,
            "tickmode": "array",
            "ticks": "outside",
            "ticktext": [
             "1",
             "2",
             "7",
             "37",
             "587",
             "66,579"
            ],
            "tickvals": [
             0.6931471805599453,
             1.2071831091304142,
             2.1024265839075182,
             3.6615800099332865,
             6.376997071747834,
             11.106159511129016
            ],
            "title": {
             "text": "<b>Confirmed Cases</b>"
            },
            "y": 1,
            "yanchor": "top"
           },
           "colorscale": [
            [
             0,
             "rgb(255,245,240)"
            ],
            [
             0.125,
             "rgb(254,224,210)"
            ],
            [
             0.25,
             "rgb(252,187,161)"
            ],
            [
             0.375,
             "rgb(252,146,114)"
            ],
            [
             0.5,
             "rgb(251,106,74)"
            ],
            [
             0.625,
             "rgb(239,59,44)"
            ],
            [
             0.75,
             "rgb(203,24,29)"
            ],
            [
             0.875,
             "rgb(165,15,21)"
            ],
            [
             1,
             "rgb(103,0,13)"
            ]
           ],
           "hovertemplate": [
            "01/02/2020<br>Australia<br>Confirmed cases: 12<br>Deaths: 0",
            "01/02/2020<br>Cambodia<br>Confirmed cases: 1<br>Deaths: 0",
            "01/02/2020<br>Canada<br>Confirmed cases: 4<br>Deaths: 0",
            "01/02/2020<br>China<br>Confirmed cases: 14,483<br>Deaths: 304",
            "01/02/2020<br>Finland<br>Confirmed cases: 1<br>Deaths: 0",
            "01/02/2020<br>France<br>Confirmed cases: 6<br>Deaths: 0",
            "01/02/2020<br>Germany<br>Confirmed cases: 8<br>Deaths: 0",
            "01/02/2020<br>India<br>Confirmed cases: 1<br>Deaths: 0",
            "01/02/2020<br>Italy<br>Confirmed cases: 2<br>Deaths: 0",
            "01/02/2020<br>Japan<br>Confirmed cases: 20<br>Deaths: 0",
            "01/02/2020<br>Malaysia<br>Confirmed cases: 8<br>Deaths: 0",
            "01/02/2020<br>Nepal<br>Confirmed cases: 1<br>Deaths: 0",
            "01/02/2020<br>Phillipines<br>Confirmed cases: 2<br>Deaths: 1",
            "01/02/2020<br>Russia<br>Confirmed cases: 2<br>Deaths: 0",
            "01/02/2020<br>Singapore<br>Confirmed cases: 18<br>Deaths: 0",
            "01/02/2020<br>South Korea<br>Confirmed cases: 12<br>Deaths: 0",
            "01/02/2020<br>Spain<br>Confirmed cases: 1<br>Deaths: 0",
            "01/02/2020<br>Sri Lanka<br>Confirmed cases: 1<br>Deaths: 0",
            "01/02/2020<br>Sweden<br>Confirmed cases: 1<br>Deaths: 0",
            "01/02/2020<br>Thailand<br>Confirmed cases: 19<br>Deaths: 0",
            "01/02/2020<br>United Arab Emirates<br>Confirmed cases: 5<br>Deaths: 0",
            "01/02/2020<br>United Kingdom<br>Confirmed cases: 2<br>Deaths: 0",
            "01/02/2020<br>United States of America<br>Confirmed cases: 8<br>Deaths: 0",
            "01/02/2020<br>Vietnam<br>Confirmed cases: 6<br>Deaths: 0"
           ],
           "locations": [
            "AUS",
            "KHM",
            "CAN",
            "CHN",
            "FIN",
            "FRA",
            "DEU",
            "IND",
            "ITA",
            "JPN",
            "MYS",
            "NPL",
            "PHL",
            "RUS",
            "SGP",
            "KOR",
            "ESP",
            "LKA",
            "SWE",
            "THA",
            "ARE",
            "GBR",
            "USA",
            "VNM"
           ],
           "name": "",
           "showlegend": false,
           "type": "choropleth",
           "z": [
            2.5649493574615367,
            0.6931471805599453,
            1.6094379124341003,
            9.580799870885532,
            0.6931471805599453,
            1.9459101490553132,
            2.1972245773362196,
            0.6931471805599453,
            1.0986122886681098,
            3.044522437723423,
            2.1972245773362196,
            0.6931471805599453,
            1.0986122886681098,
            1.0986122886681098,
            2.9444389791664403,
            2.5649493574615367,
            0.6931471805599453,
            0.6931471805599453,
            0.6931471805599453,
            2.995732273553991,
            1.791759469228055,
            1.0986122886681098,
            2.1972245773362196,
            1.9459101490553132
           ],
           "zmax": 11.106159511129016,
           "zmin": 0.6931471805599453
          },
          {
           "hovertemplate": "%{x}<br>Total confirmed cases: %{y:,}<extra></extra>",
           "line": {
            "color": "Red"
           },
           "mode": "lines",
           "name": "Total Confirmed Cases",
           "type": "scatter",
           "x": [
            "10/01/2020",
            "11/01/2020",
            "12/01/2020",
            "13/01/2020",
            "14/01/2020",
            "15/01/2020",
            "16/01/2020",
            "17/01/2020",
            "18/01/2020",
            "19/01/2020",
            "20/01/2020",
            "21/01/2020",
            "22/01/2020",
            "23/01/2020",
            "24/01/2020",
            "25/01/2020",
            "26/01/2020",
            "27/01/2020",
            "28/01/2020",
            "29/01/2020",
            "30/01/2020",
            "31/01/2020",
            "01/02/2020",
            "02/02/2020",
            "03/02/2020",
            "04/02/2020",
            "05/02/2020",
            "06/02/2020",
            "07/02/2020",
            "08/02/2020",
            "09/02/2020",
            "10/02/2020",
            "11/02/2020",
            "12/02/2020",
            "13/02/2020",
            "14/02/2020"
           ],
           "y": [
            44,
            44,
            44,
            45,
            45,
            45,
            47,
            65,
            124,
            204,
            295,
            446,
            569,
            841,
            1121,
            2105,
            2865,
            4642,
            6074,
            7800,
            9838,
            12016,
            14624
           ]
          },
          {
           "hovertemplate": "%{x}<br>Total deaths: %{y:,}<extra></extra>",
           "line": {
            "color": "Black"
           },
           "mode": "lines",
           "name": "Total Deaths",
           "type": "scatter",
           "x": [
            "10/01/2020",
            "11/01/2020",
            "12/01/2020",
            "13/01/2020",
            "14/01/2020",
            "15/01/2020",
            "16/01/2020",
            "17/01/2020",
            "18/01/2020",
            "19/01/2020",
            "20/01/2020",
            "21/01/2020",
            "22/01/2020",
            "23/01/2020",
            "24/01/2020",
            "25/01/2020",
            "26/01/2020",
            "27/01/2020",
            "28/01/2020",
            "29/01/2020",
            "30/01/2020",
            "31/01/2020",
            "01/02/2020",
            "02/02/2020",
            "03/02/2020",
            "04/02/2020",
            "05/02/2020",
            "06/02/2020",
            "07/02/2020",
            "08/02/2020",
            "09/02/2020",
            "10/02/2020",
            "11/02/2020",
            "12/02/2020",
            "13/02/2020",
            "14/02/2020"
           ],
           "y": [
            1,
            1,
            1,
            1,
            1,
            2,
            2,
            2,
            2,
            3,
            3,
            9,
            17,
            26,
            41,
            56,
            82,
            106,
            132,
            170,
            213,
            259,
            305
           ]
          }
         ],
         "name": "01/02/2020"
        },
        {
         "data": [
          {
           "colorbar": {
            "len": 0.8,
            "tickmode": "array",
            "ticks": "outside",
            "ticktext": [
             "1",
             "2",
             "7",
             "37",
             "587",
             "66,579"
            ],
            "tickvals": [
             0.6931471805599453,
             1.2071831091304142,
             2.1024265839075182,
             3.6615800099332865,
             6.376997071747834,
             11.106159511129016
            ],
            "title": {
             "text": "<b>Confirmed Cases</b>"
            },
            "y": 1,
            "yanchor": "top"
           },
           "colorscale": [
            [
             0,
             "rgb(255,245,240)"
            ],
            [
             0.125,
             "rgb(254,224,210)"
            ],
            [
             0.25,
             "rgb(252,187,161)"
            ],
            [
             0.375,
             "rgb(252,146,114)"
            ],
            [
             0.5,
             "rgb(251,106,74)"
            ],
            [
             0.625,
             "rgb(239,59,44)"
            ],
            [
             0.75,
             "rgb(203,24,29)"
            ],
            [
             0.875,
             "rgb(165,15,21)"
            ],
            [
             1,
             "rgb(103,0,13)"
            ]
           ],
           "hovertemplate": [
            "02/02/2020<br>Australia<br>Confirmed cases: 12<br>Deaths: 0",
            "02/02/2020<br>Cambodia<br>Confirmed cases: 1<br>Deaths: 0",
            "02/02/2020<br>Canada<br>Confirmed cases: 4<br>Deaths: 0",
            "02/02/2020<br>China<br>Confirmed cases: 17,267<br>Deaths: 361",
            "02/02/2020<br>Finland<br>Confirmed cases: 1<br>Deaths: 0",
            "02/02/2020<br>France<br>Confirmed cases: 6<br>Deaths: 0",
            "02/02/2020<br>Germany<br>Confirmed cases: 10<br>Deaths: 0",
            "02/02/2020<br>India<br>Confirmed cases: 2<br>Deaths: 0",
            "02/02/2020<br>Italy<br>Confirmed cases: 2<br>Deaths: 0",
            "02/02/2020<br>Japan<br>Confirmed cases: 20<br>Deaths: 0",
            "02/02/2020<br>Malaysia<br>Confirmed cases: 8<br>Deaths: 0",
            "02/02/2020<br>Nepal<br>Confirmed cases: 1<br>Deaths: 0",
            "02/02/2020<br>Phillipines<br>Confirmed cases: 2<br>Deaths: 1",
            "02/02/2020<br>Russia<br>Confirmed cases: 2<br>Deaths: 0",
            "02/02/2020<br>Singapore<br>Confirmed cases: 18<br>Deaths: 0",
            "02/02/2020<br>South Korea<br>Confirmed cases: 15<br>Deaths: 0",
            "02/02/2020<br>Spain<br>Confirmed cases: 1<br>Deaths: 0",
            "02/02/2020<br>Sri Lanka<br>Confirmed cases: 1<br>Deaths: 0",
            "02/02/2020<br>Sweden<br>Confirmed cases: 1<br>Deaths: 0",
            "02/02/2020<br>Thailand<br>Confirmed cases: 19<br>Deaths: 0",
            "02/02/2020<br>United Arab Emirates<br>Confirmed cases: 5<br>Deaths: 0",
            "02/02/2020<br>United Kingdom<br>Confirmed cases: 2<br>Deaths: 0",
            "02/02/2020<br>United States of America<br>Confirmed cases: 9<br>Deaths: 0",
            "02/02/2020<br>Vietnam<br>Confirmed cases: 7<br>Deaths: 0"
           ],
           "locations": [
            "AUS",
            "KHM",
            "CAN",
            "CHN",
            "FIN",
            "FRA",
            "DEU",
            "IND",
            "ITA",
            "JPN",
            "MYS",
            "NPL",
            "PHL",
            "RUS",
            "SGP",
            "KOR",
            "ESP",
            "LKA",
            "SWE",
            "THA",
            "ARE",
            "GBR",
            "USA",
            "VNM"
           ],
           "name": "",
           "showlegend": false,
           "type": "choropleth",
           "z": [
            2.5649493574615367,
            0.6931471805599453,
            1.6094379124341003,
            9.756610356675369,
            0.6931471805599453,
            1.9459101490553132,
            2.3978952727983707,
            1.0986122886681098,
            1.0986122886681098,
            3.044522437723423,
            2.1972245773362196,
            0.6931471805599453,
            1.0986122886681098,
            1.0986122886681098,
            2.9444389791664403,
            2.772588722239781,
            0.6931471805599453,
            0.6931471805599453,
            0.6931471805599453,
            2.995732273553991,
            1.791759469228055,
            1.0986122886681098,
            2.302585092994046,
            2.0794415416798357
           ],
           "zmax": 11.106159511129016,
           "zmin": 0.6931471805599453
          },
          {
           "hovertemplate": "%{x}<br>Total confirmed cases: %{y:,}<extra></extra>",
           "line": {
            "color": "Red"
           },
           "mode": "lines",
           "name": "Total Confirmed Cases",
           "type": "scatter",
           "x": [
            "10/01/2020",
            "11/01/2020",
            "12/01/2020",
            "13/01/2020",
            "14/01/2020",
            "15/01/2020",
            "16/01/2020",
            "17/01/2020",
            "18/01/2020",
            "19/01/2020",
            "20/01/2020",
            "21/01/2020",
            "22/01/2020",
            "23/01/2020",
            "24/01/2020",
            "25/01/2020",
            "26/01/2020",
            "27/01/2020",
            "28/01/2020",
            "29/01/2020",
            "30/01/2020",
            "31/01/2020",
            "01/02/2020",
            "02/02/2020",
            "03/02/2020",
            "04/02/2020",
            "05/02/2020",
            "06/02/2020",
            "07/02/2020",
            "08/02/2020",
            "09/02/2020",
            "10/02/2020",
            "11/02/2020",
            "12/02/2020",
            "13/02/2020",
            "14/02/2020"
           ],
           "y": [
            44,
            44,
            44,
            45,
            45,
            45,
            47,
            65,
            124,
            204,
            295,
            446,
            569,
            841,
            1121,
            2105,
            2865,
            4642,
            6074,
            7800,
            9838,
            12016,
            14624,
            17416
           ]
          },
          {
           "hovertemplate": "%{x}<br>Total deaths: %{y:,}<extra></extra>",
           "line": {
            "color": "Black"
           },
           "mode": "lines",
           "name": "Total Deaths",
           "type": "scatter",
           "x": [
            "10/01/2020",
            "11/01/2020",
            "12/01/2020",
            "13/01/2020",
            "14/01/2020",
            "15/01/2020",
            "16/01/2020",
            "17/01/2020",
            "18/01/2020",
            "19/01/2020",
            "20/01/2020",
            "21/01/2020",
            "22/01/2020",
            "23/01/2020",
            "24/01/2020",
            "25/01/2020",
            "26/01/2020",
            "27/01/2020",
            "28/01/2020",
            "29/01/2020",
            "30/01/2020",
            "31/01/2020",
            "01/02/2020",
            "02/02/2020",
            "03/02/2020",
            "04/02/2020",
            "05/02/2020",
            "06/02/2020",
            "07/02/2020",
            "08/02/2020",
            "09/02/2020",
            "10/02/2020",
            "11/02/2020",
            "12/02/2020",
            "13/02/2020",
            "14/02/2020"
           ],
           "y": [
            1,
            1,
            1,
            1,
            1,
            2,
            2,
            2,
            2,
            3,
            3,
            9,
            17,
            26,
            41,
            56,
            82,
            106,
            132,
            170,
            213,
            259,
            305,
            362
           ]
          }
         ],
         "name": "02/02/2020"
        },
        {
         "data": [
          {
           "colorbar": {
            "len": 0.8,
            "tickmode": "array",
            "ticks": "outside",
            "ticktext": [
             "1",
             "2",
             "7",
             "37",
             "587",
             "66,579"
            ],
            "tickvals": [
             0.6931471805599453,
             1.2071831091304142,
             2.1024265839075182,
             3.6615800099332865,
             6.376997071747834,
             11.106159511129016
            ],
            "title": {
             "text": "<b>Confirmed Cases</b>"
            },
            "y": 1,
            "yanchor": "top"
           },
           "colorscale": [
            [
             0,
             "rgb(255,245,240)"
            ],
            [
             0.125,
             "rgb(254,224,210)"
            ],
            [
             0.25,
             "rgb(252,187,161)"
            ],
            [
             0.375,
             "rgb(252,146,114)"
            ],
            [
             0.5,
             "rgb(251,106,74)"
            ],
            [
             0.625,
             "rgb(239,59,44)"
            ],
            [
             0.75,
             "rgb(203,24,29)"
            ],
            [
             0.875,
             "rgb(165,15,21)"
            ],
            [
             1,
             "rgb(103,0,13)"
            ]
           ],
           "hovertemplate": [
            "03/02/2020<br>Australia<br>Confirmed cases: 12<br>Deaths: 0",
            "03/02/2020<br>Cambodia<br>Confirmed cases: 1<br>Deaths: 0",
            "03/02/2020<br>Canada<br>Confirmed cases: 4<br>Deaths: 0",
            "03/02/2020<br>China<br>Confirmed cases: 20,479<br>Deaths: 426",
            "03/02/2020<br>Finland<br>Confirmed cases: 1<br>Deaths: 0",
            "03/02/2020<br>France<br>Confirmed cases: 6<br>Deaths: 0",
            "03/02/2020<br>Germany<br>Confirmed cases: 12<br>Deaths: 0",
            "03/02/2020<br>India<br>Confirmed cases: 3<br>Deaths: 0",
            "03/02/2020<br>Italy<br>Confirmed cases: 2<br>Deaths: 0",
            "03/02/2020<br>Japan<br>Confirmed cases: 20<br>Deaths: 0",
            "03/02/2020<br>Malaysia<br>Confirmed cases: 8<br>Deaths: 0",
            "03/02/2020<br>Nepal<br>Confirmed cases: 1<br>Deaths: 0",
            "03/02/2020<br>Phillipines<br>Confirmed cases: 2<br>Deaths: 1",
            "03/02/2020<br>Russia<br>Confirmed cases: 2<br>Deaths: 0",
            "03/02/2020<br>Singapore<br>Confirmed cases: 18<br>Deaths: 0",
            "03/02/2020<br>South Korea<br>Confirmed cases: 15<br>Deaths: 0",
            "03/02/2020<br>Spain<br>Confirmed cases: 1<br>Deaths: 0",
            "03/02/2020<br>Sri Lanka<br>Confirmed cases: 1<br>Deaths: 0",
            "03/02/2020<br>Sweden<br>Confirmed cases: 1<br>Deaths: 0",
            "03/02/2020<br>Thailand<br>Confirmed cases: 19<br>Deaths: 0",
            "03/02/2020<br>United Arab Emirates<br>Confirmed cases: 5<br>Deaths: 0",
            "03/02/2020<br>United Kingdom<br>Confirmed cases: 2<br>Deaths: 0",
            "03/02/2020<br>United States of America<br>Confirmed cases: 11<br>Deaths: 0",
            "03/02/2020<br>Vietnam<br>Confirmed cases: 8<br>Deaths: 0"
           ],
           "locations": [
            "AUS",
            "KHM",
            "CAN",
            "CHN",
            "FIN",
            "FRA",
            "DEU",
            "IND",
            "ITA",
            "JPN",
            "MYS",
            "NPL",
            "PHL",
            "RUS",
            "SGP",
            "KOR",
            "ESP",
            "LKA",
            "SWE",
            "THA",
            "ARE",
            "GBR",
            "USA",
            "VNM"
           ],
           "name": "",
           "showlegend": false,
           "type": "choropleth",
           "z": [
            2.5649493574615367,
            0.6931471805599453,
            1.6094379124341003,
            9.927204079153444,
            0.6931471805599453,
            1.9459101490553132,
            2.5649493574615367,
            1.3862943611198906,
            1.0986122886681098,
            3.044522437723423,
            2.1972245773362196,
            0.6931471805599453,
            1.0986122886681098,
            1.0986122886681098,
            2.9444389791664403,
            2.772588722239781,
            0.6931471805599453,
            0.6931471805599453,
            0.6931471805599453,
            2.995732273553991,
            1.791759469228055,
            1.0986122886681098,
            2.4849066497880004,
            2.1972245773362196
           ],
           "zmax": 11.106159511129016,
           "zmin": 0.6931471805599453
          },
          {
           "hovertemplate": "%{x}<br>Total confirmed cases: %{y:,}<extra></extra>",
           "line": {
            "color": "Red"
           },
           "mode": "lines",
           "name": "Total Confirmed Cases",
           "type": "scatter",
           "x": [
            "10/01/2020",
            "11/01/2020",
            "12/01/2020",
            "13/01/2020",
            "14/01/2020",
            "15/01/2020",
            "16/01/2020",
            "17/01/2020",
            "18/01/2020",
            "19/01/2020",
            "20/01/2020",
            "21/01/2020",
            "22/01/2020",
            "23/01/2020",
            "24/01/2020",
            "25/01/2020",
            "26/01/2020",
            "27/01/2020",
            "28/01/2020",
            "29/01/2020",
            "30/01/2020",
            "31/01/2020",
            "01/02/2020",
            "02/02/2020",
            "03/02/2020",
            "04/02/2020",
            "05/02/2020",
            "06/02/2020",
            "07/02/2020",
            "08/02/2020",
            "09/02/2020",
            "10/02/2020",
            "11/02/2020",
            "12/02/2020",
            "13/02/2020",
            "14/02/2020"
           ],
           "y": [
            44,
            44,
            44,
            45,
            45,
            45,
            47,
            65,
            124,
            204,
            295,
            446,
            569,
            841,
            1121,
            2105,
            2865,
            4642,
            6074,
            7800,
            9838,
            12016,
            14624,
            17416,
            20634
           ]
          },
          {
           "hovertemplate": "%{x}<br>Total deaths: %{y:,}<extra></extra>",
           "line": {
            "color": "Black"
           },
           "mode": "lines",
           "name": "Total Deaths",
           "type": "scatter",
           "x": [
            "10/01/2020",
            "11/01/2020",
            "12/01/2020",
            "13/01/2020",
            "14/01/2020",
            "15/01/2020",
            "16/01/2020",
            "17/01/2020",
            "18/01/2020",
            "19/01/2020",
            "20/01/2020",
            "21/01/2020",
            "22/01/2020",
            "23/01/2020",
            "24/01/2020",
            "25/01/2020",
            "26/01/2020",
            "27/01/2020",
            "28/01/2020",
            "29/01/2020",
            "30/01/2020",
            "31/01/2020",
            "01/02/2020",
            "02/02/2020",
            "03/02/2020",
            "04/02/2020",
            "05/02/2020",
            "06/02/2020",
            "07/02/2020",
            "08/02/2020",
            "09/02/2020",
            "10/02/2020",
            "11/02/2020",
            "12/02/2020",
            "13/02/2020",
            "14/02/2020"
           ],
           "y": [
            1,
            1,
            1,
            1,
            1,
            2,
            2,
            2,
            2,
            3,
            3,
            9,
            17,
            26,
            41,
            56,
            82,
            106,
            132,
            170,
            213,
            259,
            305,
            362,
            427
           ]
          }
         ],
         "name": "03/02/2020"
        },
        {
         "data": [
          {
           "colorbar": {
            "len": 0.8,
            "tickmode": "array",
            "ticks": "outside",
            "ticktext": [
             "1",
             "2",
             "7",
             "37",
             "587",
             "66,579"
            ],
            "tickvals": [
             0.6931471805599453,
             1.2071831091304142,
             2.1024265839075182,
             3.6615800099332865,
             6.376997071747834,
             11.106159511129016
            ],
            "title": {
             "text": "<b>Confirmed Cases</b>"
            },
            "y": 1,
            "yanchor": "top"
           },
           "colorscale": [
            [
             0,
             "rgb(255,245,240)"
            ],
            [
             0.125,
             "rgb(254,224,210)"
            ],
            [
             0.25,
             "rgb(252,187,161)"
            ],
            [
             0.375,
             "rgb(252,146,114)"
            ],
            [
             0.5,
             "rgb(251,106,74)"
            ],
            [
             0.625,
             "rgb(239,59,44)"
            ],
            [
             0.75,
             "rgb(203,24,29)"
            ],
            [
             0.875,
             "rgb(165,15,21)"
            ],
            [
             1,
             "rgb(103,0,13)"
            ]
           ],
           "hovertemplate": [
            "04/02/2020<br>Australia<br>Confirmed cases: 13<br>Deaths: 0",
            "04/02/2020<br>Belgium<br>Confirmed cases: 1<br>Deaths: 0",
            "04/02/2020<br>Cambodia<br>Confirmed cases: 1<br>Deaths: 0",
            "04/02/2020<br>Canada<br>Confirmed cases: 5<br>Deaths: 0",
            "04/02/2020<br>China<br>Confirmed cases: 24,423<br>Deaths: 492",
            "04/02/2020<br>Finland<br>Confirmed cases: 1<br>Deaths: 0",
            "04/02/2020<br>France<br>Confirmed cases: 6<br>Deaths: 0",
            "04/02/2020<br>Germany<br>Confirmed cases: 12<br>Deaths: 0",
            "04/02/2020<br>India<br>Confirmed cases: 3<br>Deaths: 0",
            "04/02/2020<br>Italy<br>Confirmed cases: 2<br>Deaths: 0",
            "04/02/2020<br>Japan<br>Confirmed cases: 33<br>Deaths: 0",
            "04/02/2020<br>Malaysia<br>Confirmed cases: 10<br>Deaths: 0",
            "04/02/2020<br>Nepal<br>Confirmed cases: 1<br>Deaths: 0",
            "04/02/2020<br>Phillipines<br>Confirmed cases: 2<br>Deaths: 1",
            "04/02/2020<br>Russia<br>Confirmed cases: 2<br>Deaths: 0",
            "04/02/2020<br>Singapore<br>Confirmed cases: 24<br>Deaths: 0",
            "04/02/2020<br>South Korea<br>Confirmed cases: 16<br>Deaths: 0",
            "04/02/2020<br>Spain<br>Confirmed cases: 1<br>Deaths: 0",
            "04/02/2020<br>Sri Lanka<br>Confirmed cases: 1<br>Deaths: 0",
            "04/02/2020<br>Sweden<br>Confirmed cases: 1<br>Deaths: 0",
            "04/02/2020<br>Thailand<br>Confirmed cases: 25<br>Deaths: 0",
            "04/02/2020<br>United Arab Emirates<br>Confirmed cases: 5<br>Deaths: 0",
            "04/02/2020<br>United Kingdom<br>Confirmed cases: 2<br>Deaths: 0",
            "04/02/2020<br>United States of America<br>Confirmed cases: 11<br>Deaths: 0",
            "04/02/2020<br>Vietnam<br>Confirmed cases: 10<br>Deaths: 0"
           ],
           "locations": [
            "AUS",
            "BEL",
            "KHM",
            "CAN",
            "CHN",
            "FIN",
            "FRA",
            "DEU",
            "IND",
            "ITA",
            "JPN",
            "MYS",
            "NPL",
            "PHL",
            "RUS",
            "SGP",
            "KOR",
            "ESP",
            "LKA",
            "SWE",
            "THA",
            "ARE",
            "GBR",
            "USA",
            "VNM"
           ],
           "name": "",
           "showlegend": false,
           "type": "choropleth",
           "z": [
            2.6390573296152584,
            0.6931471805599453,
            0.6931471805599453,
            1.791759469228055,
            10.103321534414714,
            0.6931471805599453,
            1.9459101490553132,
            2.5649493574615367,
            1.3862943611198906,
            1.0986122886681098,
            3.5263605246161616,
            2.3978952727983707,
            0.6931471805599453,
            1.0986122886681098,
            1.0986122886681098,
            3.2188758248682006,
            2.833213344056216,
            0.6931471805599453,
            0.6931471805599453,
            0.6931471805599453,
            3.258096538021482,
            1.791759469228055,
            1.0986122886681098,
            2.4849066497880004,
            2.3978952727983707
           ],
           "zmax": 11.106159511129016,
           "zmin": 0.6931471805599453
          },
          {
           "hovertemplate": "%{x}<br>Total confirmed cases: %{y:,}<extra></extra>",
           "line": {
            "color": "Red"
           },
           "mode": "lines",
           "name": "Total Confirmed Cases",
           "type": "scatter",
           "x": [
            "10/01/2020",
            "11/01/2020",
            "12/01/2020",
            "13/01/2020",
            "14/01/2020",
            "15/01/2020",
            "16/01/2020",
            "17/01/2020",
            "18/01/2020",
            "19/01/2020",
            "20/01/2020",
            "21/01/2020",
            "22/01/2020",
            "23/01/2020",
            "24/01/2020",
            "25/01/2020",
            "26/01/2020",
            "27/01/2020",
            "28/01/2020",
            "29/01/2020",
            "30/01/2020",
            "31/01/2020",
            "01/02/2020",
            "02/02/2020",
            "03/02/2020",
            "04/02/2020",
            "05/02/2020",
            "06/02/2020",
            "07/02/2020",
            "08/02/2020",
            "09/02/2020",
            "10/02/2020",
            "11/02/2020",
            "12/02/2020",
            "13/02/2020",
            "14/02/2020"
           ],
           "y": [
            44,
            44,
            44,
            45,
            45,
            45,
            47,
            65,
            124,
            204,
            295,
            446,
            569,
            841,
            1121,
            2105,
            2865,
            4642,
            6074,
            7800,
            9838,
            12016,
            14624,
            17416,
            20634,
            24611
           ]
          },
          {
           "hovertemplate": "%{x}<br>Total deaths: %{y:,}<extra></extra>",
           "line": {
            "color": "Black"
           },
           "mode": "lines",
           "name": "Total Deaths",
           "type": "scatter",
           "x": [
            "10/01/2020",
            "11/01/2020",
            "12/01/2020",
            "13/01/2020",
            "14/01/2020",
            "15/01/2020",
            "16/01/2020",
            "17/01/2020",
            "18/01/2020",
            "19/01/2020",
            "20/01/2020",
            "21/01/2020",
            "22/01/2020",
            "23/01/2020",
            "24/01/2020",
            "25/01/2020",
            "26/01/2020",
            "27/01/2020",
            "28/01/2020",
            "29/01/2020",
            "30/01/2020",
            "31/01/2020",
            "01/02/2020",
            "02/02/2020",
            "03/02/2020",
            "04/02/2020",
            "05/02/2020",
            "06/02/2020",
            "07/02/2020",
            "08/02/2020",
            "09/02/2020",
            "10/02/2020",
            "11/02/2020",
            "12/02/2020",
            "13/02/2020",
            "14/02/2020"
           ],
           "y": [
            1,
            1,
            1,
            1,
            1,
            2,
            2,
            2,
            2,
            3,
            3,
            9,
            17,
            26,
            41,
            56,
            82,
            106,
            132,
            170,
            213,
            259,
            305,
            362,
            427,
            493
           ]
          }
         ],
         "name": "04/02/2020"
        },
        {
         "data": [
          {
           "colorbar": {
            "len": 0.8,
            "tickmode": "array",
            "ticks": "outside",
            "ticktext": [
             "1",
             "2",
             "7",
             "37",
             "587",
             "66,579"
            ],
            "tickvals": [
             0.6931471805599453,
             1.2071831091304142,
             2.1024265839075182,
             3.6615800099332865,
             6.376997071747834,
             11.106159511129016
            ],
            "title": {
             "text": "<b>Confirmed Cases</b>"
            },
            "y": 1,
            "yanchor": "top"
           },
           "colorscale": [
            [
             0,
             "rgb(255,245,240)"
            ],
            [
             0.125,
             "rgb(254,224,210)"
            ],
            [
             0.25,
             "rgb(252,187,161)"
            ],
            [
             0.375,
             "rgb(252,146,114)"
            ],
            [
             0.5,
             "rgb(251,106,74)"
            ],
            [
             0.625,
             "rgb(239,59,44)"
            ],
            [
             0.75,
             "rgb(203,24,29)"
            ],
            [
             0.875,
             "rgb(165,15,21)"
            ],
            [
             1,
             "rgb(103,0,13)"
            ]
           ],
           "hovertemplate": [
            "05/02/2020<br>Australia<br>Confirmed cases: 14<br>Deaths: 0",
            "05/02/2020<br>Belgium<br>Confirmed cases: 1<br>Deaths: 0",
            "05/02/2020<br>Cambodia<br>Confirmed cases: 1<br>Deaths: 0",
            "05/02/2020<br>Canada<br>Confirmed cases: 5<br>Deaths: 0",
            "05/02/2020<br>China<br>Confirmed cases: 28,118<br>Deaths: 564",
            "05/02/2020<br>Finland<br>Confirmed cases: 1<br>Deaths: 0",
            "05/02/2020<br>France<br>Confirmed cases: 6<br>Deaths: 0",
            "05/02/2020<br>Germany<br>Confirmed cases: 12<br>Deaths: 0",
            "05/02/2020<br>India<br>Confirmed cases: 3<br>Deaths: 0",
            "05/02/2020<br>Italy<br>Confirmed cases: 2<br>Deaths: 0",
            "05/02/2020<br>Japan<br>Confirmed cases: 45<br>Deaths: 0",
            "05/02/2020<br>Malaysia<br>Confirmed cases: 12<br>Deaths: 0",
            "05/02/2020<br>Nepal<br>Confirmed cases: 1<br>Deaths: 0",
            "05/02/2020<br>Phillipines<br>Confirmed cases: 3<br>Deaths: 1",
            "05/02/2020<br>Russia<br>Confirmed cases: 2<br>Deaths: 0",
            "05/02/2020<br>Singapore<br>Confirmed cases: 28<br>Deaths: 0",
            "05/02/2020<br>South Korea<br>Confirmed cases: 19<br>Deaths: 0",
            "05/02/2020<br>Spain<br>Confirmed cases: 1<br>Deaths: 0",
            "05/02/2020<br>Sri Lanka<br>Confirmed cases: 1<br>Deaths: 0",
            "05/02/2020<br>Sweden<br>Confirmed cases: 1<br>Deaths: 0",
            "05/02/2020<br>Thailand<br>Confirmed cases: 25<br>Deaths: 0",
            "05/02/2020<br>United Arab Emirates<br>Confirmed cases: 5<br>Deaths: 0",
            "05/02/2020<br>United Kingdom<br>Confirmed cases: 2<br>Deaths: 0",
            "05/02/2020<br>United States of America<br>Confirmed cases: 12<br>Deaths: 0",
            "05/02/2020<br>Vietnam<br>Confirmed cases: 10<br>Deaths: 0"
           ],
           "locations": [
            "AUS",
            "BEL",
            "KHM",
            "CAN",
            "CHN",
            "FIN",
            "FRA",
            "DEU",
            "IND",
            "ITA",
            "JPN",
            "MYS",
            "NPL",
            "PHL",
            "RUS",
            "SGP",
            "KOR",
            "ESP",
            "LKA",
            "SWE",
            "THA",
            "ARE",
            "GBR",
            "USA",
            "VNM"
           ],
           "name": "",
           "showlegend": false,
           "type": "choropleth",
           "z": [
            2.70805020110221,
            0.6931471805599453,
            0.6931471805599453,
            1.791759469228055,
            10.244200783414595,
            0.6931471805599453,
            1.9459101490553132,
            2.5649493574615367,
            1.3862943611198906,
            1.0986122886681098,
            3.828641396489095,
            2.5649493574615367,
            0.6931471805599453,
            1.3862943611198906,
            1.0986122886681098,
            3.367295829986474,
            2.995732273553991,
            0.6931471805599453,
            0.6931471805599453,
            0.6931471805599453,
            3.258096538021482,
            1.791759469228055,
            1.0986122886681098,
            2.5649493574615367,
            2.3978952727983707
           ],
           "zmax": 11.106159511129016,
           "zmin": 0.6931471805599453
          },
          {
           "hovertemplate": "%{x}<br>Total confirmed cases: %{y:,}<extra></extra>",
           "line": {
            "color": "Red"
           },
           "mode": "lines",
           "name": "Total Confirmed Cases",
           "type": "scatter",
           "x": [
            "10/01/2020",
            "11/01/2020",
            "12/01/2020",
            "13/01/2020",
            "14/01/2020",
            "15/01/2020",
            "16/01/2020",
            "17/01/2020",
            "18/01/2020",
            "19/01/2020",
            "20/01/2020",
            "21/01/2020",
            "22/01/2020",
            "23/01/2020",
            "24/01/2020",
            "25/01/2020",
            "26/01/2020",
            "27/01/2020",
            "28/01/2020",
            "29/01/2020",
            "30/01/2020",
            "31/01/2020",
            "01/02/2020",
            "02/02/2020",
            "03/02/2020",
            "04/02/2020",
            "05/02/2020",
            "06/02/2020",
            "07/02/2020",
            "08/02/2020",
            "09/02/2020",
            "10/02/2020",
            "11/02/2020",
            "12/02/2020",
            "13/02/2020",
            "14/02/2020"
           ],
           "y": [
            44,
            44,
            44,
            45,
            45,
            45,
            47,
            65,
            124,
            204,
            295,
            446,
            569,
            841,
            1121,
            2105,
            2865,
            4642,
            6074,
            7800,
            9838,
            12016,
            14624,
            17416,
            20634,
            24611,
            28330
           ]
          },
          {
           "hovertemplate": "%{x}<br>Total deaths: %{y:,}<extra></extra>",
           "line": {
            "color": "Black"
           },
           "mode": "lines",
           "name": "Total Deaths",
           "type": "scatter",
           "x": [
            "10/01/2020",
            "11/01/2020",
            "12/01/2020",
            "13/01/2020",
            "14/01/2020",
            "15/01/2020",
            "16/01/2020",
            "17/01/2020",
            "18/01/2020",
            "19/01/2020",
            "20/01/2020",
            "21/01/2020",
            "22/01/2020",
            "23/01/2020",
            "24/01/2020",
            "25/01/2020",
            "26/01/2020",
            "27/01/2020",
            "28/01/2020",
            "29/01/2020",
            "30/01/2020",
            "31/01/2020",
            "01/02/2020",
            "02/02/2020",
            "03/02/2020",
            "04/02/2020",
            "05/02/2020",
            "06/02/2020",
            "07/02/2020",
            "08/02/2020",
            "09/02/2020",
            "10/02/2020",
            "11/02/2020",
            "12/02/2020",
            "13/02/2020",
            "14/02/2020"
           ],
           "y": [
            1,
            1,
            1,
            1,
            1,
            2,
            2,
            2,
            2,
            3,
            3,
            9,
            17,
            26,
            41,
            56,
            82,
            106,
            132,
            170,
            213,
            259,
            305,
            362,
            427,
            493,
            565
           ]
          }
         ],
         "name": "05/02/2020"
        },
        {
         "data": [
          {
           "colorbar": {
            "len": 0.8,
            "tickmode": "array",
            "ticks": "outside",
            "ticktext": [
             "1",
             "2",
             "7",
             "37",
             "587",
             "66,579"
            ],
            "tickvals": [
             0.6931471805599453,
             1.2071831091304142,
             2.1024265839075182,
             3.6615800099332865,
             6.376997071747834,
             11.106159511129016
            ],
            "title": {
             "text": "<b>Confirmed Cases</b>"
            },
            "y": 1,
            "yanchor": "top"
           },
           "colorscale": [
            [
             0,
             "rgb(255,245,240)"
            ],
            [
             0.125,
             "rgb(254,224,210)"
            ],
            [
             0.25,
             "rgb(252,187,161)"
            ],
            [
             0.375,
             "rgb(252,146,114)"
            ],
            [
             0.5,
             "rgb(251,106,74)"
            ],
            [
             0.625,
             "rgb(239,59,44)"
            ],
            [
             0.75,
             "rgb(203,24,29)"
            ],
            [
             0.875,
             "rgb(165,15,21)"
            ],
            [
             1,
             "rgb(103,0,13)"
            ]
           ],
           "hovertemplate": [
            "06/02/2020<br>Australia<br>Confirmed cases: 15<br>Deaths: 0",
            "06/02/2020<br>Belgium<br>Confirmed cases: 1<br>Deaths: 0",
            "06/02/2020<br>Cambodia<br>Confirmed cases: 1<br>Deaths: 0",
            "06/02/2020<br>Canada<br>Confirmed cases: 7<br>Deaths: 0",
            "06/02/2020<br>China<br>Confirmed cases: 31,232<br>Deaths: 637",
            "06/02/2020<br>Finland<br>Confirmed cases: 1<br>Deaths: 0",
            "06/02/2020<br>France<br>Confirmed cases: 6<br>Deaths: 0",
            "06/02/2020<br>Germany<br>Confirmed cases: 13<br>Deaths: 0",
            "06/02/2020<br>India<br>Confirmed cases: 3<br>Deaths: 0",
            "06/02/2020<br>Italy<br>Confirmed cases: 3<br>Deaths: 0",
            "06/02/2020<br>Japan<br>Confirmed cases: 45<br>Deaths: 0",
            "06/02/2020<br>Malaysia<br>Confirmed cases: 14<br>Deaths: 0",
            "06/02/2020<br>Nepal<br>Confirmed cases: 1<br>Deaths: 0",
            "06/02/2020<br>Phillipines<br>Confirmed cases: 3<br>Deaths: 1",
            "06/02/2020<br>Russia<br>Confirmed cases: 2<br>Deaths: 0",
            "06/02/2020<br>Singapore<br>Confirmed cases: 30<br>Deaths: 0",
            "06/02/2020<br>South Korea<br>Confirmed cases: 23<br>Deaths: 0",
            "06/02/2020<br>Spain<br>Confirmed cases: 1<br>Deaths: 0",
            "06/02/2020<br>Sri Lanka<br>Confirmed cases: 1<br>Deaths: 0",
            "06/02/2020<br>Sweden<br>Confirmed cases: 1<br>Deaths: 0",
            "06/02/2020<br>Thailand<br>Confirmed cases: 25<br>Deaths: 0",
            "06/02/2020<br>United Arab Emirates<br>Confirmed cases: 5<br>Deaths: 0",
            "06/02/2020<br>United Kingdom<br>Confirmed cases: 3<br>Deaths: 0",
            "06/02/2020<br>United States of America<br>Confirmed cases: 12<br>Deaths: 0",
            "06/02/2020<br>Vietnam<br>Confirmed cases: 12<br>Deaths: 0"
           ],
           "locations": [
            "AUS",
            "BEL",
            "KHM",
            "CAN",
            "CHN",
            "FIN",
            "FRA",
            "DEU",
            "IND",
            "ITA",
            "JPN",
            "MYS",
            "NPL",
            "PHL",
            "RUS",
            "SGP",
            "KOR",
            "ESP",
            "LKA",
            "SWE",
            "THA",
            "ARE",
            "GBR",
            "USA",
            "VNM"
           ],
           "name": "",
           "showlegend": false,
           "type": "choropleth",
           "z": [
            2.772588722239781,
            0.6931471805599453,
            0.6931471805599453,
            2.0794415416798357,
            10.349230507142863,
            0.6931471805599453,
            1.9459101490553132,
            2.6390573296152584,
            1.3862943611198906,
            1.3862943611198906,
            3.828641396489095,
            2.70805020110221,
            0.6931471805599453,
            1.3862943611198906,
            1.0986122886681098,
            3.4339872044851463,
            3.1780538303479458,
            0.6931471805599453,
            0.6931471805599453,
            0.6931471805599453,
            3.258096538021482,
            1.791759469228055,
            1.3862943611198906,
            2.5649493574615367,
            2.5649493574615367
           ],
           "zmax": 11.106159511129016,
           "zmin": 0.6931471805599453
          },
          {
           "hovertemplate": "%{x}<br>Total confirmed cases: %{y:,}<extra></extra>",
           "line": {
            "color": "Red"
           },
           "mode": "lines",
           "name": "Total Confirmed Cases",
           "type": "scatter",
           "x": [
            "10/01/2020",
            "11/01/2020",
            "12/01/2020",
            "13/01/2020",
            "14/01/2020",
            "15/01/2020",
            "16/01/2020",
            "17/01/2020",
            "18/01/2020",
            "19/01/2020",
            "20/01/2020",
            "21/01/2020",
            "22/01/2020",
            "23/01/2020",
            "24/01/2020",
            "25/01/2020",
            "26/01/2020",
            "27/01/2020",
            "28/01/2020",
            "29/01/2020",
            "30/01/2020",
            "31/01/2020",
            "01/02/2020",
            "02/02/2020",
            "03/02/2020",
            "04/02/2020",
            "05/02/2020",
            "06/02/2020",
            "07/02/2020",
            "08/02/2020",
            "09/02/2020",
            "10/02/2020",
            "11/02/2020",
            "12/02/2020",
            "13/02/2020",
            "14/02/2020"
           ],
           "y": [
            44,
            44,
            44,
            45,
            45,
            45,
            47,
            65,
            124,
            204,
            295,
            446,
            569,
            841,
            1121,
            2105,
            2865,
            4642,
            6074,
            7800,
            9838,
            12016,
            14624,
            17416,
            20634,
            24611,
            28330,
            31460
           ]
          },
          {
           "hovertemplate": "%{x}<br>Total deaths: %{y:,}<extra></extra>",
           "line": {
            "color": "Black"
           },
           "mode": "lines",
           "name": "Total Deaths",
           "type": "scatter",
           "x": [
            "10/01/2020",
            "11/01/2020",
            "12/01/2020",
            "13/01/2020",
            "14/01/2020",
            "15/01/2020",
            "16/01/2020",
            "17/01/2020",
            "18/01/2020",
            "19/01/2020",
            "20/01/2020",
            "21/01/2020",
            "22/01/2020",
            "23/01/2020",
            "24/01/2020",
            "25/01/2020",
            "26/01/2020",
            "27/01/2020",
            "28/01/2020",
            "29/01/2020",
            "30/01/2020",
            "31/01/2020",
            "01/02/2020",
            "02/02/2020",
            "03/02/2020",
            "04/02/2020",
            "05/02/2020",
            "06/02/2020",
            "07/02/2020",
            "08/02/2020",
            "09/02/2020",
            "10/02/2020",
            "11/02/2020",
            "12/02/2020",
            "13/02/2020",
            "14/02/2020"
           ],
           "y": [
            1,
            1,
            1,
            1,
            1,
            2,
            2,
            2,
            2,
            3,
            3,
            9,
            17,
            26,
            41,
            56,
            82,
            106,
            132,
            170,
            213,
            259,
            305,
            362,
            427,
            493,
            565,
            638
           ]
          }
         ],
         "name": "06/02/2020"
        },
        {
         "data": [
          {
           "colorbar": {
            "len": 0.8,
            "tickmode": "array",
            "ticks": "outside",
            "ticktext": [
             "1",
             "2",
             "7",
             "37",
             "587",
             "66,579"
            ],
            "tickvals": [
             0.6931471805599453,
             1.2071831091304142,
             2.1024265839075182,
             3.6615800099332865,
             6.376997071747834,
             11.106159511129016
            ],
            "title": {
             "text": "<b>Confirmed Cases</b>"
            },
            "y": 1,
            "yanchor": "top"
           },
           "colorscale": [
            [
             0,
             "rgb(255,245,240)"
            ],
            [
             0.125,
             "rgb(254,224,210)"
            ],
            [
             0.25,
             "rgb(252,187,161)"
            ],
            [
             0.375,
             "rgb(252,146,114)"
            ],
            [
             0.5,
             "rgb(251,106,74)"
            ],
            [
             0.625,
             "rgb(239,59,44)"
            ],
            [
             0.75,
             "rgb(203,24,29)"
            ],
            [
             0.875,
             "rgb(165,15,21)"
            ],
            [
             1,
             "rgb(103,0,13)"
            ]
           ],
           "hovertemplate": [
            "07/02/2020<br>Australia<br>Confirmed cases: 15<br>Deaths: 0",
            "07/02/2020<br>Belgium<br>Confirmed cases: 1<br>Deaths: 0",
            "07/02/2020<br>Cambodia<br>Confirmed cases: 1<br>Deaths: 0",
            "07/02/2020<br>Canada<br>Confirmed cases: 7<br>Deaths: 0",
            "07/02/2020<br>China<br>Confirmed cases: 34,620<br>Deaths: 724",
            "07/02/2020<br>Finland<br>Confirmed cases: 1<br>Deaths: 0",
            "07/02/2020<br>France<br>Confirmed cases: 6<br>Deaths: 0",
            "07/02/2020<br>Germany<br>Confirmed cases: 14<br>Deaths: 0",
            "07/02/2020<br>India<br>Confirmed cases: 3<br>Deaths: 0",
            "07/02/2020<br>Italy<br>Confirmed cases: 3<br>Deaths: 0",
            "07/02/2020<br>Japan<br>Confirmed cases: 86<br>Deaths: 0",
            "07/02/2020<br>Malaysia<br>Confirmed cases: 15<br>Deaths: 0",
            "07/02/2020<br>Nepal<br>Confirmed cases: 1<br>Deaths: 0",
            "07/02/2020<br>Phillipines<br>Confirmed cases: 3<br>Deaths: 1",
            "07/02/2020<br>Russia<br>Confirmed cases: 2<br>Deaths: 0",
            "07/02/2020<br>Singapore<br>Confirmed cases: 33<br>Deaths: 0",
            "07/02/2020<br>South Korea<br>Confirmed cases: 24<br>Deaths: 0",
            "07/02/2020<br>Spain<br>Confirmed cases: 1<br>Deaths: 0",
            "07/02/2020<br>Sri Lanka<br>Confirmed cases: 1<br>Deaths: 0",
            "07/02/2020<br>Sweden<br>Confirmed cases: 1<br>Deaths: 0",
            "07/02/2020<br>Thailand<br>Confirmed cases: 25<br>Deaths: 0",
            "07/02/2020<br>United Arab Emirates<br>Confirmed cases: 7<br>Deaths: 0",
            "07/02/2020<br>United Kingdom<br>Confirmed cases: 3<br>Deaths: 0",
            "07/02/2020<br>United States of America<br>Confirmed cases: 12<br>Deaths: 0",
            "07/02/2020<br>Vietnam<br>Confirmed cases: 14<br>Deaths: 0"
           ],
           "locations": [
            "AUS",
            "BEL",
            "KHM",
            "CAN",
            "CHN",
            "FIN",
            "FRA",
            "DEU",
            "IND",
            "ITA",
            "JPN",
            "MYS",
            "NPL",
            "PHL",
            "RUS",
            "SGP",
            "KOR",
            "ESP",
            "LKA",
            "SWE",
            "THA",
            "ARE",
            "GBR",
            "USA",
            "VNM"
           ],
           "name": "",
           "showlegend": false,
           "type": "choropleth",
           "z": [
            2.772588722239781,
            0.6931471805599453,
            0.6931471805599453,
            2.0794415416798357,
            10.452215713350586,
            0.6931471805599453,
            1.9459101490553132,
            2.70805020110221,
            1.3862943611198906,
            1.3862943611198906,
            4.465908118654584,
            2.772588722239781,
            0.6931471805599453,
            1.3862943611198906,
            1.0986122886681098,
            3.5263605246161616,
            3.2188758248682006,
            0.6931471805599453,
            0.6931471805599453,
            0.6931471805599453,
            3.258096538021482,
            2.0794415416798357,
            1.3862943611198906,
            2.5649493574615367,
            2.70805020110221
           ],
           "zmax": 11.106159511129016,
           "zmin": 0.6931471805599453
          },
          {
           "hovertemplate": "%{x}<br>Total confirmed cases: %{y:,}<extra></extra>",
           "line": {
            "color": "Red"
           },
           "mode": "lines",
           "name": "Total Confirmed Cases",
           "type": "scatter",
           "x": [
            "10/01/2020",
            "11/01/2020",
            "12/01/2020",
            "13/01/2020",
            "14/01/2020",
            "15/01/2020",
            "16/01/2020",
            "17/01/2020",
            "18/01/2020",
            "19/01/2020",
            "20/01/2020",
            "21/01/2020",
            "22/01/2020",
            "23/01/2020",
            "24/01/2020",
            "25/01/2020",
            "26/01/2020",
            "27/01/2020",
            "28/01/2020",
            "29/01/2020",
            "30/01/2020",
            "31/01/2020",
            "01/02/2020",
            "02/02/2020",
            "03/02/2020",
            "04/02/2020",
            "05/02/2020",
            "06/02/2020",
            "07/02/2020",
            "08/02/2020",
            "09/02/2020",
            "10/02/2020",
            "11/02/2020",
            "12/02/2020",
            "13/02/2020",
            "14/02/2020"
           ],
           "y": [
            44,
            44,
            44,
            45,
            45,
            45,
            47,
            65,
            124,
            204,
            295,
            446,
            569,
            841,
            1121,
            2105,
            2865,
            4642,
            6074,
            7800,
            9838,
            12016,
            14624,
            17416,
            20634,
            24611,
            28330,
            31460,
            34899
           ]
          },
          {
           "hovertemplate": "%{x}<br>Total deaths: %{y:,}<extra></extra>",
           "line": {
            "color": "Black"
           },
           "mode": "lines",
           "name": "Total Deaths",
           "type": "scatter",
           "x": [
            "10/01/2020",
            "11/01/2020",
            "12/01/2020",
            "13/01/2020",
            "14/01/2020",
            "15/01/2020",
            "16/01/2020",
            "17/01/2020",
            "18/01/2020",
            "19/01/2020",
            "20/01/2020",
            "21/01/2020",
            "22/01/2020",
            "23/01/2020",
            "24/01/2020",
            "25/01/2020",
            "26/01/2020",
            "27/01/2020",
            "28/01/2020",
            "29/01/2020",
            "30/01/2020",
            "31/01/2020",
            "01/02/2020",
            "02/02/2020",
            "03/02/2020",
            "04/02/2020",
            "05/02/2020",
            "06/02/2020",
            "07/02/2020",
            "08/02/2020",
            "09/02/2020",
            "10/02/2020",
            "11/02/2020",
            "12/02/2020",
            "13/02/2020",
            "14/02/2020"
           ],
           "y": [
            1,
            1,
            1,
            1,
            1,
            2,
            2,
            2,
            2,
            3,
            3,
            9,
            17,
            26,
            41,
            56,
            82,
            106,
            132,
            170,
            213,
            259,
            305,
            362,
            427,
            493,
            565,
            638,
            725
           ]
          }
         ],
         "name": "07/02/2020"
        },
        {
         "data": [
          {
           "colorbar": {
            "len": 0.8,
            "tickmode": "array",
            "ticks": "outside",
            "ticktext": [
             "1",
             "2",
             "7",
             "37",
             "587",
             "66,579"
            ],
            "tickvals": [
             0.6931471805599453,
             1.2071831091304142,
             2.1024265839075182,
             3.6615800099332865,
             6.376997071747834,
             11.106159511129016
            ],
            "title": {
             "text": "<b>Confirmed Cases</b>"
            },
            "y": 1,
            "yanchor": "top"
           },
           "colorscale": [
            [
             0,
             "rgb(255,245,240)"
            ],
            [
             0.125,
             "rgb(254,224,210)"
            ],
            [
             0.25,
             "rgb(252,187,161)"
            ],
            [
             0.375,
             "rgb(252,146,114)"
            ],
            [
             0.5,
             "rgb(251,106,74)"
            ],
            [
             0.625,
             "rgb(239,59,44)"
            ],
            [
             0.75,
             "rgb(203,24,29)"
            ],
            [
             0.875,
             "rgb(165,15,21)"
            ],
            [
             1,
             "rgb(103,0,13)"
            ]
           ],
           "hovertemplate": [
            "08/02/2020<br>Australia<br>Confirmed cases: 15<br>Deaths: 0",
            "08/02/2020<br>Belgium<br>Confirmed cases: 1<br>Deaths: 0",
            "08/02/2020<br>Cambodia<br>Confirmed cases: 1<br>Deaths: 0",
            "08/02/2020<br>Canada<br>Confirmed cases: 7<br>Deaths: 0",
            "08/02/2020<br>China<br>Confirmed cases: 37,252<br>Deaths: 812",
            "08/02/2020<br>Finland<br>Confirmed cases: 1<br>Deaths: 0",
            "08/02/2020<br>France<br>Confirmed cases: 11<br>Deaths: 0",
            "08/02/2020<br>Germany<br>Confirmed cases: 14<br>Deaths: 0",
            "08/02/2020<br>India<br>Confirmed cases: 3<br>Deaths: 0",
            "08/02/2020<br>Italy<br>Confirmed cases: 3<br>Deaths: 0",
            "08/02/2020<br>Japan<br>Confirmed cases: 89<br>Deaths: 0",
            "08/02/2020<br>Malaysia<br>Confirmed cases: 16<br>Deaths: 0",
            "08/02/2020<br>Nepal<br>Confirmed cases: 1<br>Deaths: 0",
            "08/02/2020<br>Phillipines<br>Confirmed cases: 3<br>Deaths: 1",
            "08/02/2020<br>Russia<br>Confirmed cases: 2<br>Deaths: 0",
            "08/02/2020<br>Singapore<br>Confirmed cases: 40<br>Deaths: 0",
            "08/02/2020<br>South Korea<br>Confirmed cases: 24<br>Deaths: 0",
            "08/02/2020<br>Spain<br>Confirmed cases: 1<br>Deaths: 0",
            "08/02/2020<br>Sri Lanka<br>Confirmed cases: 1<br>Deaths: 0",
            "08/02/2020<br>Sweden<br>Confirmed cases: 1<br>Deaths: 0",
            "08/02/2020<br>Thailand<br>Confirmed cases: 32<br>Deaths: 0",
            "08/02/2020<br>United Arab Emirates<br>Confirmed cases: 7<br>Deaths: 0",
            "08/02/2020<br>United Kingdom<br>Confirmed cases: 3<br>Deaths: 0",
            "08/02/2020<br>United States of America<br>Confirmed cases: 12<br>Deaths: 0",
            "08/02/2020<br>Vietnam<br>Confirmed cases: 14<br>Deaths: 0"
           ],
           "locations": [
            "AUS",
            "BEL",
            "KHM",
            "CAN",
            "CHN",
            "FIN",
            "FRA",
            "DEU",
            "IND",
            "ITA",
            "JPN",
            "MYS",
            "NPL",
            "PHL",
            "RUS",
            "SGP",
            "KOR",
            "ESP",
            "LKA",
            "SWE",
            "THA",
            "ARE",
            "GBR",
            "USA",
            "VNM"
           ],
           "name": "",
           "showlegend": false,
           "type": "choropleth",
           "z": [
            2.772588722239781,
            0.6931471805599453,
            0.6931471805599453,
            2.0794415416798357,
            10.525487757477535,
            0.6931471805599453,
            2.4849066497880004,
            2.70805020110221,
            1.3862943611198906,
            1.3862943611198906,
            4.499809670330265,
            2.833213344056216,
            0.6931471805599453,
            1.3862943611198906,
            1.0986122886681098,
            3.713572066704308,
            3.2188758248682006,
            0.6931471805599453,
            0.6931471805599453,
            0.6931471805599453,
            3.4965075614664802,
            2.0794415416798357,
            1.3862943611198906,
            2.5649493574615367,
            2.70805020110221
           ],
           "zmax": 11.106159511129016,
           "zmin": 0.6931471805599453
          },
          {
           "hovertemplate": "%{x}<br>Total confirmed cases: %{y:,}<extra></extra>",
           "line": {
            "color": "Red"
           },
           "mode": "lines",
           "name": "Total Confirmed Cases",
           "type": "scatter",
           "x": [
            "10/01/2020",
            "11/01/2020",
            "12/01/2020",
            "13/01/2020",
            "14/01/2020",
            "15/01/2020",
            "16/01/2020",
            "17/01/2020",
            "18/01/2020",
            "19/01/2020",
            "20/01/2020",
            "21/01/2020",
            "22/01/2020",
            "23/01/2020",
            "24/01/2020",
            "25/01/2020",
            "26/01/2020",
            "27/01/2020",
            "28/01/2020",
            "29/01/2020",
            "30/01/2020",
            "31/01/2020",
            "01/02/2020",
            "02/02/2020",
            "03/02/2020",
            "04/02/2020",
            "05/02/2020",
            "06/02/2020",
            "07/02/2020",
            "08/02/2020",
            "09/02/2020",
            "10/02/2020",
            "11/02/2020",
            "12/02/2020",
            "13/02/2020",
            "14/02/2020"
           ],
           "y": [
            44,
            44,
            44,
            45,
            45,
            45,
            47,
            65,
            124,
            204,
            295,
            446,
            569,
            841,
            1121,
            2105,
            2865,
            4642,
            6074,
            7800,
            9838,
            12016,
            14624,
            17416,
            20634,
            24611,
            28330,
            31460,
            34899,
            37554
           ]
          },
          {
           "hovertemplate": "%{x}<br>Total deaths: %{y:,}<extra></extra>",
           "line": {
            "color": "Black"
           },
           "mode": "lines",
           "name": "Total Deaths",
           "type": "scatter",
           "x": [
            "10/01/2020",
            "11/01/2020",
            "12/01/2020",
            "13/01/2020",
            "14/01/2020",
            "15/01/2020",
            "16/01/2020",
            "17/01/2020",
            "18/01/2020",
            "19/01/2020",
            "20/01/2020",
            "21/01/2020",
            "22/01/2020",
            "23/01/2020",
            "24/01/2020",
            "25/01/2020",
            "26/01/2020",
            "27/01/2020",
            "28/01/2020",
            "29/01/2020",
            "30/01/2020",
            "31/01/2020",
            "01/02/2020",
            "02/02/2020",
            "03/02/2020",
            "04/02/2020",
            "05/02/2020",
            "06/02/2020",
            "07/02/2020",
            "08/02/2020",
            "09/02/2020",
            "10/02/2020",
            "11/02/2020",
            "12/02/2020",
            "13/02/2020",
            "14/02/2020"
           ],
           "y": [
            1,
            1,
            1,
            1,
            1,
            2,
            2,
            2,
            2,
            3,
            3,
            9,
            17,
            26,
            41,
            56,
            82,
            106,
            132,
            170,
            213,
            259,
            305,
            362,
            427,
            493,
            565,
            638,
            725,
            813
           ]
          }
         ],
         "name": "08/02/2020"
        },
        {
         "data": [
          {
           "colorbar": {
            "len": 0.8,
            "tickmode": "array",
            "ticks": "outside",
            "ticktext": [
             "1",
             "2",
             "7",
             "37",
             "587",
             "66,579"
            ],
            "tickvals": [
             0.6931471805599453,
             1.2071831091304142,
             2.1024265839075182,
             3.6615800099332865,
             6.376997071747834,
             11.106159511129016
            ],
            "title": {
             "text": "<b>Confirmed Cases</b>"
            },
            "y": 1,
            "yanchor": "top"
           },
           "colorscale": [
            [
             0,
             "rgb(255,245,240)"
            ],
            [
             0.125,
             "rgb(254,224,210)"
            ],
            [
             0.25,
             "rgb(252,187,161)"
            ],
            [
             0.375,
             "rgb(252,146,114)"
            ],
            [
             0.5,
             "rgb(251,106,74)"
            ],
            [
             0.625,
             "rgb(239,59,44)"
            ],
            [
             0.75,
             "rgb(203,24,29)"
            ],
            [
             0.875,
             "rgb(165,15,21)"
            ],
            [
             1,
             "rgb(103,0,13)"
            ]
           ],
           "hovertemplate": [
            "09/02/2020<br>Australia<br>Confirmed cases: 15<br>Deaths: 0",
            "09/02/2020<br>Belgium<br>Confirmed cases: 1<br>Deaths: 0",
            "09/02/2020<br>Cambodia<br>Confirmed cases: 1<br>Deaths: 0",
            "09/02/2020<br>Canada<br>Confirmed cases: 7<br>Deaths: 0",
            "09/02/2020<br>China<br>Confirmed cases: 40,158<br>Deaths: 909",
            "09/02/2020<br>Finland<br>Confirmed cases: 1<br>Deaths: 0",
            "09/02/2020<br>France<br>Confirmed cases: 11<br>Deaths: 0",
            "09/02/2020<br>Germany<br>Confirmed cases: 14<br>Deaths: 0",
            "09/02/2020<br>India<br>Confirmed cases: 3<br>Deaths: 0",
            "09/02/2020<br>Italy<br>Confirmed cases: 3<br>Deaths: 0",
            "09/02/2020<br>Japan<br>Confirmed cases: 96<br>Deaths: 0",
            "09/02/2020<br>Malaysia<br>Confirmed cases: 17<br>Deaths: 0",
            "09/02/2020<br>Nepal<br>Confirmed cases: 1<br>Deaths: 0",
            "09/02/2020<br>Phillipines<br>Confirmed cases: 3<br>Deaths: 1",
            "09/02/2020<br>Russia<br>Confirmed cases: 2<br>Deaths: 0",
            "09/02/2020<br>Singapore<br>Confirmed cases: 43<br>Deaths: 0",
            "09/02/2020<br>South Korea<br>Confirmed cases: 27<br>Deaths: 0",
            "09/02/2020<br>Spain<br>Confirmed cases: 2<br>Deaths: 0",
            "09/02/2020<br>Sri Lanka<br>Confirmed cases: 1<br>Deaths: 0",
            "09/02/2020<br>Sweden<br>Confirmed cases: 1<br>Deaths: 0",
            "09/02/2020<br>Thailand<br>Confirmed cases: 32<br>Deaths: 0",
            "09/02/2020<br>United Arab Emirates<br>Confirmed cases: 7<br>Deaths: 0",
            "09/02/2020<br>United Kingdom<br>Confirmed cases: 4<br>Deaths: 0",
            "09/02/2020<br>United States of America<br>Confirmed cases: 12<br>Deaths: 0",
            "09/02/2020<br>Vietnam<br>Confirmed cases: 15<br>Deaths: 0"
           ],
           "locations": [
            "AUS",
            "BEL",
            "KHM",
            "CAN",
            "CHN",
            "FIN",
            "FRA",
            "DEU",
            "IND",
            "ITA",
            "JPN",
            "MYS",
            "NPL",
            "PHL",
            "RUS",
            "SGP",
            "KOR",
            "ESP",
            "LKA",
            "SWE",
            "THA",
            "ARE",
            "GBR",
            "USA",
            "VNM"
           ],
           "name": "",
           "showlegend": false,
           "type": "choropleth",
           "z": [
            2.772588722239781,
            0.6931471805599453,
            0.6931471805599453,
            2.0794415416798357,
            10.600601853657185,
            0.6931471805599453,
            2.4849066497880004,
            2.70805020110221,
            1.3862943611198906,
            1.3862943611198906,
            4.574710978503383,
            2.8903717578961645,
            0.6931471805599453,
            1.3862943611198906,
            1.0986122886681098,
            3.784189633918261,
            3.332204510175204,
            1.0986122886681098,
            0.6931471805599453,
            0.6931471805599453,
            3.4965075614664802,
            2.0794415416798357,
            1.6094379124341003,
            2.5649493574615367,
            2.772588722239781
           ],
           "zmax": 11.106159511129016,
           "zmin": 0.6931471805599453
          },
          {
           "hovertemplate": "%{x}<br>Total confirmed cases: %{y:,}<extra></extra>",
           "line": {
            "color": "Red"
           },
           "mode": "lines",
           "name": "Total Confirmed Cases",
           "type": "scatter",
           "x": [
            "10/01/2020",
            "11/01/2020",
            "12/01/2020",
            "13/01/2020",
            "14/01/2020",
            "15/01/2020",
            "16/01/2020",
            "17/01/2020",
            "18/01/2020",
            "19/01/2020",
            "20/01/2020",
            "21/01/2020",
            "22/01/2020",
            "23/01/2020",
            "24/01/2020",
            "25/01/2020",
            "26/01/2020",
            "27/01/2020",
            "28/01/2020",
            "29/01/2020",
            "30/01/2020",
            "31/01/2020",
            "01/02/2020",
            "02/02/2020",
            "03/02/2020",
            "04/02/2020",
            "05/02/2020",
            "06/02/2020",
            "07/02/2020",
            "08/02/2020",
            "09/02/2020",
            "10/02/2020",
            "11/02/2020",
            "12/02/2020",
            "13/02/2020",
            "14/02/2020"
           ],
           "y": [
            44,
            44,
            44,
            45,
            45,
            45,
            47,
            65,
            124,
            204,
            295,
            446,
            569,
            841,
            1121,
            2105,
            2865,
            4642,
            6074,
            7800,
            9838,
            12016,
            14624,
            17416,
            20634,
            24611,
            28330,
            31460,
            34899,
            37554,
            40477
           ]
          },
          {
           "hovertemplate": "%{x}<br>Total deaths: %{y:,}<extra></extra>",
           "line": {
            "color": "Black"
           },
           "mode": "lines",
           "name": "Total Deaths",
           "type": "scatter",
           "x": [
            "10/01/2020",
            "11/01/2020",
            "12/01/2020",
            "13/01/2020",
            "14/01/2020",
            "15/01/2020",
            "16/01/2020",
            "17/01/2020",
            "18/01/2020",
            "19/01/2020",
            "20/01/2020",
            "21/01/2020",
            "22/01/2020",
            "23/01/2020",
            "24/01/2020",
            "25/01/2020",
            "26/01/2020",
            "27/01/2020",
            "28/01/2020",
            "29/01/2020",
            "30/01/2020",
            "31/01/2020",
            "01/02/2020",
            "02/02/2020",
            "03/02/2020",
            "04/02/2020",
            "05/02/2020",
            "06/02/2020",
            "07/02/2020",
            "08/02/2020",
            "09/02/2020",
            "10/02/2020",
            "11/02/2020",
            "12/02/2020",
            "13/02/2020",
            "14/02/2020"
           ],
           "y": [
            1,
            1,
            1,
            1,
            1,
            2,
            2,
            2,
            2,
            3,
            3,
            9,
            17,
            26,
            41,
            56,
            82,
            106,
            132,
            170,
            213,
            259,
            305,
            362,
            427,
            493,
            565,
            638,
            725,
            813,
            910
           ]
          }
         ],
         "name": "09/02/2020"
        },
        {
         "data": [
          {
           "colorbar": {
            "len": 0.8,
            "tickmode": "array",
            "ticks": "outside",
            "ticktext": [
             "1",
             "2",
             "7",
             "37",
             "587",
             "66,579"
            ],
            "tickvals": [
             0.6931471805599453,
             1.2071831091304142,
             2.1024265839075182,
             3.6615800099332865,
             6.376997071747834,
             11.106159511129016
            ],
            "title": {
             "text": "<b>Confirmed Cases</b>"
            },
            "y": 1,
            "yanchor": "top"
           },
           "colorscale": [
            [
             0,
             "rgb(255,245,240)"
            ],
            [
             0.125,
             "rgb(254,224,210)"
            ],
            [
             0.25,
             "rgb(252,187,161)"
            ],
            [
             0.375,
             "rgb(252,146,114)"
            ],
            [
             0.5,
             "rgb(251,106,74)"
            ],
            [
             0.625,
             "rgb(239,59,44)"
            ],
            [
             0.75,
             "rgb(203,24,29)"
            ],
            [
             0.875,
             "rgb(165,15,21)"
            ],
            [
             1,
             "rgb(103,0,13)"
            ]
           ],
           "hovertemplate": [
            "10/02/2020<br>Australia<br>Confirmed cases: 15<br>Deaths: 0",
            "10/02/2020<br>Belgium<br>Confirmed cases: 1<br>Deaths: 0",
            "10/02/2020<br>Cambodia<br>Confirmed cases: 1<br>Deaths: 0",
            "10/02/2020<br>Canada<br>Confirmed cases: 7<br>Deaths: 0",
            "10/02/2020<br>China<br>Confirmed cases: 42,774<br>Deaths: 1,017",
            "10/02/2020<br>Finland<br>Confirmed cases: 1<br>Deaths: 0",
            "10/02/2020<br>France<br>Confirmed cases: 11<br>Deaths: 0",
            "10/02/2020<br>Germany<br>Confirmed cases: 14<br>Deaths: 0",
            "10/02/2020<br>India<br>Confirmed cases: 3<br>Deaths: 0",
            "10/02/2020<br>Italy<br>Confirmed cases: 3<br>Deaths: 0",
            "10/02/2020<br>Japan<br>Confirmed cases: 161<br>Deaths: 0",
            "10/02/2020<br>Malaysia<br>Confirmed cases: 18<br>Deaths: 0",
            "10/02/2020<br>Nepal<br>Confirmed cases: 1<br>Deaths: 0",
            "10/02/2020<br>Phillipines<br>Confirmed cases: 3<br>Deaths: 1",
            "10/02/2020<br>Russia<br>Confirmed cases: 2<br>Deaths: 0",
            "10/02/2020<br>Singapore<br>Confirmed cases: 45<br>Deaths: 0",
            "10/02/2020<br>South Korea<br>Confirmed cases: 27<br>Deaths: 0",
            "10/02/2020<br>Spain<br>Confirmed cases: 2<br>Deaths: 0",
            "10/02/2020<br>Sri Lanka<br>Confirmed cases: 1<br>Deaths: 0",
            "10/02/2020<br>Sweden<br>Confirmed cases: 1<br>Deaths: 0",
            "10/02/2020<br>Thailand<br>Confirmed cases: 32<br>Deaths: 0",
            "10/02/2020<br>United Arab Emirates<br>Confirmed cases: 8<br>Deaths: 0",
            "10/02/2020<br>United Kingdom<br>Confirmed cases: 8<br>Deaths: 0",
            "10/02/2020<br>United States of America<br>Confirmed cases: 12<br>Deaths: 0",
            "10/02/2020<br>Vietnam<br>Confirmed cases: 15<br>Deaths: 0"
           ],
           "locations": [
            "AUS",
            "BEL",
            "KHM",
            "CAN",
            "CHN",
            "FIN",
            "FRA",
            "DEU",
            "IND",
            "ITA",
            "JPN",
            "MYS",
            "NPL",
            "PHL",
            "RUS",
            "SGP",
            "KOR",
            "ESP",
            "LKA",
            "SWE",
            "THA",
            "ARE",
            "GBR",
            "USA",
            "VNM"
           ],
           "name": "",
           "showlegend": false,
           "type": "choropleth",
           "z": [
            2.772588722239781,
            0.6931471805599453,
            0.6931471805599453,
            2.0794415416798357,
            10.663709098760394,
            0.6931471805599453,
            2.4849066497880004,
            2.70805020110221,
            1.3862943611198906,
            1.3862943611198906,
            5.087596335232384,
            2.9444389791664403,
            0.6931471805599453,
            1.3862943611198906,
            1.0986122886681098,
            3.828641396489095,
            3.332204510175204,
            1.0986122886681098,
            0.6931471805599453,
            0.6931471805599453,
            3.4965075614664802,
            2.1972245773362196,
            2.1972245773362196,
            2.5649493574615367,
            2.772588722239781
           ],
           "zmax": 11.106159511129016,
           "zmin": 0.6931471805599453
          },
          {
           "hovertemplate": "%{x}<br>Total confirmed cases: %{y:,}<extra></extra>",
           "line": {
            "color": "Red"
           },
           "mode": "lines",
           "name": "Total Confirmed Cases",
           "type": "scatter",
           "x": [
            "10/01/2020",
            "11/01/2020",
            "12/01/2020",
            "13/01/2020",
            "14/01/2020",
            "15/01/2020",
            "16/01/2020",
            "17/01/2020",
            "18/01/2020",
            "19/01/2020",
            "20/01/2020",
            "21/01/2020",
            "22/01/2020",
            "23/01/2020",
            "24/01/2020",
            "25/01/2020",
            "26/01/2020",
            "27/01/2020",
            "28/01/2020",
            "29/01/2020",
            "30/01/2020",
            "31/01/2020",
            "01/02/2020",
            "02/02/2020",
            "03/02/2020",
            "04/02/2020",
            "05/02/2020",
            "06/02/2020",
            "07/02/2020",
            "08/02/2020",
            "09/02/2020",
            "10/02/2020",
            "11/02/2020",
            "12/02/2020",
            "13/02/2020",
            "14/02/2020"
           ],
           "y": [
            44,
            44,
            44,
            45,
            45,
            45,
            47,
            65,
            124,
            204,
            295,
            446,
            569,
            841,
            1121,
            2105,
            2865,
            4642,
            6074,
            7800,
            9838,
            12016,
            14624,
            17416,
            20634,
            24611,
            28330,
            31460,
            34899,
            37554,
            40477,
            43166
           ]
          },
          {
           "hovertemplate": "%{x}<br>Total deaths: %{y:,}<extra></extra>",
           "line": {
            "color": "Black"
           },
           "mode": "lines",
           "name": "Total Deaths",
           "type": "scatter",
           "x": [
            "10/01/2020",
            "11/01/2020",
            "12/01/2020",
            "13/01/2020",
            "14/01/2020",
            "15/01/2020",
            "16/01/2020",
            "17/01/2020",
            "18/01/2020",
            "19/01/2020",
            "20/01/2020",
            "21/01/2020",
            "22/01/2020",
            "23/01/2020",
            "24/01/2020",
            "25/01/2020",
            "26/01/2020",
            "27/01/2020",
            "28/01/2020",
            "29/01/2020",
            "30/01/2020",
            "31/01/2020",
            "01/02/2020",
            "02/02/2020",
            "03/02/2020",
            "04/02/2020",
            "05/02/2020",
            "06/02/2020",
            "07/02/2020",
            "08/02/2020",
            "09/02/2020",
            "10/02/2020",
            "11/02/2020",
            "12/02/2020",
            "13/02/2020",
            "14/02/2020"
           ],
           "y": [
            1,
            1,
            1,
            1,
            1,
            2,
            2,
            2,
            2,
            3,
            3,
            9,
            17,
            26,
            41,
            56,
            82,
            106,
            132,
            170,
            213,
            259,
            305,
            362,
            427,
            493,
            565,
            638,
            725,
            813,
            910,
            1018
           ]
          }
         ],
         "name": "10/02/2020"
        },
        {
         "data": [
          {
           "colorbar": {
            "len": 0.8,
            "tickmode": "array",
            "ticks": "outside",
            "ticktext": [
             "1",
             "2",
             "7",
             "37",
             "587",
             "66,579"
            ],
            "tickvals": [
             0.6931471805599453,
             1.2071831091304142,
             2.1024265839075182,
             3.6615800099332865,
             6.376997071747834,
             11.106159511129016
            ],
            "title": {
             "text": "<b>Confirmed Cases</b>"
            },
            "y": 1,
            "yanchor": "top"
           },
           "colorscale": [
            [
             0,
             "rgb(255,245,240)"
            ],
            [
             0.125,
             "rgb(254,224,210)"
            ],
            [
             0.25,
             "rgb(252,187,161)"
            ],
            [
             0.375,
             "rgb(252,146,114)"
            ],
            [
             0.5,
             "rgb(251,106,74)"
            ],
            [
             0.625,
             "rgb(239,59,44)"
            ],
            [
             0.75,
             "rgb(203,24,29)"
            ],
            [
             0.875,
             "rgb(165,15,21)"
            ],
            [
             1,
             "rgb(103,0,13)"
            ]
           ],
           "hovertemplate": [
            "11/02/2020<br>Australia<br>Confirmed cases: 15<br>Deaths: 0",
            "11/02/2020<br>Belgium<br>Confirmed cases: 1<br>Deaths: 0",
            "11/02/2020<br>Cambodia<br>Confirmed cases: 1<br>Deaths: 0",
            "11/02/2020<br>Canada<br>Confirmed cases: 7<br>Deaths: 0",
            "11/02/2020<br>China<br>Confirmed cases: 44,747<br>Deaths: 1,114",
            "11/02/2020<br>Finland<br>Confirmed cases: 1<br>Deaths: 0",
            "11/02/2020<br>France<br>Confirmed cases: 11<br>Deaths: 0",
            "11/02/2020<br>Germany<br>Confirmed cases: 16<br>Deaths: 0",
            "11/02/2020<br>India<br>Confirmed cases: 3<br>Deaths: 0",
            "11/02/2020<br>Italy<br>Confirmed cases: 3<br>Deaths: 0",
            "11/02/2020<br>Japan<br>Confirmed cases: 202<br>Deaths: 0",
            "11/02/2020<br>Malaysia<br>Confirmed cases: 18<br>Deaths: 0",
            "11/02/2020<br>Nepal<br>Confirmed cases: 1<br>Deaths: 0",
            "11/02/2020<br>Phillipines<br>Confirmed cases: 3<br>Deaths: 1",
            "11/02/2020<br>Russia<br>Confirmed cases: 2<br>Deaths: 0",
            "11/02/2020<br>Singapore<br>Confirmed cases: 47<br>Deaths: 0",
            "11/02/2020<br>South Korea<br>Confirmed cases: 29<br>Deaths: 0",
            "11/02/2020<br>Spain<br>Confirmed cases: 2<br>Deaths: 0",
            "11/02/2020<br>Sri Lanka<br>Confirmed cases: 1<br>Deaths: 0",
            "11/02/2020<br>Sweden<br>Confirmed cases: 1<br>Deaths: 0",
            "11/02/2020<br>Thailand<br>Confirmed cases: 33<br>Deaths: 0",
            "11/02/2020<br>United Arab Emirates<br>Confirmed cases: 8<br>Deaths: 0",
            "11/02/2020<br>United Kingdom<br>Confirmed cases: 8<br>Deaths: 0",
            "11/02/2020<br>United States of America<br>Confirmed cases: 13<br>Deaths: 0",
            "11/02/2020<br>Vietnam<br>Confirmed cases: 16<br>Deaths: 0"
           ],
           "locations": [
            "AUS",
            "BEL",
            "KHM",
            "CAN",
            "CHN",
            "FIN",
            "FRA",
            "DEU",
            "IND",
            "ITA",
            "JPN",
            "MYS",
            "NPL",
            "PHL",
            "RUS",
            "SGP",
            "KOR",
            "ESP",
            "LKA",
            "SWE",
            "THA",
            "ARE",
            "GBR",
            "USA",
            "VNM"
           ],
           "name": "",
           "showlegend": false,
           "type": "choropleth",
           "z": [
            2.772588722239781,
            0.6931471805599453,
            0.6931471805599453,
            2.0794415416798357,
            10.70880202996682,
            0.6931471805599453,
            2.4849066497880004,
            2.833213344056216,
            1.3862943611198906,
            1.3862943611198906,
            5.313205979041787,
            2.9444389791664403,
            0.6931471805599453,
            1.3862943611198906,
            1.0986122886681098,
            3.871201010907891,
            3.4011973816621555,
            1.0986122886681098,
            0.6931471805599453,
            0.6931471805599453,
            3.5263605246161616,
            2.1972245773362196,
            2.1972245773362196,
            2.6390573296152584,
            2.833213344056216
           ],
           "zmax": 11.106159511129016,
           "zmin": 0.6931471805599453
          },
          {
           "hovertemplate": "%{x}<br>Total confirmed cases: %{y:,}<extra></extra>",
           "line": {
            "color": "Red"
           },
           "mode": "lines",
           "name": "Total Confirmed Cases",
           "type": "scatter",
           "x": [
            "10/01/2020",
            "11/01/2020",
            "12/01/2020",
            "13/01/2020",
            "14/01/2020",
            "15/01/2020",
            "16/01/2020",
            "17/01/2020",
            "18/01/2020",
            "19/01/2020",
            "20/01/2020",
            "21/01/2020",
            "22/01/2020",
            "23/01/2020",
            "24/01/2020",
            "25/01/2020",
            "26/01/2020",
            "27/01/2020",
            "28/01/2020",
            "29/01/2020",
            "30/01/2020",
            "31/01/2020",
            "01/02/2020",
            "02/02/2020",
            "03/02/2020",
            "04/02/2020",
            "05/02/2020",
            "06/02/2020",
            "07/02/2020",
            "08/02/2020",
            "09/02/2020",
            "10/02/2020",
            "11/02/2020",
            "12/02/2020",
            "13/02/2020",
            "14/02/2020"
           ],
           "y": [
            44,
            44,
            44,
            45,
            45,
            45,
            47,
            65,
            124,
            204,
            295,
            446,
            569,
            841,
            1121,
            2105,
            2865,
            4642,
            6074,
            7800,
            9838,
            12016,
            14624,
            17416,
            20634,
            24611,
            28330,
            31460,
            34899,
            37554,
            40477,
            43166,
            45189
           ]
          },
          {
           "hovertemplate": "%{x}<br>Total deaths: %{y:,}<extra></extra>",
           "line": {
            "color": "Black"
           },
           "mode": "lines",
           "name": "Total Deaths",
           "type": "scatter",
           "x": [
            "10/01/2020",
            "11/01/2020",
            "12/01/2020",
            "13/01/2020",
            "14/01/2020",
            "15/01/2020",
            "16/01/2020",
            "17/01/2020",
            "18/01/2020",
            "19/01/2020",
            "20/01/2020",
            "21/01/2020",
            "22/01/2020",
            "23/01/2020",
            "24/01/2020",
            "25/01/2020",
            "26/01/2020",
            "27/01/2020",
            "28/01/2020",
            "29/01/2020",
            "30/01/2020",
            "31/01/2020",
            "01/02/2020",
            "02/02/2020",
            "03/02/2020",
            "04/02/2020",
            "05/02/2020",
            "06/02/2020",
            "07/02/2020",
            "08/02/2020",
            "09/02/2020",
            "10/02/2020",
            "11/02/2020",
            "12/02/2020",
            "13/02/2020",
            "14/02/2020"
           ],
           "y": [
            1,
            1,
            1,
            1,
            1,
            2,
            2,
            2,
            2,
            3,
            3,
            9,
            17,
            26,
            41,
            56,
            82,
            106,
            132,
            170,
            213,
            259,
            305,
            362,
            427,
            493,
            565,
            638,
            725,
            813,
            910,
            1018,
            1115
           ]
          }
         ],
         "name": "11/02/2020"
        },
        {
         "data": [
          {
           "colorbar": {
            "len": 0.8,
            "tickmode": "array",
            "ticks": "outside",
            "ticktext": [
             "1",
             "2",
             "7",
             "37",
             "587",
             "66,579"
            ],
            "tickvals": [
             0.6931471805599453,
             1.2071831091304142,
             2.1024265839075182,
             3.6615800099332865,
             6.376997071747834,
             11.106159511129016
            ],
            "title": {
             "text": "<b>Confirmed Cases</b>"
            },
            "y": 1,
            "yanchor": "top"
           },
           "colorscale": [
            [
             0,
             "rgb(255,245,240)"
            ],
            [
             0.125,
             "rgb(254,224,210)"
            ],
            [
             0.25,
             "rgb(252,187,161)"
            ],
            [
             0.375,
             "rgb(252,146,114)"
            ],
            [
             0.5,
             "rgb(251,106,74)"
            ],
            [
             0.625,
             "rgb(239,59,44)"
            ],
            [
             0.75,
             "rgb(203,24,29)"
            ],
            [
             0.875,
             "rgb(165,15,21)"
            ],
            [
             1,
             "rgb(103,0,13)"
            ]
           ],
           "hovertemplate": [
            "12/02/2020<br>Australia<br>Confirmed cases: 15<br>Deaths: 0",
            "12/02/2020<br>Belgium<br>Confirmed cases: 1<br>Deaths: 0",
            "12/02/2020<br>Cambodia<br>Confirmed cases: 1<br>Deaths: 0",
            "12/02/2020<br>Canada<br>Confirmed cases: 7<br>Deaths: 0",
            "12/02/2020<br>China<br>Confirmed cases: 59,885<br>Deaths: 1,261",
            "12/02/2020<br>Finland<br>Confirmed cases: 1<br>Deaths: 0",
            "12/02/2020<br>France<br>Confirmed cases: 11<br>Deaths: 0",
            "12/02/2020<br>Germany<br>Confirmed cases: 16<br>Deaths: 0",
            "12/02/2020<br>India<br>Confirmed cases: 3<br>Deaths: 0",
            "12/02/2020<br>Italy<br>Confirmed cases: 3<br>Deaths: 0",
            "12/02/2020<br>Japan<br>Confirmed cases: 203<br>Deaths: 0",
            "12/02/2020<br>Malaysia<br>Confirmed cases: 18<br>Deaths: 0",
            "12/02/2020<br>Nepal<br>Confirmed cases: 1<br>Deaths: 0",
            "12/02/2020<br>Phillipines<br>Confirmed cases: 3<br>Deaths: 1",
            "12/02/2020<br>Russia<br>Confirmed cases: 2<br>Deaths: 0",
            "12/02/2020<br>Singapore<br>Confirmed cases: 50<br>Deaths: 0",
            "12/02/2020<br>South Korea<br>Confirmed cases: 29<br>Deaths: 0",
            "12/02/2020<br>Spain<br>Confirmed cases: 2<br>Deaths: 0",
            "12/02/2020<br>Sri Lanka<br>Confirmed cases: 1<br>Deaths: 0",
            "12/02/2020<br>Sweden<br>Confirmed cases: 1<br>Deaths: 0",
            "12/02/2020<br>Thailand<br>Confirmed cases: 33<br>Deaths: 0",
            "12/02/2020<br>United Arab Emirates<br>Confirmed cases: 8<br>Deaths: 0",
            "12/02/2020<br>United Kingdom<br>Confirmed cases: 9<br>Deaths: 0",
            "12/02/2020<br>United States of America<br>Confirmed cases: 13<br>Deaths: 0",
            "12/02/2020<br>Vietnam<br>Confirmed cases: 16<br>Deaths: 0"
           ],
           "locations": [
            "AUS",
            "BEL",
            "KHM",
            "CAN",
            "CHN",
            "FIN",
            "FRA",
            "DEU",
            "IND",
            "ITA",
            "JPN",
            "MYS",
            "NPL",
            "PHL",
            "RUS",
            "SGP",
            "KOR",
            "ESP",
            "LKA",
            "SWE",
            "THA",
            "ARE",
            "GBR",
            "USA",
            "VNM"
           ],
           "name": "",
           "showlegend": false,
           "type": "choropleth",
           "z": [
            2.772588722239781,
            0.6931471805599453,
            0.6931471805599453,
            2.0794415416798357,
            11.000198033914641,
            0.6931471805599453,
            2.4849066497880004,
            2.833213344056216,
            1.3862943611198906,
            1.3862943611198906,
            5.318119993844216,
            2.9444389791664403,
            0.6931471805599453,
            1.3862943611198906,
            1.0986122886681098,
            3.9318256327243257,
            3.4011973816621555,
            1.0986122886681098,
            0.6931471805599453,
            0.6931471805599453,
            3.5263605246161616,
            2.1972245773362196,
            2.302585092994046,
            2.6390573296152584,
            2.833213344056216
           ],
           "zmax": 11.106159511129016,
           "zmin": 0.6931471805599453
          },
          {
           "hovertemplate": "%{x}<br>Total confirmed cases: %{y:,}<extra></extra>",
           "line": {
            "color": "Red"
           },
           "mode": "lines",
           "name": "Total Confirmed Cases",
           "type": "scatter",
           "x": [
            "10/01/2020",
            "11/01/2020",
            "12/01/2020",
            "13/01/2020",
            "14/01/2020",
            "15/01/2020",
            "16/01/2020",
            "17/01/2020",
            "18/01/2020",
            "19/01/2020",
            "20/01/2020",
            "21/01/2020",
            "22/01/2020",
            "23/01/2020",
            "24/01/2020",
            "25/01/2020",
            "26/01/2020",
            "27/01/2020",
            "28/01/2020",
            "29/01/2020",
            "30/01/2020",
            "31/01/2020",
            "01/02/2020",
            "02/02/2020",
            "03/02/2020",
            "04/02/2020",
            "05/02/2020",
            "06/02/2020",
            "07/02/2020",
            "08/02/2020",
            "09/02/2020",
            "10/02/2020",
            "11/02/2020",
            "12/02/2020",
            "13/02/2020",
            "14/02/2020"
           ],
           "y": [
            44,
            44,
            44,
            45,
            45,
            45,
            47,
            65,
            124,
            204,
            295,
            446,
            569,
            841,
            1121,
            2105,
            2865,
            4642,
            6074,
            7800,
            9838,
            12016,
            14624,
            17416,
            20634,
            24611,
            28330,
            31460,
            34899,
            37554,
            40477,
            43166,
            45189,
            60332
           ]
          },
          {
           "hovertemplate": "%{x}<br>Total deaths: %{y:,}<extra></extra>",
           "line": {
            "color": "Black"
           },
           "mode": "lines",
           "name": "Total Deaths",
           "type": "scatter",
           "x": [
            "10/01/2020",
            "11/01/2020",
            "12/01/2020",
            "13/01/2020",
            "14/01/2020",
            "15/01/2020",
            "16/01/2020",
            "17/01/2020",
            "18/01/2020",
            "19/01/2020",
            "20/01/2020",
            "21/01/2020",
            "22/01/2020",
            "23/01/2020",
            "24/01/2020",
            "25/01/2020",
            "26/01/2020",
            "27/01/2020",
            "28/01/2020",
            "29/01/2020",
            "30/01/2020",
            "31/01/2020",
            "01/02/2020",
            "02/02/2020",
            "03/02/2020",
            "04/02/2020",
            "05/02/2020",
            "06/02/2020",
            "07/02/2020",
            "08/02/2020",
            "09/02/2020",
            "10/02/2020",
            "11/02/2020",
            "12/02/2020",
            "13/02/2020",
            "14/02/2020"
           ],
           "y": [
            1,
            1,
            1,
            1,
            1,
            2,
            2,
            2,
            2,
            3,
            3,
            9,
            17,
            26,
            41,
            56,
            82,
            106,
            132,
            170,
            213,
            259,
            305,
            362,
            427,
            493,
            565,
            638,
            725,
            813,
            910,
            1018,
            1115,
            1262
           ]
          }
         ],
         "name": "12/02/2020"
        },
        {
         "data": [
          {
           "colorbar": {
            "len": 0.8,
            "tickmode": "array",
            "ticks": "outside",
            "ticktext": [
             "1",
             "2",
             "7",
             "37",
             "587",
             "66,579"
            ],
            "tickvals": [
             0.6931471805599453,
             1.2071831091304142,
             2.1024265839075182,
             3.6615800099332865,
             6.376997071747834,
             11.106159511129016
            ],
            "title": {
             "text": "<b>Confirmed Cases</b>"
            },
            "y": 1,
            "yanchor": "top"
           },
           "colorscale": [
            [
             0,
             "rgb(255,245,240)"
            ],
            [
             0.125,
             "rgb(254,224,210)"
            ],
            [
             0.25,
             "rgb(252,187,161)"
            ],
            [
             0.375,
             "rgb(252,146,114)"
            ],
            [
             0.5,
             "rgb(251,106,74)"
            ],
            [
             0.625,
             "rgb(239,59,44)"
            ],
            [
             0.75,
             "rgb(203,24,29)"
            ],
            [
             0.875,
             "rgb(165,15,21)"
            ],
            [
             1,
             "rgb(103,0,13)"
            ]
           ],
           "hovertemplate": [
            "13/02/2020<br>Australia<br>Confirmed cases: 15<br>Deaths: 0",
            "13/02/2020<br>Belgium<br>Confirmed cases: 1<br>Deaths: 0",
            "13/02/2020<br>Cambodia<br>Confirmed cases: 1<br>Deaths: 0",
            "13/02/2020<br>Canada<br>Confirmed cases: 7<br>Deaths: 0",
            "13/02/2020<br>China<br>Confirmed cases: 63,936<br>Deaths: 1,381",
            "13/02/2020<br>Finland<br>Confirmed cases: 1<br>Deaths: 0",
            "13/02/2020<br>France<br>Confirmed cases: 11<br>Deaths: 0",
            "13/02/2020<br>Germany<br>Confirmed cases: 16<br>Deaths: 0",
            "13/02/2020<br>India<br>Confirmed cases: 3<br>Deaths: 0",
            "13/02/2020<br>Italy<br>Confirmed cases: 3<br>Deaths: 0",
            "13/02/2020<br>Japan<br>Confirmed cases: 250<br>Deaths: 1",
            "13/02/2020<br>Malaysia<br>Confirmed cases: 19<br>Deaths: 0",
            "13/02/2020<br>Nepal<br>Confirmed cases: 1<br>Deaths: 0",
            "13/02/2020<br>Phillipines<br>Confirmed cases: 3<br>Deaths: 1",
            "13/02/2020<br>Russia<br>Confirmed cases: 2<br>Deaths: 0",
            "13/02/2020<br>Singapore<br>Confirmed cases: 58<br>Deaths: 0",
            "13/02/2020<br>South Korea<br>Confirmed cases: 29<br>Deaths: 0",
            "13/02/2020<br>Spain<br>Confirmed cases: 2<br>Deaths: 0",
            "13/02/2020<br>Sri Lanka<br>Confirmed cases: 1<br>Deaths: 0",
            "13/02/2020<br>Sweden<br>Confirmed cases: 1<br>Deaths: 0",
            "13/02/2020<br>Thailand<br>Confirmed cases: 33<br>Deaths: 0",
            "13/02/2020<br>United Arab Emirates<br>Confirmed cases: 8<br>Deaths: 0",
            "13/02/2020<br>United Kingdom<br>Confirmed cases: 9<br>Deaths: 0",
            "13/02/2020<br>United States of America<br>Confirmed cases: 15<br>Deaths: 0",
            "13/02/2020<br>Vietnam<br>Confirmed cases: 17<br>Deaths: 0"
           ],
           "locations": [
            "AUS",
            "BEL",
            "KHM",
            "CAN",
            "CHN",
            "FIN",
            "FRA",
            "DEU",
            "IND",
            "ITA",
            "JPN",
            "MYS",
            "NPL",
            "PHL",
            "RUS",
            "SGP",
            "KOR",
            "ESP",
            "LKA",
            "SWE",
            "THA",
            "ARE",
            "GBR",
            "USA",
            "VNM"
           ],
           "name": "",
           "showlegend": false,
           "type": "choropleth",
           "z": [
            2.772588722239781,
            0.6931471805599453,
            0.6931471805599453,
            2.0794415416798357,
            11.065653502526553,
            0.6931471805599453,
            2.4849066497880004,
            2.833213344056216,
            1.3862943611198906,
            1.3862943611198906,
            5.5254529391317835,
            2.995732273553991,
            0.6931471805599453,
            1.3862943611198906,
            1.0986122886681098,
            4.07753744390572,
            3.4011973816621555,
            1.0986122886681098,
            0.6931471805599453,
            0.6931471805599453,
            3.5263605246161616,
            2.1972245773362196,
            2.302585092994046,
            2.772588722239781,
            2.8903717578961645
           ],
           "zmax": 11.106159511129016,
           "zmin": 0.6931471805599453
          },
          {
           "hovertemplate": "%{x}<br>Total confirmed cases: %{y:,}<extra></extra>",
           "line": {
            "color": "Red"
           },
           "mode": "lines",
           "name": "Total Confirmed Cases",
           "type": "scatter",
           "x": [
            "10/01/2020",
            "11/01/2020",
            "12/01/2020",
            "13/01/2020",
            "14/01/2020",
            "15/01/2020",
            "16/01/2020",
            "17/01/2020",
            "18/01/2020",
            "19/01/2020",
            "20/01/2020",
            "21/01/2020",
            "22/01/2020",
            "23/01/2020",
            "24/01/2020",
            "25/01/2020",
            "26/01/2020",
            "27/01/2020",
            "28/01/2020",
            "29/01/2020",
            "30/01/2020",
            "31/01/2020",
            "01/02/2020",
            "02/02/2020",
            "03/02/2020",
            "04/02/2020",
            "05/02/2020",
            "06/02/2020",
            "07/02/2020",
            "08/02/2020",
            "09/02/2020",
            "10/02/2020",
            "11/02/2020",
            "12/02/2020",
            "13/02/2020",
            "14/02/2020"
           ],
           "y": [
            44,
            44,
            44,
            45,
            45,
            45,
            47,
            65,
            124,
            204,
            295,
            446,
            569,
            841,
            1121,
            2105,
            2865,
            4642,
            6074,
            7800,
            9838,
            12016,
            14624,
            17416,
            20634,
            24611,
            28330,
            31460,
            34899,
            37554,
            40477,
            43166,
            45189,
            60332,
            64442
           ]
          },
          {
           "hovertemplate": "%{x}<br>Total deaths: %{y:,}<extra></extra>",
           "line": {
            "color": "Black"
           },
           "mode": "lines",
           "name": "Total Deaths",
           "type": "scatter",
           "x": [
            "10/01/2020",
            "11/01/2020",
            "12/01/2020",
            "13/01/2020",
            "14/01/2020",
            "15/01/2020",
            "16/01/2020",
            "17/01/2020",
            "18/01/2020",
            "19/01/2020",
            "20/01/2020",
            "21/01/2020",
            "22/01/2020",
            "23/01/2020",
            "24/01/2020",
            "25/01/2020",
            "26/01/2020",
            "27/01/2020",
            "28/01/2020",
            "29/01/2020",
            "30/01/2020",
            "31/01/2020",
            "01/02/2020",
            "02/02/2020",
            "03/02/2020",
            "04/02/2020",
            "05/02/2020",
            "06/02/2020",
            "07/02/2020",
            "08/02/2020",
            "09/02/2020",
            "10/02/2020",
            "11/02/2020",
            "12/02/2020",
            "13/02/2020",
            "14/02/2020"
           ],
           "y": [
            1,
            1,
            1,
            1,
            1,
            2,
            2,
            2,
            2,
            3,
            3,
            9,
            17,
            26,
            41,
            56,
            82,
            106,
            132,
            170,
            213,
            259,
            305,
            362,
            427,
            493,
            565,
            638,
            725,
            813,
            910,
            1018,
            1115,
            1262,
            1383
           ]
          }
         ],
         "name": "13/02/2020"
        },
        {
         "data": [
          {
           "colorbar": {
            "len": 0.8,
            "tickmode": "array",
            "ticks": "outside",
            "ticktext": [
             "1",
             "2",
             "7",
             "37",
             "587",
             "66,579"
            ],
            "tickvals": [
             0.6931471805599453,
             1.2071831091304142,
             2.1024265839075182,
             3.6615800099332865,
             6.376997071747834,
             11.106159511129016
            ],
            "title": {
             "text": "<b>Confirmed Cases</b>"
            },
            "y": 1,
            "yanchor": "top"
           },
           "colorscale": [
            [
             0,
             "rgb(255,245,240)"
            ],
            [
             0.125,
             "rgb(254,224,210)"
            ],
            [
             0.25,
             "rgb(252,187,161)"
            ],
            [
             0.375,
             "rgb(252,146,114)"
            ],
            [
             0.5,
             "rgb(251,106,74)"
            ],
            [
             0.625,
             "rgb(239,59,44)"
            ],
            [
             0.75,
             "rgb(203,24,29)"
            ],
            [
             0.875,
             "rgb(165,15,21)"
            ],
            [
             1,
             "rgb(103,0,13)"
            ]
           ],
           "hovertemplate": [
            "14/02/2020<br>Australia<br>Confirmed cases: 15<br>Deaths: 0",
            "14/02/2020<br>Belgium<br>Confirmed cases: 1<br>Deaths: 0",
            "14/02/2020<br>Cambodia<br>Confirmed cases: 1<br>Deaths: 0",
            "14/02/2020<br>Canada<br>Confirmed cases: 8<br>Deaths: 0",
            "14/02/2020<br>China<br>Confirmed cases: 66,579<br>Deaths: 1,524",
            "14/02/2020<br>Egypt<br>Confirmed cases: 1<br>Deaths: 0",
            "14/02/2020<br>Finland<br>Confirmed cases: 1<br>Deaths: 0",
            "14/02/2020<br>France<br>Confirmed cases: 11<br>Deaths: 0",
            "14/02/2020<br>Germany<br>Confirmed cases: 16<br>Deaths: 0",
            "14/02/2020<br>India<br>Confirmed cases: 3<br>Deaths: 0",
            "14/02/2020<br>Italy<br>Confirmed cases: 3<br>Deaths: 0",
            "14/02/2020<br>Japan<br>Confirmed cases: 250<br>Deaths: 1",
            "14/02/2020<br>Malaysia<br>Confirmed cases: 19<br>Deaths: 0",
            "14/02/2020<br>Nepal<br>Confirmed cases: 1<br>Deaths: 0",
            "14/02/2020<br>Phillipines<br>Confirmed cases: 3<br>Deaths: 1",
            "14/02/2020<br>Russia<br>Confirmed cases: 2<br>Deaths: 0",
            "14/02/2020<br>Singapore<br>Confirmed cases: 67<br>Deaths: 0",
            "14/02/2020<br>South Korea<br>Confirmed cases: 29<br>Deaths: 0",
            "14/02/2020<br>Spain<br>Confirmed cases: 2<br>Deaths: 0",
            "14/02/2020<br>Sri Lanka<br>Confirmed cases: 1<br>Deaths: 0",
            "14/02/2020<br>Sweden<br>Confirmed cases: 1<br>Deaths: 0",
            "14/02/2020<br>Thailand<br>Confirmed cases: 33<br>Deaths: 0",
            "14/02/2020<br>United Arab Emirates<br>Confirmed cases: 8<br>Deaths: 0",
            "14/02/2020<br>United Kingdom<br>Confirmed cases: 9<br>Deaths: 0",
            "14/02/2020<br>United States of America<br>Confirmed cases: 15<br>Deaths: 0",
            "14/02/2020<br>Vietnam<br>Confirmed cases: 17<br>Deaths: 0"
           ],
           "locations": [
            "AUS",
            "BEL",
            "KHM",
            "CAN",
            "CHN",
            "EGY",
            "FIN",
            "FRA",
            "DEU",
            "IND",
            "ITA",
            "JPN",
            "MYS",
            "NPL",
            "PHL",
            "RUS",
            "SGP",
            "KOR",
            "ESP",
            "LKA",
            "SWE",
            "THA",
            "ARE",
            "GBR",
            "USA",
            "VNM"
           ],
           "name": "",
           "showlegend": false,
           "type": "choropleth",
           "z": [
            2.772588722239781,
            0.6931471805599453,
            0.6931471805599453,
            2.1972245773362196,
            11.106159511129016,
            0.6931471805599453,
            0.6931471805599453,
            2.4849066497880004,
            2.833213344056216,
            1.3862943611198906,
            1.3862943611198906,
            5.5254529391317835,
            2.995732273553991,
            0.6931471805599453,
            1.3862943611198906,
            1.0986122886681098,
            4.219507705176107,
            3.4011973816621555,
            1.0986122886681098,
            0.6931471805599453,
            0.6931471805599453,
            3.5263605246161616,
            2.1972245773362196,
            2.302585092994046,
            2.772588722239781,
            2.8903717578961645
           ],
           "zmax": 11.106159511129016,
           "zmin": 0.6931471805599453
          },
          {
           "hovertemplate": "%{x}<br>Total confirmed cases: %{y:,}<extra></extra>",
           "line": {
            "color": "Red"
           },
           "mode": "lines",
           "name": "Total Confirmed Cases",
           "type": "scatter",
           "x": [
            "10/01/2020",
            "11/01/2020",
            "12/01/2020",
            "13/01/2020",
            "14/01/2020",
            "15/01/2020",
            "16/01/2020",
            "17/01/2020",
            "18/01/2020",
            "19/01/2020",
            "20/01/2020",
            "21/01/2020",
            "22/01/2020",
            "23/01/2020",
            "24/01/2020",
            "25/01/2020",
            "26/01/2020",
            "27/01/2020",
            "28/01/2020",
            "29/01/2020",
            "30/01/2020",
            "31/01/2020",
            "01/02/2020",
            "02/02/2020",
            "03/02/2020",
            "04/02/2020",
            "05/02/2020",
            "06/02/2020",
            "07/02/2020",
            "08/02/2020",
            "09/02/2020",
            "10/02/2020",
            "11/02/2020",
            "12/02/2020",
            "13/02/2020",
            "14/02/2020"
           ],
           "y": [
            44,
            44,
            44,
            45,
            45,
            45,
            47,
            65,
            124,
            204,
            295,
            446,
            569,
            841,
            1121,
            2105,
            2865,
            4642,
            6074,
            7800,
            9838,
            12016,
            14624,
            17416,
            20634,
            24611,
            28330,
            31460,
            34899,
            37554,
            40477,
            43166,
            45189,
            60332,
            64442,
            67096
           ]
          },
          {
           "hovertemplate": "%{x}<br>Total deaths: %{y:,}<extra></extra>",
           "line": {
            "color": "Black"
           },
           "mode": "lines",
           "name": "Total Deaths",
           "type": "scatter",
           "x": [
            "10/01/2020",
            "11/01/2020",
            "12/01/2020",
            "13/01/2020",
            "14/01/2020",
            "15/01/2020",
            "16/01/2020",
            "17/01/2020",
            "18/01/2020",
            "19/01/2020",
            "20/01/2020",
            "21/01/2020",
            "22/01/2020",
            "23/01/2020",
            "24/01/2020",
            "25/01/2020",
            "26/01/2020",
            "27/01/2020",
            "28/01/2020",
            "29/01/2020",
            "30/01/2020",
            "31/01/2020",
            "01/02/2020",
            "02/02/2020",
            "03/02/2020",
            "04/02/2020",
            "05/02/2020",
            "06/02/2020",
            "07/02/2020",
            "08/02/2020",
            "09/02/2020",
            "10/02/2020",
            "11/02/2020",
            "12/02/2020",
            "13/02/2020",
            "14/02/2020"
           ],
           "y": [
            1,
            1,
            1,
            1,
            1,
            2,
            2,
            2,
            2,
            3,
            3,
            9,
            17,
            26,
            41,
            56,
            82,
            106,
            132,
            170,
            213,
            259,
            305,
            362,
            427,
            493,
            565,
            638,
            725,
            813,
            910,
            1018,
            1115,
            1262,
            1383,
            1526
           ]
          }
         ],
         "name": "14/02/2020"
        }
       ],
       "layout": {
        "geo": {
         "domain": {
          "x": [
           0,
           1
          ],
          "y": [
           0.2,
           1
          ]
         },
         "showcountries": true
        },
        "height": 650,
        "legend": {
         "bgcolor": "rgba(0, 0, 0, 0)",
         "x": 0.05,
         "y": 0.175,
         "yanchor": "top"
        },
        "sliders": [
         {
          "active": 0,
          "steps": [
           {
            "args": [
             [
              "10/01/2020"
             ],
             {
              "frame": {
               "duration": 0
              },
              "fromcurrent": true,
              "mode": "immediate",
              "transition": {
               "duration": 0,
               "easing": "linear"
              }
             }
            ],
            "label": "10/01/2020",
            "method": "animate"
           },
           {
            "args": [
             [
              "11/01/2020"
             ],
             {
              "frame": {
               "duration": 0
              },
              "fromcurrent": true,
              "mode": "immediate",
              "transition": {
               "duration": 0,
               "easing": "linear"
              }
             }
            ],
            "label": "11/01/2020",
            "method": "animate"
           },
           {
            "args": [
             [
              "12/01/2020"
             ],
             {
              "frame": {
               "duration": 0
              },
              "fromcurrent": true,
              "mode": "immediate",
              "transition": {
               "duration": 0,
               "easing": "linear"
              }
             }
            ],
            "label": "12/01/2020",
            "method": "animate"
           },
           {
            "args": [
             [
              "13/01/2020"
             ],
             {
              "frame": {
               "duration": 0
              },
              "fromcurrent": true,
              "mode": "immediate",
              "transition": {
               "duration": 0,
               "easing": "linear"
              }
             }
            ],
            "label": "13/01/2020",
            "method": "animate"
           },
           {
            "args": [
             [
              "14/01/2020"
             ],
             {
              "frame": {
               "duration": 0
              },
              "fromcurrent": true,
              "mode": "immediate",
              "transition": {
               "duration": 0,
               "easing": "linear"
              }
             }
            ],
            "label": "14/01/2020",
            "method": "animate"
           },
           {
            "args": [
             [
              "15/01/2020"
             ],
             {
              "frame": {
               "duration": 0
              },
              "fromcurrent": true,
              "mode": "immediate",
              "transition": {
               "duration": 0,
               "easing": "linear"
              }
             }
            ],
            "label": "15/01/2020",
            "method": "animate"
           },
           {
            "args": [
             [
              "16/01/2020"
             ],
             {
              "frame": {
               "duration": 0
              },
              "fromcurrent": true,
              "mode": "immediate",
              "transition": {
               "duration": 0,
               "easing": "linear"
              }
             }
            ],
            "label": "16/01/2020",
            "method": "animate"
           },
           {
            "args": [
             [
              "17/01/2020"
             ],
             {
              "frame": {
               "duration": 0
              },
              "fromcurrent": true,
              "mode": "immediate",
              "transition": {
               "duration": 0,
               "easing": "linear"
              }
             }
            ],
            "label": "17/01/2020",
            "method": "animate"
           },
           {
            "args": [
             [
              "18/01/2020"
             ],
             {
              "frame": {
               "duration": 0
              },
              "fromcurrent": true,
              "mode": "immediate",
              "transition": {
               "duration": 0,
               "easing": "linear"
              }
             }
            ],
            "label": "18/01/2020",
            "method": "animate"
           },
           {
            "args": [
             [
              "19/01/2020"
             ],
             {
              "frame": {
               "duration": 0
              },
              "fromcurrent": true,
              "mode": "immediate",
              "transition": {
               "duration": 0,
               "easing": "linear"
              }
             }
            ],
            "label": "19/01/2020",
            "method": "animate"
           },
           {
            "args": [
             [
              "20/01/2020"
             ],
             {
              "frame": {
               "duration": 0
              },
              "fromcurrent": true,
              "mode": "immediate",
              "transition": {
               "duration": 0,
               "easing": "linear"
              }
             }
            ],
            "label": "20/01/2020",
            "method": "animate"
           },
           {
            "args": [
             [
              "21/01/2020"
             ],
             {
              "frame": {
               "duration": 0
              },
              "fromcurrent": true,
              "mode": "immediate",
              "transition": {
               "duration": 0,
               "easing": "linear"
              }
             }
            ],
            "label": "21/01/2020",
            "method": "animate"
           },
           {
            "args": [
             [
              "22/01/2020"
             ],
             {
              "frame": {
               "duration": 0
              },
              "fromcurrent": true,
              "mode": "immediate",
              "transition": {
               "duration": 0,
               "easing": "linear"
              }
             }
            ],
            "label": "22/01/2020",
            "method": "animate"
           },
           {
            "args": [
             [
              "23/01/2020"
             ],
             {
              "frame": {
               "duration": 0
              },
              "fromcurrent": true,
              "mode": "immediate",
              "transition": {
               "duration": 0,
               "easing": "linear"
              }
             }
            ],
            "label": "23/01/2020",
            "method": "animate"
           },
           {
            "args": [
             [
              "24/01/2020"
             ],
             {
              "frame": {
               "duration": 0
              },
              "fromcurrent": true,
              "mode": "immediate",
              "transition": {
               "duration": 0,
               "easing": "linear"
              }
             }
            ],
            "label": "24/01/2020",
            "method": "animate"
           },
           {
            "args": [
             [
              "25/01/2020"
             ],
             {
              "frame": {
               "duration": 0
              },
              "fromcurrent": true,
              "mode": "immediate",
              "transition": {
               "duration": 0,
               "easing": "linear"
              }
             }
            ],
            "label": "25/01/2020",
            "method": "animate"
           },
           {
            "args": [
             [
              "26/01/2020"
             ],
             {
              "frame": {
               "duration": 0
              },
              "fromcurrent": true,
              "mode": "immediate",
              "transition": {
               "duration": 0,
               "easing": "linear"
              }
             }
            ],
            "label": "26/01/2020",
            "method": "animate"
           },
           {
            "args": [
             [
              "27/01/2020"
             ],
             {
              "frame": {
               "duration": 0
              },
              "fromcurrent": true,
              "mode": "immediate",
              "transition": {
               "duration": 0,
               "easing": "linear"
              }
             }
            ],
            "label": "27/01/2020",
            "method": "animate"
           },
           {
            "args": [
             [
              "28/01/2020"
             ],
             {
              "frame": {
               "duration": 0
              },
              "fromcurrent": true,
              "mode": "immediate",
              "transition": {
               "duration": 0,
               "easing": "linear"
              }
             }
            ],
            "label": "28/01/2020",
            "method": "animate"
           },
           {
            "args": [
             [
              "29/01/2020"
             ],
             {
              "frame": {
               "duration": 0
              },
              "fromcurrent": true,
              "mode": "immediate",
              "transition": {
               "duration": 0,
               "easing": "linear"
              }
             }
            ],
            "label": "29/01/2020",
            "method": "animate"
           },
           {
            "args": [
             [
              "30/01/2020"
             ],
             {
              "frame": {
               "duration": 0
              },
              "fromcurrent": true,
              "mode": "immediate",
              "transition": {
               "duration": 0,
               "easing": "linear"
              }
             }
            ],
            "label": "30/01/2020",
            "method": "animate"
           },
           {
            "args": [
             [
              "31/01/2020"
             ],
             {
              "frame": {
               "duration": 0
              },
              "fromcurrent": true,
              "mode": "immediate",
              "transition": {
               "duration": 0,
               "easing": "linear"
              }
             }
            ],
            "label": "31/01/2020",
            "method": "animate"
           },
           {
            "args": [
             [
              "01/02/2020"
             ],
             {
              "frame": {
               "duration": 0
              },
              "fromcurrent": true,
              "mode": "immediate",
              "transition": {
               "duration": 0,
               "easing": "linear"
              }
             }
            ],
            "label": "01/02/2020",
            "method": "animate"
           },
           {
            "args": [
             [
              "02/02/2020"
             ],
             {
              "frame": {
               "duration": 0
              },
              "fromcurrent": true,
              "mode": "immediate",
              "transition": {
               "duration": 0,
               "easing": "linear"
              }
             }
            ],
            "label": "02/02/2020",
            "method": "animate"
           },
           {
            "args": [
             [
              "03/02/2020"
             ],
             {
              "frame": {
               "duration": 0
              },
              "fromcurrent": true,
              "mode": "immediate",
              "transition": {
               "duration": 0,
               "easing": "linear"
              }
             }
            ],
            "label": "03/02/2020",
            "method": "animate"
           },
           {
            "args": [
             [
              "04/02/2020"
             ],
             {
              "frame": {
               "duration": 0
              },
              "fromcurrent": true,
              "mode": "immediate",
              "transition": {
               "duration": 0,
               "easing": "linear"
              }
             }
            ],
            "label": "04/02/2020",
            "method": "animate"
           },
           {
            "args": [
             [
              "05/02/2020"
             ],
             {
              "frame": {
               "duration": 0
              },
              "fromcurrent": true,
              "mode": "immediate",
              "transition": {
               "duration": 0,
               "easing": "linear"
              }
             }
            ],
            "label": "05/02/2020",
            "method": "animate"
           },
           {
            "args": [
             [
              "06/02/2020"
             ],
             {
              "frame": {
               "duration": 0
              },
              "fromcurrent": true,
              "mode": "immediate",
              "transition": {
               "duration": 0,
               "easing": "linear"
              }
             }
            ],
            "label": "06/02/2020",
            "method": "animate"
           },
           {
            "args": [
             [
              "07/02/2020"
             ],
             {
              "frame": {
               "duration": 0
              },
              "fromcurrent": true,
              "mode": "immediate",
              "transition": {
               "duration": 0,
               "easing": "linear"
              }
             }
            ],
            "label": "07/02/2020",
            "method": "animate"
           },
           {
            "args": [
             [
              "08/02/2020"
             ],
             {
              "frame": {
               "duration": 0
              },
              "fromcurrent": true,
              "mode": "immediate",
              "transition": {
               "duration": 0,
               "easing": "linear"
              }
             }
            ],
            "label": "08/02/2020",
            "method": "animate"
           },
           {
            "args": [
             [
              "09/02/2020"
             ],
             {
              "frame": {
               "duration": 0
              },
              "fromcurrent": true,
              "mode": "immediate",
              "transition": {
               "duration": 0,
               "easing": "linear"
              }
             }
            ],
            "label": "09/02/2020",
            "method": "animate"
           },
           {
            "args": [
             [
              "10/02/2020"
             ],
             {
              "frame": {
               "duration": 0
              },
              "fromcurrent": true,
              "mode": "immediate",
              "transition": {
               "duration": 0,
               "easing": "linear"
              }
             }
            ],
            "label": "10/02/2020",
            "method": "animate"
           },
           {
            "args": [
             [
              "11/02/2020"
             ],
             {
              "frame": {
               "duration": 0
              },
              "fromcurrent": true,
              "mode": "immediate",
              "transition": {
               "duration": 0,
               "easing": "linear"
              }
             }
            ],
            "label": "11/02/2020",
            "method": "animate"
           },
           {
            "args": [
             [
              "12/02/2020"
             ],
             {
              "frame": {
               "duration": 0
              },
              "fromcurrent": true,
              "mode": "immediate",
              "transition": {
               "duration": 0,
               "easing": "linear"
              }
             }
            ],
            "label": "12/02/2020",
            "method": "animate"
           },
           {
            "args": [
             [
              "13/02/2020"
             ],
             {
              "frame": {
               "duration": 0
              },
              "fromcurrent": true,
              "mode": "immediate",
              "transition": {
               "duration": 0,
               "easing": "linear"
              }
             }
            ],
            "label": "13/02/2020",
            "method": "animate"
           },
           {
            "args": [
             [
              "14/02/2020"
             ],
             {
              "frame": {
               "duration": 0
              },
              "fromcurrent": true,
              "mode": "immediate",
              "transition": {
               "duration": 0,
               "easing": "linear"
              }
             }
            ],
            "label": "14/02/2020",
            "method": "animate"
           }
          ]
         }
        ],
        "template": {
         "data": {
          "bar": [
           {
            "error_x": {
             "color": "#2a3f5f"
            },
            "error_y": {
             "color": "#2a3f5f"
            },
            "marker": {
             "line": {
              "color": "#E5ECF6",
              "width": 0.5
             }
            },
            "type": "bar"
           }
          ],
          "barpolar": [
           {
            "marker": {
             "line": {
              "color": "#E5ECF6",
              "width": 0.5
             }
            },
            "type": "barpolar"
           }
          ],
          "carpet": [
           {
            "aaxis": {
             "endlinecolor": "#2a3f5f",
             "gridcolor": "white",
             "linecolor": "white",
             "minorgridcolor": "white",
             "startlinecolor": "#2a3f5f"
            },
            "baxis": {
             "endlinecolor": "#2a3f5f",
             "gridcolor": "white",
             "linecolor": "white",
             "minorgridcolor": "white",
             "startlinecolor": "#2a3f5f"
            },
            "type": "carpet"
           }
          ],
          "choropleth": [
           {
            "colorbar": {
             "outlinewidth": 0,
             "ticks": ""
            },
            "type": "choropleth"
           }
          ],
          "contour": [
           {
            "colorbar": {
             "outlinewidth": 0,
             "ticks": ""
            },
            "colorscale": [
             [
              0,
              "#0d0887"
             ],
             [
              0.1111111111111111,
              "#46039f"
             ],
             [
              0.2222222222222222,
              "#7201a8"
             ],
             [
              0.3333333333333333,
              "#9c179e"
             ],
             [
              0.4444444444444444,
              "#bd3786"
             ],
             [
              0.5555555555555556,
              "#d8576b"
             ],
             [
              0.6666666666666666,
              "#ed7953"
             ],
             [
              0.7777777777777778,
              "#fb9f3a"
             ],
             [
              0.8888888888888888,
              "#fdca26"
             ],
             [
              1,
              "#f0f921"
             ]
            ],
            "type": "contour"
           }
          ],
          "contourcarpet": [
           {
            "colorbar": {
             "outlinewidth": 0,
             "ticks": ""
            },
            "type": "contourcarpet"
           }
          ],
          "heatmap": [
           {
            "colorbar": {
             "outlinewidth": 0,
             "ticks": ""
            },
            "colorscale": [
             [
              0,
              "#0d0887"
             ],
             [
              0.1111111111111111,
              "#46039f"
             ],
             [
              0.2222222222222222,
              "#7201a8"
             ],
             [
              0.3333333333333333,
              "#9c179e"
             ],
             [
              0.4444444444444444,
              "#bd3786"
             ],
             [
              0.5555555555555556,
              "#d8576b"
             ],
             [
              0.6666666666666666,
              "#ed7953"
             ],
             [
              0.7777777777777778,
              "#fb9f3a"
             ],
             [
              0.8888888888888888,
              "#fdca26"
             ],
             [
              1,
              "#f0f921"
             ]
            ],
            "type": "heatmap"
           }
          ],
          "heatmapgl": [
           {
            "colorbar": {
             "outlinewidth": 0,
             "ticks": ""
            },
            "colorscale": [
             [
              0,
              "#0d0887"
             ],
             [
              0.1111111111111111,
              "#46039f"
             ],
             [
              0.2222222222222222,
              "#7201a8"
             ],
             [
              0.3333333333333333,
              "#9c179e"
             ],
             [
              0.4444444444444444,
              "#bd3786"
             ],
             [
              0.5555555555555556,
              "#d8576b"
             ],
             [
              0.6666666666666666,
              "#ed7953"
             ],
             [
              0.7777777777777778,
              "#fb9f3a"
             ],
             [
              0.8888888888888888,
              "#fdca26"
             ],
             [
              1,
              "#f0f921"
             ]
            ],
            "type": "heatmapgl"
           }
          ],
          "histogram": [
           {
            "marker": {
             "colorbar": {
              "outlinewidth": 0,
              "ticks": ""
             }
            },
            "type": "histogram"
           }
          ],
          "histogram2d": [
           {
            "colorbar": {
             "outlinewidth": 0,
             "ticks": ""
            },
            "colorscale": [
             [
              0,
              "#0d0887"
             ],
             [
              0.1111111111111111,
              "#46039f"
             ],
             [
              0.2222222222222222,
              "#7201a8"
             ],
             [
              0.3333333333333333,
              "#9c179e"
             ],
             [
              0.4444444444444444,
              "#bd3786"
             ],
             [
              0.5555555555555556,
              "#d8576b"
             ],
             [
              0.6666666666666666,
              "#ed7953"
             ],
             [
              0.7777777777777778,
              "#fb9f3a"
             ],
             [
              0.8888888888888888,
              "#fdca26"
             ],
             [
              1,
              "#f0f921"
             ]
            ],
            "type": "histogram2d"
           }
          ],
          "histogram2dcontour": [
           {
            "colorbar": {
             "outlinewidth": 0,
             "ticks": ""
            },
            "colorscale": [
             [
              0,
              "#0d0887"
             ],
             [
              0.1111111111111111,
              "#46039f"
             ],
             [
              0.2222222222222222,
              "#7201a8"
             ],
             [
              0.3333333333333333,
              "#9c179e"
             ],
             [
              0.4444444444444444,
              "#bd3786"
             ],
             [
              0.5555555555555556,
              "#d8576b"
             ],
             [
              0.6666666666666666,
              "#ed7953"
             ],
             [
              0.7777777777777778,
              "#fb9f3a"
             ],
             [
              0.8888888888888888,
              "#fdca26"
             ],
             [
              1,
              "#f0f921"
             ]
            ],
            "type": "histogram2dcontour"
           }
          ],
          "mesh3d": [
           {
            "colorbar": {
             "outlinewidth": 0,
             "ticks": ""
            },
            "type": "mesh3d"
           }
          ],
          "parcoords": [
           {
            "line": {
             "colorbar": {
              "outlinewidth": 0,
              "ticks": ""
             }
            },
            "type": "parcoords"
           }
          ],
          "pie": [
           {
            "automargin": true,
            "type": "pie"
           }
          ],
          "scatter": [
           {
            "marker": {
             "colorbar": {
              "outlinewidth": 0,
              "ticks": ""
             }
            },
            "type": "scatter"
           }
          ],
          "scatter3d": [
           {
            "line": {
             "colorbar": {
              "outlinewidth": 0,
              "ticks": ""
             }
            },
            "marker": {
             "colorbar": {
              "outlinewidth": 0,
              "ticks": ""
             }
            },
            "type": "scatter3d"
           }
          ],
          "scattercarpet": [
           {
            "marker": {
             "colorbar": {
              "outlinewidth": 0,
              "ticks": ""
             }
            },
            "type": "scattercarpet"
           }
          ],
          "scattergeo": [
           {
            "marker": {
             "colorbar": {
              "outlinewidth": 0,
              "ticks": ""
             }
            },
            "type": "scattergeo"
           }
          ],
          "scattergl": [
           {
            "marker": {
             "colorbar": {
              "outlinewidth": 0,
              "ticks": ""
             }
            },
            "type": "scattergl"
           }
          ],
          "scattermapbox": [
           {
            "marker": {
             "colorbar": {
              "outlinewidth": 0,
              "ticks": ""
             }
            },
            "type": "scattermapbox"
           }
          ],
          "scatterpolar": [
           {
            "marker": {
             "colorbar": {
              "outlinewidth": 0,
              "ticks": ""
             }
            },
            "type": "scatterpolar"
           }
          ],
          "scatterpolargl": [
           {
            "marker": {
             "colorbar": {
              "outlinewidth": 0,
              "ticks": ""
             }
            },
            "type": "scatterpolargl"
           }
          ],
          "scatterternary": [
           {
            "marker": {
             "colorbar": {
              "outlinewidth": 0,
              "ticks": ""
             }
            },
            "type": "scatterternary"
           }
          ],
          "surface": [
           {
            "colorbar": {
             "outlinewidth": 0,
             "ticks": ""
            },
            "colorscale": [
             [
              0,
              "#0d0887"
             ],
             [
              0.1111111111111111,
              "#46039f"
             ],
             [
              0.2222222222222222,
              "#7201a8"
             ],
             [
              0.3333333333333333,
              "#9c179e"
             ],
             [
              0.4444444444444444,
              "#bd3786"
             ],
             [
              0.5555555555555556,
              "#d8576b"
             ],
             [
              0.6666666666666666,
              "#ed7953"
             ],
             [
              0.7777777777777778,
              "#fb9f3a"
             ],
             [
              0.8888888888888888,
              "#fdca26"
             ],
             [
              1,
              "#f0f921"
             ]
            ],
            "type": "surface"
           }
          ],
          "table": [
           {
            "cells": {
             "fill": {
              "color": "#EBF0F8"
             },
             "line": {
              "color": "white"
             }
            },
            "header": {
             "fill": {
              "color": "#C8D4E3"
             },
             "line": {
              "color": "white"
             }
            },
            "type": "table"
           }
          ]
         },
         "layout": {
          "annotationdefaults": {
           "arrowcolor": "#2a3f5f",
           "arrowhead": 0,
           "arrowwidth": 1
          },
          "coloraxis": {
           "colorbar": {
            "outlinewidth": 0,
            "ticks": ""
           }
          },
          "colorscale": {
           "diverging": [
            [
             0,
             "#8e0152"
            ],
            [
             0.1,
             "#c51b7d"
            ],
            [
             0.2,
             "#de77ae"
            ],
            [
             0.3,
             "#f1b6da"
            ],
            [
             0.4,
             "#fde0ef"
            ],
            [
             0.5,
             "#f7f7f7"
            ],
            [
             0.6,
             "#e6f5d0"
            ],
            [
             0.7,
             "#b8e186"
            ],
            [
             0.8,
             "#7fbc41"
            ],
            [
             0.9,
             "#4d9221"
            ],
            [
             1,
             "#276419"
            ]
           ],
           "sequential": [
            [
             0,
             "#0d0887"
            ],
            [
             0.1111111111111111,
             "#46039f"
            ],
            [
             0.2222222222222222,
             "#7201a8"
            ],
            [
             0.3333333333333333,
             "#9c179e"
            ],
            [
             0.4444444444444444,
             "#bd3786"
            ],
            [
             0.5555555555555556,
             "#d8576b"
            ],
            [
             0.6666666666666666,
             "#ed7953"
            ],
            [
             0.7777777777777778,
             "#fb9f3a"
            ],
            [
             0.8888888888888888,
             "#fdca26"
            ],
            [
             1,
             "#f0f921"
            ]
           ],
           "sequentialminus": [
            [
             0,
             "#0d0887"
            ],
            [
             0.1111111111111111,
             "#46039f"
            ],
            [
             0.2222222222222222,
             "#7201a8"
            ],
            [
             0.3333333333333333,
             "#9c179e"
            ],
            [
             0.4444444444444444,
             "#bd3786"
            ],
            [
             0.5555555555555556,
             "#d8576b"
            ],
            [
             0.6666666666666666,
             "#ed7953"
            ],
            [
             0.7777777777777778,
             "#fb9f3a"
            ],
            [
             0.8888888888888888,
             "#fdca26"
            ],
            [
             1,
             "#f0f921"
            ]
           ]
          },
          "colorway": [
           "#636efa",
           "#EF553B",
           "#00cc96",
           "#ab63fa",
           "#FFA15A",
           "#19d3f3",
           "#FF6692",
           "#B6E880",
           "#FF97FF",
           "#FECB52"
          ],
          "font": {
           "color": "#2a3f5f"
          },
          "geo": {
           "bgcolor": "white",
           "lakecolor": "white",
           "landcolor": "#E5ECF6",
           "showlakes": true,
           "showland": true,
           "subunitcolor": "white"
          },
          "hoverlabel": {
           "align": "left"
          },
          "hovermode": "closest",
          "mapbox": {
           "style": "light"
          },
          "paper_bgcolor": "white",
          "plot_bgcolor": "#E5ECF6",
          "polar": {
           "angularaxis": {
            "gridcolor": "white",
            "linecolor": "white",
            "ticks": ""
           },
           "bgcolor": "#E5ECF6",
           "radialaxis": {
            "gridcolor": "white",
            "linecolor": "white",
            "ticks": ""
           }
          },
          "scene": {
           "xaxis": {
            "backgroundcolor": "#E5ECF6",
            "gridcolor": "white",
            "gridwidth": 2,
            "linecolor": "white",
            "showbackground": true,
            "ticks": "",
            "zerolinecolor": "white"
           },
           "yaxis": {
            "backgroundcolor": "#E5ECF6",
            "gridcolor": "white",
            "gridwidth": 2,
            "linecolor": "white",
            "showbackground": true,
            "ticks": "",
            "zerolinecolor": "white"
           },
           "zaxis": {
            "backgroundcolor": "#E5ECF6",
            "gridcolor": "white",
            "gridwidth": 2,
            "linecolor": "white",
            "showbackground": true,
            "ticks": "",
            "zerolinecolor": "white"
           }
          },
          "shapedefaults": {
           "line": {
            "color": "#2a3f5f"
           }
          },
          "ternary": {
           "aaxis": {
            "gridcolor": "white",
            "linecolor": "white",
            "ticks": ""
           },
           "baxis": {
            "gridcolor": "white",
            "linecolor": "white",
            "ticks": ""
           },
           "bgcolor": "#E5ECF6",
           "caxis": {
            "gridcolor": "white",
            "linecolor": "white",
            "ticks": ""
           }
          },
          "title": {
           "x": 0.05
          },
          "xaxis": {
           "automargin": true,
           "gridcolor": "white",
           "linecolor": "white",
           "ticks": "",
           "title": {
            "standoff": 15
           },
           "zerolinecolor": "white",
           "zerolinewidth": 2
          },
          "yaxis": {
           "automargin": true,
           "gridcolor": "white",
           "linecolor": "white",
           "ticks": "",
           "title": {
            "standoff": 15
           },
           "zerolinecolor": "white",
           "zerolinewidth": 2
          }
         }
        },
        "title": {
         "text": "Novel Coronavirus Case Tracker",
         "x": 0.5
        },
        "updatemenus": [
         {
          "buttons": [
           {
            "args": [
             null,
             {
              "frame": {
               "duration": 250
              },
              "fromcurrent": true,
              "mode": "immediate",
              "transition": {
               "duration": 250,
               "easing": "linear"
              }
             }
            ],
            "label": "&#9654;",
            "method": "animate"
           },
           {
            "args": [
             [
              null
             ],
             {
              "frame": {
               "duration": 0
              },
              "fromcurrent": true,
              "mode": "immediate",
              "transition": {
               "duration": 0,
               "easing": "linear"
              }
             }
            ],
            "label": "&#9724;",
            "method": "animate"
           }
          ],
          "direction": "left",
          "showactive": false,
          "type": "buttons"
         }
        ],
        "xaxis": {
         "anchor": "y",
         "domain": [
          0,
          1
         ],
         "range": [
          0,
          35
         ],
         "visible": false
        },
        "yaxis": {
         "anchor": "x",
         "domain": [
          0,
          0.17
         ],
         "range": [
          0,
          66579
         ]
        }
       }
      }
     },
     "metadata": {}
    }
   ],
   "source": [
    "frames = []\n",
    "steps = []\n",
    "# set up colourbar tick values, ranging from 1 to the highest num. of confirmed cases for any country thus far\n",
    "max_confirmed_cases = cases_by_date[dates_list[-1]][\"confirmed_cases\"].max()\n",
    "\n",
    "# to account for the significant variance in number of cases, we want the scale to be logarithmic...\n",
    "high_tick = np.log1p(max_confirmed_cases)\n",
    "low_tick = np.log1p(1)\n",
    "log_tick_values = np.geomspace(low_tick, high_tick, num=6)\n",
    "\n",
    "# ...however, we want the /labels/ on the scale to be the actual number of cases (i.e. not log(n_cases))\n",
    "visual_tick_values = np.expm1(log_tick_values).astype(int)\n",
    "visual_tick_values[\n",
    "    -1\n",
    "] = max_confirmed_cases  # otherwise max cbar value might be max - 1 due to a rounding error\n",
    "visual_tick_values = [f\"{val:,}\" for val in visual_tick_values]\n",
    "\n",
    "# generate line chart data\n",
    "confirmed_cases_totals = df.filter(like=\"confirmedcases\").astype(\"uint32\").agg(\"sum\").to_list()\n",
    "deaths_totals = df.filter(like=\"deaths\").astype(\"uint32\").agg(\"sum\").to_list()\n",
    "\n",
    "# this loop generates the data for each frame\n",
    "for i, (date, data) in enumerate(cases_by_date.items(), start=1):\n",
    "    # to standardise the range and labels on the colourbar, we need to sneak in the min\n",
    "    # and max number of confirmed_cases\n",
    "\n",
    "    df = data\n",
    "\n",
    "    # the z-scale (for calculating the colour for each country) needs to be logarithmic\n",
    "    df[\"confirmed_cases_log\"] = np.log1p(df[\"confirmed_cases\"])\n",
    "\n",
    "    df[\"text\"] = (\n",
    "        date\n",
    "        + \"<br>\"\n",
    "        + df[\"country\"]\n",
    "        + \"<br>Confirmed cases: \"\n",
    "        + df[\"confirmed_cases\"].apply(lambda x: \"{:,}\".format(x))\n",
    "        + \"<br>Deaths: \"\n",
    "        + df[\"deaths\"].apply(lambda x: \"{:,}\".format(x))\n",
    "    )\n",
    "\n",
    "    # create the choropleth chart\n",
    "    choro_trace = go.Choropleth(\n",
    "        **{\n",
    "            \"locations\": df[\"alpha-3_code\"],\n",
    "            \"z\": df[\"confirmed_cases_log\"],\n",
    "            \"zmax\": high_tick,\n",
    "            \"zmin\": low_tick,\n",
    "            \"colorscale\": \"reds\",\n",
    "            \"colorbar\": {\n",
    "                \"ticks\": \"outside\",\n",
    "                \"ticktext\": visual_tick_values,\n",
    "                \"tickmode\": \"array\",\n",
    "                \"tickvals\": log_tick_values,\n",
    "                \"title\": {\"text\": \"<b>Confirmed Cases</b>\"},\n",
    "                \"len\": 0.8,\n",
    "                \"y\": 1,\n",
    "                \"yanchor\": \"top\"\n",
    "            },\n",
    "            \"hovertemplate\": df[\"text\"],\n",
    "            \"name\": \"\",\n",
    "            \"showlegend\": False\n",
    "        }\n",
    "    )\n",
    "    \n",
    "    # create the confirmed cases trace\n",
    "    confirmed_cases_trace = go.Scatter(\n",
    "        x=dates_list,\n",
    "        y=confirmed_cases_totals[:i],\n",
    "        mode=\"markers\" if i == 1 else \"lines\",\n",
    "        name=\"Total Confirmed Cases\",\n",
    "        line={\"color\": \"Red\"},\n",
    "        hovertemplate=\"%{x}<br>Total confirmed cases: %{y:,}<extra></extra>\"\n",
    "    )\n",
    "        \n",
    "    # create the deaths trace\n",
    "    deaths_trace = go.Scatter(\n",
    "        x=dates_list,\n",
    "        y=deaths_totals[:i],\n",
    "        mode=\"markers\" if i == 1 else \"lines\",\n",
    "        name=\"Total Deaths\",\n",
    "        line={\"color\": \"Black\"},\n",
    "        hovertemplate=\"%{x}<br>Total deaths: %{y:,}<extra></extra>\"\n",
    "    )\n",
    "\n",
    "    if i == 1:\n",
    "        # the first frame is what the figure initially shows...\n",
    "        fig.add_trace(choro_trace, row=1, col=1)\n",
    "        fig.add_traces([confirmed_cases_trace, deaths_trace], rows=[2, 2], cols=[1, 1])\n",
    "    # ...and all the other frames are appended to the `frames` list and slider\n",
    "    frames.append(dict(data=[choro_trace, confirmed_cases_trace, deaths_trace], name=date))\n",
    "\n",
    "    steps.append(\n",
    "        {\"args\": [[date], frame_args(0)], \"label\": date, \"method\": \"animate\",}\n",
    "    )\n",
    "\n",
    "fig.update_xaxes(range=[0, len(dates_list)-1], visible=False)\n",
    "fig.update_yaxes(range=[0, max_confirmed_cases])\n",
    "fig.frames = frames\n",
    "fig.layout.sliders[0].steps = steps\n",
    "fig.layout.geo.domain = {\"x\": [0,1], \"y\": [0.2, 1]}\n",
    "fig.update_layout(height=650, legend={\"x\": 0.05, \"y\": 0.175, \"yanchor\": \"top\", \"bgcolor\": \"rgba(0, 0, 0, 0)\"})\n",
    "fig"
   ]
  },
  {
   "cell_type": "code",
   "execution_count": null,
   "metadata": {},
   "outputs": [],
   "source": []
  }
 ]
}